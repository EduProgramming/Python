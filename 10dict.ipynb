{
 "cells": [
  {
   "cell_type": "markdown",
   "metadata": {},
   "source": [
    "# Dictionary, 사전형 자료형\n",
    "\n",
    "> 참고| **해시**\n",
    ">\n",
    "> Dictionary는 Hash기법을 이용해서 데이터를 저장\n",
    ">\n",
    "> 보통 딕셔너리와 같은 Key-Value 형태의 자료형을 해시, 해시 맵, 해시 테이블 등으로 부름"
   ]
  },
  {
   "cell_type": "code",
   "execution_count": 1,
   "metadata": {},
   "outputs": [
    {
     "name": "stdout",
     "output_type": "stream",
     "text": [
      "{} <class 'dict'>\n",
      "{} <class 'dict'>\n"
     ]
    }
   ],
   "source": [
    "# 빈 딕셔너리 생성\n",
    "data = dict()\n",
    "print(data, type(data))\n",
    "\n",
    "data = {} # key: value\n",
    "print(data, type(data))"
   ]
  },
  {
   "cell_type": "code",
   "execution_count": 2,
   "metadata": {},
   "outputs": [
    {
     "name": "stdout",
     "output_type": "stream",
     "text": [
      "{'key': 'value', 'key1': 1, 'key2': 2} <class 'dict'>\n"
     ]
    }
   ],
   "source": [
    "data = {'key': 'value', 'key1': 1, 'key2': 2}\n",
    "print(data, type(data))"
   ]
  },
  {
   "cell_type": "code",
   "execution_count": 3,
   "metadata": {},
   "outputs": [
    {
     "data": {
      "text/plain": [
       "'value'"
      ]
     },
     "execution_count": 3,
     "metadata": {},
     "output_type": "execute_result"
    }
   ],
   "source": [
    "data['key'] #딕셔너리객체[키값] => 딕셔너리객체의 값"
   ]
  },
  {
   "cell_type": "code",
   "execution_count": 4,
   "metadata": {},
   "outputs": [
    {
     "name": "stdout",
     "output_type": "stream",
     "text": [
      "{'key': '값 넣기', 'key1': 123} <class 'dict'>\n"
     ]
    }
   ],
   "source": [
    "data = {}\n",
    "data['key'] = '값 넣기'\n",
    "data['key1'] = 123\n",
    "\n",
    "print(data, type(data))"
   ]
  },
  {
   "cell_type": "code",
   "execution_count": 5,
   "metadata": {},
   "outputs": [
    {
     "name": "stdout",
     "output_type": "stream",
     "text": [
      "{'key': 'value', 'key1': 123} <class 'dict'>\n"
     ]
    }
   ],
   "source": [
    "data['key'] = 'value'\n",
    "print(data, type(data))"
   ]
  },
  {
   "cell_type": "code",
   "execution_count": 6,
   "metadata": {},
   "outputs": [
    {
     "name": "stdout",
     "output_type": "stream",
     "text": [
      "{'key': 'value'} <class 'dict'>\n"
     ]
    }
   ],
   "source": [
    "del data['key1']\n",
    "print(data, type(data))"
   ]
  },
  {
   "cell_type": "code",
   "execution_count": 7,
   "metadata": {},
   "outputs": [],
   "source": [
    "data = {'k1': 1, 'k2': 2, 'k3': 3, 'k4': 4, 'k5': 5}"
   ]
  },
  {
   "cell_type": "markdown",
   "metadata": {},
   "source": [
    "### keys()\n",
    "\n",
    "딕셔너리의 키값들을 반환합니다.\n",
    "\n",
    "`dict_data.keys()`"
   ]
  },
  {
   "cell_type": "code",
   "execution_count": 8,
   "metadata": {},
   "outputs": [
    {
     "name": "stdout",
     "output_type": "stream",
     "text": [
      "dict_keys(['k1', 'k2', 'k3', 'k4', 'k5'])\n",
      "<class 'dict_keys'>\n"
     ]
    }
   ],
   "source": [
    "print(data.keys())\n",
    "print(type(data.keys()))"
   ]
  },
  {
   "cell_type": "code",
   "execution_count": 9,
   "metadata": {},
   "outputs": [
    {
     "name": "stdout",
     "output_type": "stream",
     "text": [
      "k1\n",
      "k2\n",
      "k3\n",
      "k4\n",
      "k5\n"
     ]
    }
   ],
   "source": [
    "for key in data.keys():\n",
    "    print(key)"
   ]
  },
  {
   "cell_type": "markdown",
   "metadata": {},
   "source": [
    "### values()\n",
    "\n",
    "딕셔너리의 값들을 반환합니다.\n",
    "\n",
    "`dict_data.values()`"
   ]
  },
  {
   "cell_type": "code",
   "execution_count": 10,
   "metadata": {},
   "outputs": [
    {
     "name": "stdout",
     "output_type": "stream",
     "text": [
      "dict_values([1, 2, 3, 4, 5])\n",
      "<class 'dict_values'>\n"
     ]
    }
   ],
   "source": [
    "print(data.values())\n",
    "print(type(data.values()))"
   ]
  },
  {
   "cell_type": "code",
   "execution_count": 11,
   "metadata": {},
   "outputs": [
    {
     "name": "stdout",
     "output_type": "stream",
     "text": [
      "1\n",
      "2\n",
      "3\n",
      "4\n",
      "5\n"
     ]
    }
   ],
   "source": [
    "for value in data.values():\n",
    "    print(value)"
   ]
  },
  {
   "cell_type": "markdown",
   "metadata": {},
   "source": [
    "### items()\n",
    "\n",
    "딕셔너리의 키, 값들을 반환\n",
    "\n",
    "`dict_data.items()`"
   ]
  },
  {
   "cell_type": "code",
   "execution_count": 12,
   "metadata": {},
   "outputs": [
    {
     "name": "stdout",
     "output_type": "stream",
     "text": [
      "k1 1\n",
      "k2 2\n",
      "k3 3\n",
      "k4 4\n",
      "k5 5\n"
     ]
    }
   ],
   "source": [
    "for key, value in data.items():\n",
    "    print(key, value)"
   ]
  },
  {
   "cell_type": "markdown",
   "metadata": {},
   "source": [
    "### clear()\n",
    "\n",
    "clear함수는 딕셔너리 안의 모든 요소를 삭제\n",
    "\n",
    "`dict_data.clear()`"
   ]
  },
  {
   "cell_type": "code",
   "execution_count": 13,
   "metadata": {},
   "outputs": [
    {
     "name": "stdout",
     "output_type": "stream",
     "text": [
      "{}\n"
     ]
    }
   ],
   "source": [
    "data.clear()\n",
    "print(data)"
   ]
  },
  {
   "cell_type": "code",
   "execution_count": 14,
   "metadata": {},
   "outputs": [
    {
     "ename": "KeyError",
     "evalue": "'Python'",
     "output_type": "error",
     "traceback": [
      "\u001b[1;31m---------------------------------------------------------------------------\u001b[0m",
      "\u001b[1;31mKeyError\u001b[0m                                  Traceback (most recent call last)",
      "\u001b[1;32m<ipython-input-14-ae53ad6bdbd6>\u001b[0m in \u001b[0;36m<module>\u001b[1;34m\u001b[0m\n\u001b[0;32m      5\u001b[0m }\n\u001b[0;32m      6\u001b[0m \u001b[1;33m\u001b[0m\u001b[0m\n\u001b[1;32m----> 7\u001b[1;33m \u001b[0mprint\u001b[0m\u001b[1;33m(\u001b[0m\u001b[0mdata\u001b[0m\u001b[1;33m[\u001b[0m\u001b[1;34m'Python'\u001b[0m\u001b[1;33m]\u001b[0m\u001b[1;33m)\u001b[0m\u001b[1;33m\u001b[0m\u001b[1;33m\u001b[0m\u001b[0m\n\u001b[0m",
      "\u001b[1;31mKeyError\u001b[0m: 'Python'"
     ]
    }
   ],
   "source": [
    "data = {\n",
    "    '파이썬': 'Python',\n",
    "    '자바': 'Java',\n",
    "    '씨': 'C'\n",
    "}\n",
    "\n",
    "print(data['Python'])"
   ]
  },
  {
   "cell_type": "markdown",
   "metadata": {},
   "source": [
    "### get\n",
    "\n",
    "get함수는 딕셔너리 키값을 이용해서 값을 반환\n",
    "\n",
    "`dict_data.get(키값)`"
   ]
  },
  {
   "cell_type": "code",
   "execution_count": 15,
   "metadata": {},
   "outputs": [
    {
     "name": "stdout",
     "output_type": "stream",
     "text": [
      "{'파이썬': 'Python', '자바': 'Java', '씨': 'C'}\n",
      "Python\n",
      "Python\n",
      "None\n"
     ]
    }
   ],
   "source": [
    "print(data)\n",
    "\n",
    "print(data['파이썬'])\n",
    "print(data.get('파이썬'))\n",
    "\n",
    "print(data.get('Python'))"
   ]
  },
  {
   "cell_type": "markdown",
   "metadata": {},
   "source": [
    "#### None\n",
    "\n",
    "None자료형 : 아무것도 없는 상태를 나타내는 자료형"
   ]
  },
  {
   "cell_type": "code",
   "execution_count": 16,
   "metadata": {},
   "outputs": [
    {
     "name": "stdout",
     "output_type": "stream",
     "text": [
      "False\n",
      "False\n",
      "True\n"
     ]
    }
   ],
   "source": [
    "print('Python' in data)\n",
    "print('python' in data)\n",
    "print('파이썬' in data)"
   ]
  },
  {
   "cell_type": "markdown",
   "metadata": {},
   "source": [
    "## 심화\n",
    "```python\n",
    "data = {'1': 1, '2': 2}\n",
    "```"
   ]
  },
  {
   "cell_type": "code",
   "execution_count": 17,
   "metadata": {},
   "outputs": [
    {
     "name": "stdout",
     "output_type": "stream",
     "text": [
      "{'1': '일', '2': 2}\n"
     ]
    }
   ],
   "source": [
    "data = {'1': 1, '2': 2}\n",
    "\n",
    "data['1'] = '일'\n",
    "\n",
    "print(data) # Mutable 수정가능객체(가변객체)"
   ]
  },
  {
   "cell_type": "code",
   "execution_count": 18,
   "metadata": {},
   "outputs": [
    {
     "name": "stdout",
     "output_type": "stream",
     "text": [
      "{(1, 2, 3): [1, 2, 3]}\n"
     ]
    }
   ],
   "source": [
    "data = {(1,2,3): [1,2,3]}\n",
    "\n",
    "print(data)"
   ]
  },
  {
   "cell_type": "markdown",
   "metadata": {},
   "source": [
    "딕셔너리의 키값에 들어갈 수 있는 값은 -> Immutable, 불변객체"
   ]
  },
  {
   "cell_type": "code",
   "execution_count": 19,
   "metadata": {},
   "outputs": [
    {
     "ename": "TypeError",
     "evalue": "unhashable type: 'dict'",
     "output_type": "error",
     "traceback": [
      "\u001b[1;31m---------------------------------------------------------------------------\u001b[0m",
      "\u001b[1;31mTypeError\u001b[0m                                 Traceback (most recent call last)",
      "\u001b[1;32m<ipython-input-19-bb70aaa915fc>\u001b[0m in \u001b[0;36m<module>\u001b[1;34m\u001b[0m\n\u001b[1;32m----> 1\u001b[1;33m \u001b[0mdata\u001b[0m \u001b[1;33m=\u001b[0m \u001b[1;33m{\u001b[0m\u001b[1;33m{\u001b[0m\u001b[1;34m'1'\u001b[0m\u001b[1;33m:\u001b[0m \u001b[1;36m1\u001b[0m\u001b[1;33m}\u001b[0m\u001b[1;33m:\u001b[0m \u001b[1;36m1\u001b[0m\u001b[1;33m}\u001b[0m\u001b[1;33m\u001b[0m\u001b[1;33m\u001b[0m\u001b[0m\n\u001b[0m\u001b[0;32m      2\u001b[0m \u001b[1;33m\u001b[0m\u001b[0m\n\u001b[0;32m      3\u001b[0m \u001b[0mprint\u001b[0m\u001b[1;33m(\u001b[0m\u001b[0mdata\u001b[0m\u001b[1;33m)\u001b[0m\u001b[1;33m\u001b[0m\u001b[1;33m\u001b[0m\u001b[0m\n",
      "\u001b[1;31mTypeError\u001b[0m: unhashable type: 'dict'"
     ]
    }
   ],
   "source": [
    "data = {{'1': 1}: 1}\n",
    "\n",
    "print(data)"
   ]
  },
  {
   "cell_type": "markdown",
   "metadata": {},
   "source": [
    "## 실습1.\n",
    "\n",
    "혈액형이 리스트로 주어졌을때 딕셔너리로 변환하여 각 혈액형이 몇 명이 있는지 파악하기 쉽게 해주세요.\n",
    "\n",
    "예시. ['A', 'B', 'AB', 'A', 'O', 'AB', 'B', 'O', 'O', 'AB', 'O', 'B', 'AB', 'A', 'A', 'A', 'B', 'O', 'A']"
   ]
  },
  {
   "cell_type": "code",
   "execution_count": 20,
   "metadata": {},
   "outputs": [
    {
     "name": "stdout",
     "output_type": "stream",
     "text": [
      "{'A': 6, 'B': 4, 'AB': 4, 'O': 5}\n"
     ]
    }
   ],
   "source": [
    "list_data = ['A', 'B', 'AB', 'A', 'O', 'AB', 'B', 'O', 'O', 'AB', 'O', 'B', 'AB', 'A', 'A', 'A', 'B', 'O', 'A']\n",
    "# A B O AB\n",
    "# 6 4 5 4\n",
    "\n",
    "dict_data = dict()\n",
    "\n",
    "bloods= ['A', 'B', 'O', 'AB']\n",
    "# for blood in bloods:\n",
    "#     dict_data[blood] = list_data.count(blood)\n",
    "\n",
    "# print(dict_data)\n",
    "\n",
    "for blood in list_data:\n",
    "    if blood in dict_data:\n",
    "        dict_data[blood] += 1\n",
    "    else:\n",
    "        dict_data[blood] = 1\n",
    "        \n",
    "print(dict_data)"
   ]
  }
 ],
 "metadata": {
  "kernelspec": {
   "display_name": "Python 3",
   "language": "python",
   "name": "python3"
  },
  "language_info": {
   "codemirror_mode": {
    "name": "ipython",
    "version": 3
   },
   "file_extension": ".py",
   "mimetype": "text/x-python",
   "name": "python",
   "nbconvert_exporter": "python",
   "pygments_lexer": "ipython3",
   "version": "3.8.3"
  }
 },
 "nbformat": 4,
 "nbformat_minor": 4
}
