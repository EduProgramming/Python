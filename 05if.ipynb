{
 "cells": [
  {
   "cell_type": "markdown",
   "metadata": {},
   "source": [
    "# 가정문, IF"
   ]
  },
  {
   "cell_type": "code",
   "execution_count": 1,
   "metadata": {},
   "outputs": [
    {
     "name": "stdout",
     "output_type": "stream",
     "text": [
      "5는 2보다 큽니다.\n",
      "안녕하세요\n"
     ]
    }
   ],
   "source": [
    "# if 사용법\n",
    "if (5 > 2):\n",
    "    print('5는 2보다 큽니다.')\n",
    "    print('안녕하세요')\n",
    "# PEP8\n",
    "# Intent 띄어쓰기"
   ]
  },
  {
   "cell_type": "code",
   "execution_count": 2,
   "metadata": {},
   "outputs": [
    {
     "name": "stdout",
     "output_type": "stream",
     "text": [
      "거짓\n"
     ]
    }
   ],
   "source": [
    "# if ~ else\n",
    "\n",
    "if (5 == 2):\n",
    "    print('사실')\n",
    "else:\n",
    "    print('거짓')"
   ]
  },
  {
   "cell_type": "markdown",
   "metadata": {},
   "source": [
    "```python\n",
    "if (조건식):\n",
    "    실행 내용A\n",
    "else:\n",
    "    실행 내용B\n",
    "```"
   ]
  },
  {
   "cell_type": "code",
   "execution_count": 3,
   "metadata": {},
   "outputs": [
    {
     "name": "stdout",
     "output_type": "stream",
     "text": [
      "거짓\n"
     ]
    }
   ],
   "source": [
    "if 5 == 2 :\n",
    "    print('사실')\n",
    "else :\n",
    "    print('거짓')"
   ]
  },
  {
   "cell_type": "code",
   "execution_count": 4,
   "metadata": {},
   "outputs": [
    {
     "name": "stdout",
     "output_type": "stream",
     "text": [
      "중간\n"
     ]
    }
   ],
   "source": [
    "# if ~ elif ~ else\n",
    "if (5 == 2):\n",
    "    print('사실')\n",
    "elif (5 == 5):\n",
    "    print('중간')\n",
    "else:\n",
    "    print('나머지')"
   ]
  },
  {
   "cell_type": "markdown",
   "metadata": {},
   "source": [
    "## 심화\n",
    "\n",
    "**삼항 연산자**\n",
    "\n",
    "`조건식? 참이되면 가질 값 : 거짓이면 가질 값`\n",
    "\n",
    "```python\n",
    "변수 = 참이되면 가질 값 if 조건식 else 거짓이 되면 가질 값\n",
    "```"
   ]
  },
  {
   "cell_type": "code",
   "execution_count": 5,
   "metadata": {},
   "outputs": [
    {
     "name": "stdout",
     "output_type": "stream",
     "text": [
      "5\n"
     ]
    }
   ],
   "source": [
    "value = 5 if 5 > 2 else 2\n",
    "print(value)"
   ]
  },
  {
   "cell_type": "code",
   "execution_count": 6,
   "metadata": {},
   "outputs": [
    {
     "name": "stdout",
     "output_type": "stream",
     "text": [
      "2\n"
     ]
    }
   ],
   "source": [
    "print(5 if 5 == 2 else 2)"
   ]
  }
 ],
 "metadata": {
  "kernelspec": {
   "display_name": "Python 3",
   "language": "python",
   "name": "python3"
  },
  "language_info": {
   "codemirror_mode": {
    "name": "ipython",
    "version": 3
   },
   "file_extension": ".py",
   "mimetype": "text/x-python",
   "name": "python",
   "nbconvert_exporter": "python",
   "pygments_lexer": "ipython3",
   "version": "3.8.3"
  }
 },
 "nbformat": 4,
 "nbformat_minor": 4
}
