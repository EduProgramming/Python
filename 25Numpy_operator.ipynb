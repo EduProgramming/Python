{
 "cells": [
  {
   "cell_type": "markdown",
   "metadata": {},
   "source": [
    "# 배열 연산\n",
    "\n",
    "### 1. sum()\n",
    "\n",
    "배열의 원소들의 총합을 구하려면 sum을 이용할 수 있습니다.\n",
    "\n",
    "2차원 이상이 되었을 때부터는 `axis`를 통해서 축을 정해줄 수 있습니다."
   ]
  },
  {
   "cell_type": "code",
   "execution_count": 1,
   "metadata": {},
   "outputs": [
    {
     "name": "stdout",
     "output_type": "stream",
     "text": [
      "6\n",
      "21\n"
     ]
    }
   ],
   "source": [
    "import numpy as np\n",
    "\n",
    "arr = np.array([1, 2, 3])\n",
    "\n",
    "print(np.sum(arr))\n",
    "\n",
    "arr = np.array([[1,2,3], [4,5,6]])\n",
    "\n",
    "print(np.sum(arr))"
   ]
  },
  {
   "cell_type": "markdown",
   "metadata": {},
   "source": [
    "### 2. max()\n",
    "\n",
    "축을 따라 최댓값을 반환합니다.\n",
    "\n",
    "2차원 이상이 되었을 때부터는 `axis`를 통해서 축을 정해줄 수 있습니다."
   ]
  },
  {
   "cell_type": "code",
   "execution_count": 2,
   "metadata": {},
   "outputs": [
    {
     "name": "stdout",
     "output_type": "stream",
     "text": [
      "3\n",
      "6\n",
      "6\n",
      "[7 8 9]\n",
      "[3 6 9]\n",
      "9\n"
     ]
    }
   ],
   "source": [
    "arr = np.array([1, 2, 3])\n",
    "\n",
    "print(np.max(arr))\n",
    "\n",
    "arr = np.array([[1,2,3], [4,5,6]])\n",
    "\n",
    "print(np.max(arr))\n",
    "print(arr.max())\n",
    "\n",
    "\n",
    "data = [[1,2,3], [4,5,6], [7,8,9]]\n",
    "arr = np.array(data)\n",
    "print(np.max(arr, axis=0))\n",
    "print(np.max(arr, axis=1))\n",
    "print(arr.max())"
   ]
  },
  {
   "cell_type": "markdown",
   "metadata": {},
   "source": [
    "### 3. min()\n",
    "\n",
    "축을 따라 최솟값을 반환합니다."
   ]
  },
  {
   "cell_type": "code",
   "execution_count": 3,
   "metadata": {},
   "outputs": [
    {
     "name": "stdout",
     "output_type": "stream",
     "text": [
      "1\n",
      "1\n",
      "1\n",
      "[1 2 3]\n",
      "[1 4 7]\n",
      "1\n"
     ]
    }
   ],
   "source": [
    "arr = np.array([1, 2, 3])\n",
    "\n",
    "print(np.min(arr))\n",
    "\n",
    "arr = np.array([[1,2,3], [4,5,6]])\n",
    "\n",
    "print(np.min(arr))\n",
    "print(arr.min())\n",
    "\n",
    "\n",
    "data = [[1,2,3], [4,5,6], [7,8,9]]\n",
    "arr = np.array(data)\n",
    "print(np.min(arr, axis=0))\n",
    "print(np.min(arr, axis=1))\n",
    "print(arr.min())"
   ]
  },
  {
   "cell_type": "markdown",
   "metadata": {},
   "source": [
    "### 4. mean()\n",
    "\n",
    "`mean()` 함수는 지정된 축을 따라 산술 평균을 계산합니다."
   ]
  },
  {
   "cell_type": "code",
   "execution_count": 4,
   "metadata": {},
   "outputs": [
    {
     "name": "stdout",
     "output_type": "stream",
     "text": [
      "2.0\n",
      "3.5\n",
      "3.5\n",
      "[4. 5. 6.]\n",
      "[2. 5. 8.]\n",
      "5.0\n"
     ]
    }
   ],
   "source": [
    "arr = np.array([1, 2, 3])\n",
    "\n",
    "print(np.mean(arr))\n",
    "\n",
    "arr = np.array([[1,2,3], [4,5,6]])\n",
    "\n",
    "print(np.mean(arr))\n",
    "print(arr.mean())\n",
    "\n",
    "\n",
    "data = [[1,2,3], [4,5,6], [7,8,9]]\n",
    "arr = np.array(data)\n",
    "print(np.mean(arr, axis=0))\n",
    "print(np.mean(arr, axis=1))\n",
    "print(arr.mean())"
   ]
  },
  {
   "cell_type": "markdown",
   "metadata": {},
   "source": [
    "### 5. std()\n",
    "\n",
    "`std()` 함수는 지정된 축을 따라 표준 편차를 계산합니다."
   ]
  },
  {
   "cell_type": "code",
   "execution_count": 5,
   "metadata": {},
   "outputs": [
    {
     "name": "stdout",
     "output_type": "stream",
     "text": [
      "0.816496580927726\n",
      "1.707825127659933\n",
      "1.707825127659933\n",
      "[2.44948974 2.44948974 2.44948974]\n",
      "[0.81649658 0.81649658 0.81649658]\n",
      "2.581988897471611\n"
     ]
    }
   ],
   "source": [
    "arr = np.array([1, 2, 3])\n",
    "\n",
    "print(np.std(arr))\n",
    "\n",
    "arr = np.array([[1,2,3], [4,5,6]])\n",
    "\n",
    "print(np.std(arr))\n",
    "print(arr.std())\n",
    "\n",
    "\n",
    "data = [[1,2,3], [4,5,6], [7,8,9]]\n",
    "arr = np.array(data)\n",
    "print(np.std(arr, axis=0))\n",
    "print(np.std(arr, axis=1))\n",
    "print(arr.std())"
   ]
  },
  {
   "cell_type": "markdown",
   "metadata": {},
   "source": [
    "### 6. prod()\n",
    "\n",
    "`prod()`함수는 주어진 축에서 배열 요소의 곱을 반환합니다."
   ]
  },
  {
   "cell_type": "code",
   "execution_count": 6,
   "metadata": {},
   "outputs": [
    {
     "name": "stdout",
     "output_type": "stream",
     "text": [
      "6\n",
      "720\n",
      "720\n",
      "[ 28  80 162]\n",
      "[  6 120 504]\n",
      "362880\n"
     ]
    }
   ],
   "source": [
    "arr = np.array([1, 2, 3])\n",
    "\n",
    "print(np.prod(arr))\n",
    "\n",
    "arr = np.array([[1,2,3], [4,5,6]])\n",
    "\n",
    "print(np.prod(arr))\n",
    "print(arr.prod())\n",
    "\n",
    "\n",
    "data = [[1,2,3], [4,5,6], [7,8,9]]\n",
    "arr = np.array(data)\n",
    "print(np.prod(arr, axis=0))\n",
    "print(np.prod(arr, axis=1))\n",
    "print(arr.prod())"
   ]
  },
  {
   "cell_type": "markdown",
   "metadata": {},
   "source": [
    "### 7. dot()\n",
    "\n",
    "`dot()`함수는 두 배열의 내적을 구해줍니다."
   ]
  },
  {
   "cell_type": "code",
   "execution_count": 7,
   "metadata": {},
   "outputs": [
    {
     "name": "stdout",
     "output_type": "stream",
     "text": [
      "[[ 4  9]\n",
      " [ 8 15]]\n"
     ]
    }
   ],
   "source": [
    "arr1 = np.array([[2,3], [4,5]])\n",
    "arr2 = np.array([[2,0], [0,3]])\n",
    "print(arr1.dot(arr2))"
   ]
  },
  {
   "cell_type": "markdown",
   "metadata": {},
   "source": [
    "### 8. np.matmul()\n",
    "\n",
    "`np.matmul()` 함수는 두 배열의 행렬 곱을 구해줍니다."
   ]
  },
  {
   "cell_type": "code",
   "execution_count": 8,
   "metadata": {},
   "outputs": [
    {
     "name": "stdout",
     "output_type": "stream",
     "text": [
      "[[ 4  9]\n",
      " [ 8 15]]\n"
     ]
    }
   ],
   "source": [
    "arr1 = np.array([[2,3], [4,5]])\n",
    "arr2 = np.array([[2,0], [0,3]])\n",
    "print(np.matmul(arr1, arr2))"
   ]
  },
  {
   "cell_type": "markdown",
   "metadata": {},
   "source": [
    "<sub>**심화]**</sub>\n",
    "<div style=\"border-left-style: solid;\n",
    "  border-left-color: coral;\n",
    "  padding-left: 10px;\">\n",
    "    <strong>dot 함수</strong><br/>\n",
    "    dot함수에 대해서 조금 더 알아보도록 하겠습니다.<br/>\n",
    "    dot 함수를 이해하기 위해서는 document를 보는 것이 최적입니다.<br/>\n",
    "    <a href=\"https://numpy.org/doc/stable/reference/generated/numpy.dot.html\">https://numpy.org/doc/stable/reference/generated/numpy.dot.html</a>\n",
    "</div>"
   ]
  },
  {
   "cell_type": "markdown",
   "metadata": {},
   "source": [
    "- If either a or b is 0-D (scalar), it is equivalent to multiply and using numpy.multiply(a, b) or a * b is preferred.\n",
    "\n",
    "> 번역]\n",
    ">\n",
    "> a 또는 b가 0차원(스칼라)이면 곱하는 것과 동일하며 numpy.multiply(a, b) 또는 a * b를 사용하는 것이 선호됩니다.\n",
    "\n",
    "- If both a and b are 1-D arrays, it is inner product of vectors (without complex conjugation).\n",
    "\n",
    "> 번역]\n",
    ">\n",
    "> a와 b가 모두 1차원 배열이면 벡터의 내적입니다(복소수 켤레 없음).\n",
    "\n",
    "- If both a and b are 2-D arrays, it is matrix multiplication, but using matmul or a @ b is preferred.\n",
    "\n",
    "> 번역]\n",
    ">\n",
    "> a와 b가 모두 2차원 배열이면 행렬 곱셈이지만 matmul이나 a @ b를 사용하는 것이 좋습니다.\n",
    "\n",
    "- If a is an N-D array and b is a 1-D array, it is a sum product over the last axis of a and b.\n",
    "\n",
    "> 번역]\n",
    ">\n",
    "> a가 N차원 배열이고 b가 1차원 배열이면 a와 b의 마지막 축에 대한 합입니다.\n",
    "\n",
    "- If a is an N-D array and b is an M-D array (where M>=2), it is a sum product over the last axis of a and the second-to-last axis of b\n",
    "\n",
    "> 번역]\n",
    ">\n",
    "> a가 N차원 배열이고 b가 M차원 배열이면(여기서 M>=2) a의 마지막 축과 b의 마지막에서 두 번째 축에 대한 합입니다."
   ]
  },
  {
   "cell_type": "code",
   "execution_count": 9,
   "metadata": {},
   "outputs": [
    {
     "name": "stdout",
     "output_type": "stream",
     "text": [
      "[[[ 0  1  2  3]\n",
      "  [ 4  5  6  7]\n",
      "  [ 8  9 10 11]]\n",
      "\n",
      " [[12 13 14 15]\n",
      "  [16 17 18 19]\n",
      "  [20 21 22 23]]]\n",
      "[[[23 22 21]\n",
      "  [20 19 18]\n",
      "  [17 16 15]\n",
      "  [14 13 12]]\n",
      "\n",
      " [[11 10  9]\n",
      "  [ 8  7  6]\n",
      "  [ 5  4  3]\n",
      "  [ 2  1  0]]]\n",
      "(2, 3, 4)\n",
      "(2, 4, 3)\n",
      "(2, 3, 2, 3)\n",
      "[[[[  96   90   84]\n",
      "   [  24   18   12]]\n",
      "\n",
      "  [[ 392  370  348]\n",
      "   [ 128  106   84]]\n",
      "\n",
      "  [[ 688  650  612]\n",
      "   [ 232  194  156]]]\n",
      "\n",
      "\n",
      " [[[ 984  930  876]\n",
      "   [ 336  282  228]]\n",
      "\n",
      "  [[1280 1210 1140]\n",
      "   [ 440  370  300]]\n",
      "\n",
      "  [[1576 1490 1404]\n",
      "   [ 544  458  372]]]]\n"
     ]
    }
   ],
   "source": [
    "arr1 = np.arange(2*3*4).reshape((2,3,4))\n",
    "arr2 = np.arange(2*3*4)[::-1].reshape((2,4,3)) # 2, 3, 4로 dot 진행시에 마지막 정의에 틀리기에 ValueError\n",
    "\n",
    "print(arr1)\n",
    "print(arr2)\n",
    "\n",
    "print(arr1.shape)\n",
    "print(arr2.shape)\n",
    "\n",
    "result = arr1.dot(arr2)\n",
    "print(result.shape)\n",
    "print(result)"
   ]
  },
  {
   "cell_type": "markdown",
   "metadata": {},
   "source": [
    "![dot_func01](./assets/numpy_dot01.png)\n",
    "\n",
    "![dot_func02](./assets/numpy_dot02.png)"
   ]
  },
  {
   "cell_type": "markdown",
   "metadata": {},
   "source": [
    "<sub>**심화]**</sub>\n",
    "<div style=\"border-left-style: solid;\n",
    "  border-left-color: coral;\n",
    "  padding-left: 10px;\">\n",
    "    <strong>dot와 matmul 차이</strong><br/>\n",
    "    matmul함수는 스칼라에에 의한 곱셈은 허용되지 않습니다. (대신, * 연산자를 사용해주세요.)<br/>\n",
    "    shape(n,k)와 shape(k,m)을 matmul하면 (n,m)의 shape을 가진 배열이 나옵니다.<br/>\n",
    "</div>"
   ]
  },
  {
   "cell_type": "code",
   "execution_count": 10,
   "metadata": {},
   "outputs": [
    {
     "name": "stdout",
     "output_type": "stream",
     "text": [
      "dot Func Shape: (9, 5, 7, 9, 5, 3)\n",
      "dot Func Shape: (9, 5, 7, 3)\n"
     ]
    }
   ],
   "source": [
    "# 3차원 이상의 배열 dot와 matmul의 shape 차이\n",
    "\n",
    "arr1 = np.ones([9, 5, 7, 4])\n",
    "arr2 = np.ones([9, 5, 4, 3])\n",
    "# dot와 동일하게 A배열의 마지막 축의 값과 B의 마지막에서 두번째 축의 값이 같아야함\n",
    "\n",
    "print(f\"dot Func Shape: {arr1.dot(arr2).shape}\") # (9, 5, 7, 9, 5, 3)\n",
    "print(f\"dot Func Shape: {np.matmul(arr1, arr2).shape}\") # (9, 5, 7, 3)"
   ]
  },
  {
   "cell_type": "code",
   "execution_count": null,
   "metadata": {},
   "outputs": [],
   "source": []
  }
 ],
 "metadata": {
  "kernelspec": {
   "display_name": "Python 3",
   "language": "python",
   "name": "python3"
  },
  "language_info": {
   "codemirror_mode": {
    "name": "ipython",
    "version": 3
   },
   "file_extension": ".py",
   "mimetype": "text/x-python",
   "name": "python",
   "nbconvert_exporter": "python",
   "pygments_lexer": "ipython3",
   "version": "3.7.7"
  }
 },
 "nbformat": 4,
 "nbformat_minor": 4
}
