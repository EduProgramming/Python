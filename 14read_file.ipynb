{
 "cells": [
  {
   "cell_type": "markdown",
   "id": "6328a992",
   "metadata": {},
   "source": [
    "# 파일 입출력\n",
    "\n",
    "파일을 입출력 방법에 대해 알아보도록 하겠습니다.\n"
   ]
  },
  {
   "cell_type": "markdown",
   "id": "13c48c4d",
   "metadata": {},
   "source": [
    "## 1. txt 파일\n",
    "\n",
    "텍스트 파일 데이터 입출력\n",
    "\n",
    "### 파일 모드\n",
    "\n",
    "| 명령어 | 설명                          | 비고             |\n",
    "| :----: | :---------------------------- | :--------------- |\n",
    "|   r    | 읽기                          |                  |\n",
    "|   w    | 쓰기: 파일 내용 지움          |                  |\n",
    "|   a    | 쓰기: 파일 끝에 추가          |                  |\n",
    "|   x    | 쓰기: 파일이 있으면 에러      |                  |\n",
    "|   w+   | 읽기/쓰기: 파일의 내용 버림   | 파일 내용 버림   |\n",
    "|   r+   | 읽기/쓰기: 파일 처음부터 쓰기 | 파일 내용 유지   |\n",
    "|   a+   | 읽기/쓰기: 파일 끝부터 쓰기   | 파일 내용 유지   |\n",
    "|   x+   | 읽기/쓰기: 파일이 있으면 에러 | 파일 있으면 에러 |\n",
    "\n"
   ]
  },
  {
   "cell_type": "markdown",
   "id": "635a52f4",
   "metadata": {},
   "source": [
    "### Read"
   ]
  },
  {
   "cell_type": "code",
   "execution_count": 1,
   "id": "a32c7ecc",
   "metadata": {},
   "outputs": [
    {
     "name": "stdout",
     "output_type": "stream",
     "text": [
      "Hello, Python\n",
      "\n",
      "안녕, 파이썬\n",
      "\n"
     ]
    }
   ],
   "source": [
    "# 한줄 읽기\n",
    "f = open(\"./assets/test.txt\", \"r\", encoding=\"utf-8\")\n",
    "\n",
    "while True:\n",
    "    data = f.readline()\n",
    "    if not data:\n",
    "        break\n",
    "    print(data)\n",
    "    \n",
    "f.close()"
   ]
  },
  {
   "cell_type": "code",
   "execution_count": 2,
   "id": "abb36b41",
   "metadata": {},
   "outputs": [
    {
     "name": "stdout",
     "output_type": "stream",
     "text": [
      "Hello, Python\n",
      "\n",
      "안녕, 파이썬\n",
      "\n"
     ]
    }
   ],
   "source": [
    "# 여러줄 읽기\n",
    "f = open(\"./assets/test.txt\", \"r\", encoding=\"utf-8\")\n",
    "\n",
    "data = f.readlines()\n",
    "for line in data:\n",
    "    print(line)\n",
    "\n",
    "f.close()"
   ]
  },
  {
   "cell_type": "markdown",
   "id": "0dd6c75d",
   "metadata": {},
   "source": [
    "### write"
   ]
  },
  {
   "cell_type": "code",
   "execution_count": 3,
   "id": "0a4217a4",
   "metadata": {},
   "outputs": [],
   "source": [
    "# 한줄 쓰기\n",
    "f = open(\"./assets/test.txt\", \"w\", encoding=\"utf-8\")\n",
    "\n",
    "f.write(\"확인해보기\")\n",
    "\n",
    "f.close()\n",
    "\n",
    "# 텍스트 파일을 통해서 값 확인해보기"
   ]
  },
  {
   "cell_type": "code",
   "execution_count": 4,
   "id": "7cb3216c",
   "metadata": {},
   "outputs": [],
   "source": [
    "# 여러줄 쓰기\n",
    "f = open(\"./assets/test.txt\", \"w\", encoding=\"utf-8\")\n",
    "\n",
    "list_data = [\"Hello, Python\\n\", \"안녕, 파이썬\\n\"]\n",
    "f.writelines(list_data)\n",
    "\n",
    "f.close()"
   ]
  },
  {
   "cell_type": "markdown",
   "id": "e32b1701",
   "metadata": {},
   "source": [
    "## with 문법\n",
    "\n",
    "```python\n",
    "with open(\"./assets/test.txt\", \"r\", encoding=\"utf-8\") as f:\n",
    "    print(f.readlines())\n",
    "    \n",
    "# 인텐트가 앞으로 오는 순간 close효과\n",
    "```\n",
    "\n",
    "with을 통하여 문장의 시간을 알려주고 별칭을 통해 해당 명령을 간략하게 사용\n",
    "\n",
    "이후에, 들여쓰기가 끝나는 지점에서 자동으로 close 역할을 해주는 문법이다."
   ]
  },
  {
   "cell_type": "code",
   "execution_count": 5,
   "id": "693eb857",
   "metadata": {},
   "outputs": [
    {
     "name": "stdout",
     "output_type": "stream",
     "text": [
      "['Hello, Python\\n', '안녕, 파이썬\\n']\n"
     ]
    }
   ],
   "source": [
    "with open(\"./assets/test.txt\", \"r\", encoding=\"utf-8\") as f:\n",
    "    print(f.readlines())"
   ]
  },
  {
   "cell_type": "markdown",
   "id": "0d84b1b6",
   "metadata": {},
   "source": [
    "## 2. csv\n",
    "\n",
    "CSV파일이란 `,(쉼표)`로 액셀의 셀들을 구별하는 파일 형식이라고 보면 됩니다.\n",
    "\n",
    "csv 파일을 읽어 오기 위해서 모듈을 import하여 사용하겠습니다.\n",
    "\n",
    "```python\n",
    "import csv\n",
    "```"
   ]
  },
  {
   "cell_type": "code",
   "execution_count": 6,
   "id": "76394024",
   "metadata": {},
   "outputs": [
    {
     "name": "stdout",
     "output_type": "stream",
     "text": [
      "['1', 'CSV', '데이터 확인']\n",
      "['2', 'Text', '이전단계']\n",
      "['3', 'JSON', '다음단계']\n"
     ]
    }
   ],
   "source": [
    "import csv\n",
    "\n",
    "with open(\"assets/test.csv\", \"r\", encoding=\"utf-8\") as f:\n",
    "    read_data = csv.reader(f)\n",
    "    for data in read_data:\n",
    "        print(data)"
   ]
  },
  {
   "cell_type": "markdown",
   "id": "a2aecab4",
   "metadata": {},
   "source": [
    "## 3. json\n",
    "\n",
    "JSON파일이란, `{속성: 값}`으로 이루어져 있는 모습이며, 우리가 이전에 배운 딕셔너리와 같은 형태입니다.\n",
    "\n",
    "그래서 파이썬에서는 json파일을 딕셔너리로 변경하기도 하고, 딕셔너리 데이터를 json으로 변경하여 통신을 하기도 합니다.\n",
    "\n",
    "단, JSON의 키(속성)값은 쌍따옴표로 감싸져 있어야합니다.\n",
    "\n",
    "\n",
    "\n",
    "```python\n",
    "import json\n",
    "```"
   ]
  },
  {
   "cell_type": "code",
   "execution_count": 7,
   "id": "8a26b78d",
   "metadata": {},
   "outputs": [
    {
     "name": "stdout",
     "output_type": "stream",
     "text": [
      "Data-> {'response': 'json', 'code': 200, 'result': {'data': '읽기 성공'}}\n",
      "Data Type-> <class 'dict'>\n"
     ]
    }
   ],
   "source": [
    "import json\n",
    "\n",
    "with open(\"assets/test.json\", \"r\", encoding=\"utf-8\") as f:\n",
    "    data = json.load(f)\n",
    "    print(f\"Data-> {data}\\nData Type-> {type(data)}\")"
   ]
  },
  {
   "cell_type": "code",
   "execution_count": 8,
   "id": "e42a60ee",
   "metadata": {},
   "outputs": [
    {
     "name": "stdout",
     "output_type": "stream",
     "text": [
      "{\"response\": \"json\", \"code\": 200, \"result\": {\"data\": \"\\uc77d\\uae30 \\uc131\\uacf5\"}}\n",
      "<class 'str'>\n"
     ]
    }
   ],
   "source": [
    "import json\n",
    "\n",
    "json_data = json.dumps(data)\n",
    "\n",
    "print(json_data)\n",
    "print(type(json_data))"
   ]
  }
 ],
 "metadata": {
  "kernelspec": {
   "display_name": "Python 3",
   "language": "python",
   "name": "python3"
  },
  "language_info": {
   "codemirror_mode": {
    "name": "ipython",
    "version": 3
   },
   "file_extension": ".py",
   "mimetype": "text/x-python",
   "name": "python",
   "nbconvert_exporter": "python",
   "pygments_lexer": "ipython3",
   "version": "3.8.8"
  }
 },
 "nbformat": 4,
 "nbformat_minor": 5
}
