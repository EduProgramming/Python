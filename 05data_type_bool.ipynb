{
 "cells": [
  {
   "cell_type": "markdown",
   "metadata": {},
   "source": [
    "# Bool, 불 타입"
   ]
  },
  {
   "cell_type": "markdown",
   "metadata": {},
   "source": [
    "## bool 타입이란?\n",
    "\n",
    "bool type은 참`True`와 거짓`False`을 나타내는 자료형입니다.\n",
    "\n",
    "bool 자료형은 참과 거짓 2가지 값만을 가질 수 있습니다."
   ]
  },
  {
   "cell_type": "code",
   "execution_count": 1,
   "metadata": {},
   "outputs": [
    {
     "name": "stdout",
     "output_type": "stream",
     "text": [
      "False\n"
     ]
    }
   ],
   "source": [
    "print(2 > 5)"
   ]
  },
  {
   "cell_type": "markdown",
   "metadata": {},
   "source": [
    "2는 5보다 큰 값이 아니기에 `거짓(False)`의 값이 나옵니다."
   ]
  },
  {
   "cell_type": "markdown",
   "metadata": {},
   "source": [
    "## Python False\n",
    "\n",
    "파이썬에서 거짓의 값을 가지는 경우를 살펴보겠습니다.\n",
    "\n",
    "- ''\n",
    "- \"\"\n",
    "- []\n",
    "- list()\n",
    "- ()\n",
    "- tuple()\n",
    "- {}\n",
    "- set()\n",
    "- dict()\n",
    "- 0\n",
    "- None\n",
    "- False\n",
    "\n",
    "이러한 경우에는 Python에서는 `False`의 값을 가집니다.\n",
    "(cf. 더 있지만, 주로 쓰는 부분만 다루었습니다.)"
   ]
  },
  {
   "cell_type": "code",
   "execution_count": 2,
   "metadata": {},
   "outputs": [
    {
     "name": "stdout",
     "output_type": "stream",
     "text": [
      "False\n",
      "False\n",
      "False\n",
      "False\n",
      "False\n",
      "False\n",
      "False\n",
      "False\n",
      "False\n",
      "False\n",
      "False\n",
      "False\n"
     ]
    }
   ],
   "source": [
    "print(bool(''))\n",
    "print(bool(\"\"))\n",
    "print(bool([]))\n",
    "print(bool(list()))\n",
    "print(bool(()))\n",
    "print(bool(tuple()))\n",
    "print(bool({}))\n",
    "print(bool(set()))\n",
    "print(bool(dict()))\n",
    "print(bool(0))\n",
    "print(bool(None))\n",
    "print(bool(False))"
   ]
  },
  {
   "cell_type": "markdown",
   "metadata": {},
   "source": [
    "`[]`, `list()`, `()`, `tuple()`, `{}`, `set()`, `dict()`는 추후 다룰 데이터 타입입니다.\n",
    "\n",
    "<sub>맛보기</sub>\n",
    "\n",
    "`[]`와 `list()`는 리스트 자료형을 나타냅니다.\n",
    "\n",
    "`()`와 `tuple()`은 튜플 자료형을 나타냅니다.\n",
    "\n",
    "`{}`와 `set()`은 집합 자료형을 나타냅니다.\n",
    "\n",
    "`{}`와 `dict()`은 딕셔너리(사전형) 자료형을 나타냅니다.\n",
    "\n",
    "여기서, {}는 집합 자료형과 딕셔너리 자료형에 쓰인다고 나와있는데, 이도 추후 집합과 딕셔너리 자료형을 다루다보면 차이점을 알 수 있으니 넘어가도록 하겠습니다."
   ]
  },
  {
   "cell_type": "markdown",
   "metadata": {},
   "source": [
    "## type()\n",
    "\n",
    "위의 내용을 확인해보면 타입으로 값을 감싸면 해당 값으로 변하는 모습을 확인할 수 있습니다.\n",
    "\n",
    "`type(값)`을 쓰게 된다면 해당 값의 자료형을 파악할 수 있습니다."
   ]
  },
  {
   "cell_type": "code",
   "execution_count": 3,
   "metadata": {},
   "outputs": [
    {
     "name": "stdout",
     "output_type": "stream",
     "text": [
      "<class 'int'>\n",
      "<class 'str'>\n"
     ]
    }
   ],
   "source": [
    "print(type(5))\n",
    "print(type('5'))"
   ]
  },
  {
   "cell_type": "markdown",
   "metadata": {},
   "source": [
    "프로그래밍을 하다보면 웹이나 엑셀과 같은 다른 곳에서 자료를 가져와서 사용해야할 때가 있습니다.\n",
    "\n",
    "내가 필요한 데이터 타입은 숫자형인데 문자형을 가져와서 곤란한 경우가 있습니다.\n",
    "\n",
    "아래의 예시를 들어보겠습니다."
   ]
  },
  {
   "cell_type": "code",
   "execution_count": 4,
   "metadata": {},
   "outputs": [
    {
     "name": "stdout",
     "output_type": "stream",
     "text": [
      "<class 'str'>\n",
      "<class 'int'>\n"
     ]
    }
   ],
   "source": [
    "crawling_data = '20200525'\n",
    "print(type(crawling_data))\n",
    "print(type(int(crawling_data)))"
   ]
  },
  {
   "cell_type": "markdown",
   "metadata": {},
   "source": [
    "문자열이 숫자형태로 변환이 가능할 때, 정수형으로 바꾸고 싶다면 `int()`를 사용하며, 실수형으로 변경하고 싶다면 `float()`를 사용하여 주시면 됩니다.\n",
    "\n",
    "숫자를 문자열로 바꾸고 싶을 때는 `str()`을 이용하시면 됩니다."
   ]
  },
  {
   "cell_type": "code",
   "execution_count": 5,
   "metadata": {},
   "outputs": [
    {
     "name": "stdout",
     "output_type": "stream",
     "text": [
      "20200525\n",
      "<class 'str'>\n"
     ]
    }
   ],
   "source": [
    "crawling_data =  20200525\n",
    "conversion_str_data = str(crawling_data)\n",
    "\n",
    "print(conversion_str_data)\n",
    "print(type(conversion_str_data))"
   ]
  }
 ],
 "metadata": {
  "kernelspec": {
   "display_name": "Python 3",
   "language": "python",
   "name": "python3"
  },
  "language_info": {
   "codemirror_mode": {
    "name": "ipython",
    "version": 3
   },
   "file_extension": ".py",
   "mimetype": "text/x-python",
   "name": "python",
   "nbconvert_exporter": "python",
   "pygments_lexer": "ipython3",
   "version": "3.7.7"
  }
 },
 "nbformat": 4,
 "nbformat_minor": 4
}
