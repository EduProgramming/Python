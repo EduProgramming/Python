{
 "cells": [
  {
   "cell_type": "markdown",
   "id": "ff25ac2c",
   "metadata": {},
   "source": [
    "# Numpy\n",
    "\n",
    "Numpy는 행렬이나 대규모 다차원 배열 처리를 지원하는 파이썬 라이브러리 입니다.\n",
    "\n",
    "Numpy는 데이터 구조 외에도 수치 계산을 위해 효율적으로 구현된 기능을 제공합니다.\n",
    "\n",
    "`ndarray`객체를 이용하여 n차원 배열을 사용할 수 있습니다.\n",
    "\n",
    "```python\n",
    "import numpy\n",
    "```"
   ]
  },
  {
   "cell_type": "code",
   "execution_count": null,
   "id": "5c59c173",
   "metadata": {},
   "outputs": [],
   "source": [
    "import numpy"
   ]
  },
  {
   "cell_type": "code",
   "execution_count": null,
   "id": "0990b4bb",
   "metadata": {},
   "outputs": [],
   "source": [
    "# 별칭을 통한 라이브러리 사용\n",
    "import numpy as np"
   ]
  },
  {
   "cell_type": "markdown",
   "id": "b12fc96f",
   "metadata": {},
   "source": [
    "## 1. 배열 만들기"
   ]
  },
  {
   "cell_type": "markdown",
   "id": "e50886df",
   "metadata": {},
   "source": [
    "### 1) List와 Numpy의 ndarray의 차이점\n",
    "\n",
    "- Array는 정적 할당, List는 동적 할당\n",
    "\n",
    "정적 할당이라는 것은 고정 크기를 가지고 있으며, 설정한 크기에서 벗어난 크기를 넣어줄 수 없습니다.\n",
    "\n",
    "동적 할당이라는 것은 벗어난 크기를 할당한다고 하더라도 컴파일러가 자동으로 인덱스의 크기를 늘려주어서 사용할 수 있습니다."
   ]
  },
  {
   "cell_type": "markdown",
   "id": "73d05009",
   "metadata": {},
   "source": [
    "### 2) 차원, 축\n",
    "\n",
    "리스트와 동일하게 차원이 존재하며, Numpy에서는 차원을 **축**이라고 합니다."
   ]
  },
  {
   "cell_type": "markdown",
   "id": "4b9717b6",
   "metadata": {},
   "source": [
    "### - 배열 만들기: `np.array()`\n",
    "\n",
    "**np.array()**을 통해서 배열을 만들 수 있습니다.\n",
    "\n",
    "안에 들어가는 파라미터 타입은 `리스트`나 `튜플`을 사용할 수 있습니다."
   ]
  },
  {
   "cell_type": "code",
   "execution_count": null,
   "id": "27263f83",
   "metadata": {},
   "outputs": [],
   "source": [
    "import numpy as np\n",
    "\n",
    "print(np.array([])) # 빈 배열 만들기\n",
    "\n",
    "arr = np.array([1, 2, 3])\n",
    "print(arr)"
   ]
  },
  {
   "cell_type": "markdown",
   "id": "1529f5f7",
   "metadata": {},
   "source": [
    "`dtype` 키워드 인자를 통하여 타입을 지정해줄 수 있습니다.\n",
    "\n",
    "`np.array(리스트 데이터, dtype=타입)`을 이용해서 만들어 줄 수 있습니다.\n",
    "\n",
    "| dtype      | code | 설명                                                         |\n",
    "| :---------- | :----: | :------------------------------------------------------------ |\n",
    "| int8       | i1   | 부호 있는 8bit 정수형                                        |\n",
    "| int16      | i2   | 부호 있는 16bit 정수형                                       |\n",
    "| int32      | i4   | 부호 있는 32bit 정수형                                       |\n",
    "| int64      | i8   | 부호 있는 64bit 정수형                                       |\n",
    "| uint8      | u1   | 부호 없는 8bit 정수형                                        |\n",
    "| uint16     | u2   | 부호 없는 16bit 정수형                                       |\n",
    "| uint32     | u4   | 부호 없는 32bit 정수형                                       |\n",
    "| uint64     | u8   | 부호 없는 64bit 정수형                                       |\n",
    "| float16    | f2   | 실수형: 반 정밀도 부동소수점형<br />(부호 1비트, 지수 5비트, 가수 10비트) |\n",
    "| float32    | f4   | 실수형: 단 정밀도 부동소수점형<br />(부호 1비트, 지수 8비트, 가수 23비트) |\n",
    "| float64    | f8   | 실수형: 배 정밀도 부동소수점형<br />(부호 1비트, 지수 11비트, 가수 54비트) |\n",
    "| float128   | f16  | 실수형: 네배 정밀도 부동소수점형<br />(부호 1비트, 지수 15비트, 가수 112비트) |\n",
    "| complex64  | c8   | 복수부 (실수부, 허수부 각각 float32)                         |\n",
    "| complex128 | c16  | 복수부 (실수부, 허수부 각각 float64)                         |\n",
    "| complex256 | c32  | 복수부 (실수부, 허수부 각각 float128)                        |\n",
    "| bool       | ?    | Bool형 (True / False)                                        |\n",
    "| unicode    | U    | unicode 문자열                                               |\n",
    "| object     | O    | Python 오브젝트형                                            |\n",
    "\n",
    "간단하게 타입이 int, float, ... 이러한 식으로 있는데 뒤에 숫자는 bit를 나타낸다고 생각하시면 됩니다.\n",
    "\n",
    "dtype이 default일 때, int는 int32, float는 float64로 설정"
   ]
  },
  {
   "cell_type": "markdown",
   "id": "04f4afab",
   "metadata": {},
   "source": [
    "#### dtype\n",
    "\n",
    "`dtype`을 이용하여 배열의 타입을 알아볼 수 있습니다."
   ]
  },
  {
   "cell_type": "code",
   "execution_count": null,
   "id": "5f4d1342",
   "metadata": {},
   "outputs": [],
   "source": [
    "arr = np.array([1, 2, 3])\n",
    "print(arr)\n",
    "print(arr.dtype)\n",
    "\n",
    "arr = np.array([1, 2.1, 3])\n",
    "print(arr)\n",
    "print(arr.dtype)"
   ]
  },
  {
   "cell_type": "markdown",
   "id": "a7b88516",
   "metadata": {},
   "source": [
    "#### ndim\n",
    "\n",
    "배열의 차원(축의 개수)\n",
    "\n",
    "\n",
    "#### size\n",
    "\n",
    "배열의 총 원소 수\n",
    "\n",
    "\n",
    "#### shape\n",
    "\n",
    "배열의 각 차원에 따라 저장된 원소 수(= 행, 열)"
   ]
  },
  {
   "cell_type": "code",
   "execution_count": null,
   "id": "8c198e6b",
   "metadata": {},
   "outputs": [],
   "source": [
    "print(f\"배열의 차원: {arr.ndim}\")\n",
    "print(f\"배열의 총 원수 수: {arr.size}\")\n",
    "print(f\"배열의 모양 정보: {arr.shape}\")"
   ]
  },
  {
   "cell_type": "markdown",
   "id": "5c698c0d",
   "metadata": {},
   "source": [
    "### - 배열 만들기: `np.zeros()`\n",
    "\n",
    "`np.zeros(모양)`을 이용하여 0의 값으로 채워진 배열을 만들 수 있습니다.\n",
    "\n",
    "기본 타입은 `float64` 입니다.\n",
    "\n",
    "2차원 이상의 배열을 만들고자 할 때는 매개변수로 `tuple`(or list)을 넣어주셔야 합니다."
   ]
  },
  {
   "cell_type": "code",
   "execution_count": null,
   "id": "b4dda6e3",
   "metadata": {},
   "outputs": [],
   "source": [
    "# 1차원 배열\n",
    "arr = np.zeros(3)\n",
    "\n",
    "print(f\"배열 Dtype: {arr.dtype}\")\n",
    "\n",
    "print(arr)\n",
    "print(f\"배열의 차원: {arr.ndim}\")\n",
    "print(f\"배열의 총 원수 수: {arr.size}\")\n",
    "print(f\"배열의 모양 정보: {arr.shape}\")\n",
    "\n",
    "# 2차원 배열\n",
    "arr = np.zeros([3, 2])\n",
    "print(arr)\n",
    "print(f\"배열의 차원: {arr.ndim}\")\n",
    "print(f\"배열의 총 원수 수: {arr.size}\")\n",
    "print(f\"배열의 모양 정보: {arr.shape}\")\n",
    "\n",
    "# 5차원 배열\n",
    "arr = np.zeros([2, 3, 4, 5, 6])\n",
    "print(arr)\n",
    "print(f\"배열의 차원: {arr.ndim}\")\n",
    "print(f\"배열의 총 원수 수: {arr.size}\")\n",
    "print(f\"배열의 모양 정보: {arr.shape}\")"
   ]
  },
  {
   "cell_type": "markdown",
   "id": "f5e5d3b4",
   "metadata": {},
   "source": [
    "### - 배열 만들기: `np.ones()`\n",
    "\n",
    "`np.ones(모양)`을 이용하여 1의 값으로 채워진 배열을 만들 수 있습니다.\n",
    "\n",
    "기본 타입은 `float64` 입니다.\n",
    "\n",
    "2차원 이상의 배열을 만들고자 할 때는 매개변수로 `tuple`(or list)을 넣어주셔야 합니다."
   ]
  },
  {
   "cell_type": "code",
   "execution_count": null,
   "id": "653af486",
   "metadata": {},
   "outputs": [],
   "source": [
    "# 1차원 배열\n",
    "arr = np.ones(3)\n",
    "\n",
    "print(f\"배열 Dtype: {arr.dtype}\")\n",
    "\n",
    "print(arr)\n",
    "print(f\"배열의 차원: {arr.ndim}\")\n",
    "print(f\"배열의 총 원수 수: {arr.size}\")\n",
    "print(f\"배열의 모양 정보: {arr.shape}\")\n",
    "\n",
    "# 2차원 배열\n",
    "arr = np.ones([3, 2])\n",
    "print(arr)\n",
    "print(f\"배열의 차원: {arr.ndim}\")\n",
    "print(f\"배열의 총 원수 수: {arr.size}\")\n",
    "print(f\"배열의 모양 정보: {arr.shape}\")"
   ]
  },
  {
   "cell_type": "markdown",
   "id": "db15bc5f",
   "metadata": {},
   "source": [
    "### - 배열 만들기: `np.empty()`\n",
    "\n",
    "`np.empty(모양)`는 항목을 초기화하지 않고 주어진 모양과 타입의 새 배열을 반환 합니다.\n",
    "\n",
    "단, 비어있는 배열을 만드는 것이 아니라 무작위 값이 들어 있으니 나중에 용도에 따라 원소를 채워주어야 합니다."
   ]
  },
  {
   "cell_type": "code",
   "execution_count": 2,
   "id": "81b08978",
   "metadata": {},
   "outputs": [
    {
     "name": "stdout",
     "output_type": "stream",
     "text": [
      "[[8.73990258e+245 2.49222260e-306 1.10879010e-296]\n",
      " [1.45334811e-296 7.76501106e+069 5.61151840e-312]]\n",
      "배열의 차원: 2\n",
      "배열의 총 원수 수: 6\n",
      "배열의 모양 정보: (2, 3)\n"
     ]
    }
   ],
   "source": [
    "# 해당 부분이 1로만 채워져 있다면, 위의 실행 내용들을 clear하고 해당 부분만 실행해보세요.\n",
    "import numpy as np\n",
    "\n",
    "arr = np.empty([2, 3])\n",
    "\n",
    "print(arr)\n",
    "print(f\"배열의 차원: {arr.ndim}\")\n",
    "print(f\"배열의 총 원수 수: {arr.size}\")\n",
    "print(f\"배열의 모양 정보: {arr.shape}\")"
   ]
  },
  {
   "cell_type": "markdown",
   "id": "2fd60998",
   "metadata": {},
   "source": [
    "### - 배열 만들기: `np.arange()`\n",
    "\n",
    "`np.arange(start, stop, step, dtype)`는 항목을 초기화하지 않고 주어진 모양과 타입의 새 배열을 반환 합니다.\n",
    "\n",
    "**파라미터 설명**\n",
    "- start: 범위의 시작값(default=0)\n",
    "\n",
    "- stop: 범위의 끝(단, 해당값 미포함)\n",
    "\n",
    "- step: 값 사이의 간격(default=1)\n",
    "\n",
    "- dtype: 데이터 타입\n",
    "\n",
    "- like: numpy 1.20.0에 추가 된 파라미터\n",
    "> NumPy 배열이 아닌 배열 생성을 허용하는 참조 객체. 유사하게 전달된 유사 배열이 __array_function__ 프로토콜을 지원하는 경우 결과는 이에 의해 정의됩니다. 이 경우 이 인수를 통해 전달된 것과 호환되는 배열 객체 생성을 보장합니다.\n",
    "\n",
    "\n",
    "단, 비어있는 배열을 만드는 것이 아니라 무작위 값이 들어 있으니 나중에 용도에 따라 원소를 채워주어야 합니다."
   ]
  },
  {
   "cell_type": "code",
   "execution_count": 8,
   "id": "42f87adf",
   "metadata": {},
   "outputs": [
    {
     "name": "stdout",
     "output_type": "stream",
     "text": [
      "[0 1 2 3 4 5 6 7 8 9]\n",
      "[0.  2.5 5.  7.5]\n"
     ]
    }
   ],
   "source": [
    "arr = np.arange(10)\n",
    "print(arr)\n",
    "\n",
    "arr = np.arange(10, step=2.5)\n",
    "print(arr)"
   ]
  },
  {
   "cell_type": "markdown",
   "id": "2c0ed286",
   "metadata": {},
   "source": [
    "### - 배열 만들기: `np.linspace()`\n",
    "\n",
    "`np.linspace(start, stop, num, endpoint, retstep, dtype, axis)`은 시작과 끝을 사이로 갯수만큼 균등하게 배열을 만듭니다.\n",
    "\n",
    "**파라미터 설명**\n",
    "- start: 범위의 시작값(default=0)\n",
    "\n",
    "- stop: 범위의 끝(단, 해당값 미포함)\n",
    "\n",
    "- num: 샘플 생성 갯수(default=50)\n",
    "\n",
    "- endpoint: 끝점 포함 여부(default=True)\n",
    "\n",
    "- retstep: step 반환 여부(default=False)\n",
    "\n",
    "- dtype: 데이터 타입\n",
    "\n",
    "- axis: numpy 1.16.0에 추가 된 파라미터, 샘플을 저장할 축(default=0)"
   ]
  },
  {
   "cell_type": "code",
   "execution_count": 15,
   "id": "4059b509",
   "metadata": {},
   "outputs": [
    {
     "name": "stdout",
     "output_type": "stream",
     "text": [
      "[ 1.          1.18367347  1.36734694  1.55102041  1.73469388  1.91836735\n",
      "  2.10204082  2.28571429  2.46938776  2.65306122  2.83673469  3.02040816\n",
      "  3.20408163  3.3877551   3.57142857  3.75510204  3.93877551  4.12244898\n",
      "  4.30612245  4.48979592  4.67346939  4.85714286  5.04081633  5.2244898\n",
      "  5.40816327  5.59183673  5.7755102   5.95918367  6.14285714  6.32653061\n",
      "  6.51020408  6.69387755  6.87755102  7.06122449  7.24489796  7.42857143\n",
      "  7.6122449   7.79591837  7.97959184  8.16326531  8.34693878  8.53061224\n",
      "  8.71428571  8.89795918  9.08163265  9.26530612  9.44897959  9.63265306\n",
      "  9.81632653 10.        ]\n",
      "[ 0.          3.33333333  6.66666667 10.        ]\n",
      "(array([ 0.        ,  3.33333333,  6.66666667, 10.        ]), 3.3333333333333335)\n"
     ]
    }
   ],
   "source": [
    "arr = np.linspace(1, 10)\n",
    "print(arr)\n",
    "\n",
    "arr = np.linspace(0, 10, num=4)\n",
    "print(arr)\n",
    "\n",
    "arr = np.linspace(0, 10, num=4, retstep=True)\n",
    "print(arr)"
   ]
  }
 ],
 "metadata": {
  "kernelspec": {
   "display_name": "Python 3",
   "language": "python",
   "name": "python3"
  },
  "language_info": {
   "codemirror_mode": {
    "name": "ipython",
    "version": 3
   },
   "file_extension": ".py",
   "mimetype": "text/x-python",
   "name": "python",
   "nbconvert_exporter": "python",
   "pygments_lexer": "ipython3",
   "version": "3.8.8"
  }
 },
 "nbformat": 4,
 "nbformat_minor": 5
}
