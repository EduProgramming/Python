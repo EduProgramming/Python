{
 "cells": [
  {
   "cell_type": "markdown",
   "id": "549ad06d",
   "metadata": {},
   "source": [
    "# Number\n",
    "\n",
    "파이썬에서 숫자를 나타내는 기본 타입으로는 `int`와 `float`가 있습니다.\n",
    "\n",
    "## 1. int\n",
    "\n",
    "Integer의 의미를 가지고 있으며, 숫자의 정수형을 가지는 타입입니다.\n",
    "\n",
    "여기서 정수는 0, 음의 정수, 양의 정수(=자연수)을 의미합니다."
   ]
  },
  {
   "cell_type": "code",
   "execution_count": 1,
   "id": "a92a00aa",
   "metadata": {},
   "outputs": [
    {
     "name": "stdout",
     "output_type": "stream",
     "text": [
      "5\n",
      "8\n",
      "11\n",
      "11\n",
      "14\n"
     ]
    }
   ],
   "source": [
    "num = 5\n",
    "print(num)\n",
    "\n",
    "num = 3 + 5 # 더하기 연산값 이후 값 할당\n",
    "print(num)\n",
    "\n",
    "result = num + 3\n",
    "num = num + 3 # 더하기 연산을 동일 변수에 했을 때\n",
    "print(result) # 다른 변수에 담은 값 출력\n",
    "print(num) # 동일 변수 담은 값 출력\n",
    "\n",
    "num += 3 # 새로운 연산 방법 살펴보기\n",
    "print(num)"
   ]
  },
  {
   "cell_type": "markdown",
   "id": "21c31d80",
   "metadata": {},
   "source": [
    "## 2. float\n",
    "\n",
    "소수점의 값을 가집니다."
   ]
  },
  {
   "cell_type": "code",
   "execution_count": 2,
   "id": "f9065c56",
   "metadata": {},
   "outputs": [
    {
     "name": "stdout",
     "output_type": "stream",
     "text": [
      "3.0\n",
      "0.0\n",
      "-5.0\n"
     ]
    }
   ],
   "source": [
    "number = 3.0\n",
    "print(number)\n",
    "\n",
    "number = 0.0\n",
    "print(number)\n",
    "\n",
    "number = -5.0\n",
    "print(number)"
   ]
  },
  {
   "cell_type": "code",
   "execution_count": 3,
   "id": "cd5051c0",
   "metadata": {},
   "outputs": [
    {
     "name": "stdout",
     "output_type": "stream",
     "text": [
      "1.0999999999999999\n"
     ]
    }
   ],
   "source": [
    "# 예기치 못한 에러, 부동소수점 문제\n",
    "print(1.2 - 0.1)"
   ]
  },
  {
   "cell_type": "markdown",
   "id": "6ab8ffb0",
   "metadata": {},
   "source": [
    "위와 같이 소수를 사용할 때는 부동소수점 문제가 발생하면 어떻게 할 것인가?\n",
    "\n",
    "1. is_close()\n",
    "\n",
    "python 3.5버전 이상을 사용한다면 math 모듈에 `isclose(값, 비교대상)`를 통해 해당 값이 나와야하는 값과 같은지 비교해보는 방법이 있습니다.\n",
    "\n",
    "0.000000001(1e-09) 정도의 오차를 판별합니다."
   ]
  },
  {
   "cell_type": "code",
   "execution_count": 4,
   "id": "c01ecb45",
   "metadata": {},
   "outputs": [
    {
     "data": {
      "text/plain": [
       "True"
      ]
     },
     "execution_count": 4,
     "metadata": {},
     "output_type": "execute_result"
    }
   ],
   "source": [
    "import math\n",
    "\n",
    "math.isclose(1.2 - 0.1, 1.1)"
   ]
  },
  {
   "cell_type": "markdown",
   "id": "f07816d1",
   "metadata": {},
   "source": [
    "is_close()의 경우에는 단점이 있습니다.\n",
    "\n",
    "프로그래밍을 할 때 꼭 대상의 값을 정확히 알아야한다는 점입니다.\n",
    "\n",
    "그러면 정확하게 값을 가져오는 방법에 대해서 한 가지 예시를 들도록 하겠습니다.\n",
    "\n",
    "2. decimal\n",
    "\n",
    "decimal 모듈을 통하여 숫자를 decimal type으로 변경해주는 방법입니다.\n",
    "\n",
    "해당 방안을 사용할 때 정확도를 높이기 위해서는 들어가는 숫자 타입을 문자타입으로 변경을 먼저 해주어야 합니다."
   ]
  },
  {
   "cell_type": "code",
   "execution_count": 5,
   "id": "fc9dd3b6",
   "metadata": {},
   "outputs": [
    {
     "name": "stdout",
     "output_type": "stream",
     "text": [
      "1.1\n",
      "<class 'decimal.Decimal'>\n"
     ]
    }
   ],
   "source": [
    "import decimal\n",
    "\n",
    "result = decimal.Decimal(\"1.2\") - decimal.Decimal(\"0.1\")\n",
    "print(result)\n",
    "print(type(result))"
   ]
  },
  {
   "cell_type": "markdown",
   "id": "c67ffd25",
   "metadata": {},
   "source": [
    "type함수를 통해 타입을 보았더니 decimal.Decimal 타입이라고 나오게 됩니다.\n",
    "\n",
    "이렇게 나온 결과를 float를 감싸주어서 float타입으로 변경해서 사용할 수 있습니다."
   ]
  },
  {
   "cell_type": "code",
   "execution_count": 6,
   "id": "e07973fb",
   "metadata": {},
   "outputs": [
    {
     "name": "stdout",
     "output_type": "stream",
     "text": [
      "1.1\n",
      "<class 'float'>\n"
     ]
    }
   ],
   "source": [
    "trans_result = float(result)\n",
    "print(trans_result)\n",
    "print(type(trans_result))"
   ]
  }
 ],
 "metadata": {
  "kernelspec": {
   "display_name": "Python 3",
   "language": "python",
   "name": "python3"
  },
  "language_info": {
   "codemirror_mode": {
    "name": "ipython",
    "version": 3
   },
   "file_extension": ".py",
   "mimetype": "text/x-python",
   "name": "python",
   "nbconvert_exporter": "python",
   "pygments_lexer": "ipython3",
   "version": "3.8.8"
  }
 },
 "nbformat": 4,
 "nbformat_minor": 5
}
