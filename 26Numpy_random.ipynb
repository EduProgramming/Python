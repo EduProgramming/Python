{
 "cells": [
  {
   "cell_type": "markdown",
   "metadata": {},
   "source": [
    "# 난수 생성\n",
    "\n",
    "인공 신경망에 가중치를 무작위로 초기화 하거나, 데이터를 무작위 세트로 분할하거나, 데이터 세트를 무작위로 셔플하는 등에 활용됩니다."
   ]
  },
  {
   "cell_type": "code",
   "execution_count": 1,
   "metadata": {},
   "outputs": [],
   "source": [
    "import numpy as np"
   ]
  },
  {
   "cell_type": "markdown",
   "metadata": {},
   "source": [
    "## 1. np.random.randint()\n",
    "\n",
    "지정된 최솟값부터 최댓값 사이의 임의의 정수를 반환\n",
    "\n",
    "`numpy.random.randint(low, high, size=None)`\n",
    "\n",
    "> - low: [선택사항] int, 분포에서 가져올 가장 작은 정수\n",
    "> \n",
    "> - high: int, 분포에서 가져올 가장 큰 정수. low를 생략시 0부터 high미만의 정수 반환\n",
    ">\n",
    "> - size: [선택사항] int or int로 이루어진 tuple, 출력 개수 혹은 shape, defualt=None으로 단일 값 반환"
   ]
  },
  {
   "cell_type": "code",
   "execution_count": 2,
   "metadata": {},
   "outputs": [
    {
     "data": {
      "text/plain": [
       "62"
      ]
     },
     "execution_count": 2,
     "metadata": {},
     "output_type": "execute_result"
    }
   ],
   "source": [
    "np.random.randint(100)"
   ]
  },
  {
   "cell_type": "code",
   "execution_count": 3,
   "metadata": {},
   "outputs": [
    {
     "data": {
      "text/plain": [
       "array([ 7, 45, 33, 65, 70, 92, 24, 36, 81, 91])"
      ]
     },
     "execution_count": 3,
     "metadata": {},
     "output_type": "execute_result"
    }
   ],
   "source": [
    "np.random.randint(100, size=10)"
   ]
  },
  {
   "cell_type": "code",
   "execution_count": 4,
   "metadata": {},
   "outputs": [
    {
     "data": {
      "text/plain": [
       "array([[[95,  2, 99],\n",
       "        [31, 69, 50],\n",
       "        [13, 11, 96]],\n",
       "\n",
       "       [[69,  1, 56],\n",
       "        [55, 23, 78],\n",
       "        [24, 47, 68]]])"
      ]
     },
     "execution_count": 4,
     "metadata": {},
     "output_type": "execute_result"
    }
   ],
   "source": [
    "np.random.randint(100, size=(2,3,3))"
   ]
  },
  {
   "cell_type": "markdown",
   "metadata": {},
   "source": [
    "## 2. np.random.rand()\n",
    "\n",
    "주어진 shape의 임의 값을 반환. 0이상 1미만의 값 반환\n",
    "\n",
    "`numpy.random.rand(d0, d1, ..., dn)`\n",
    "\n",
    "> - d0, d1, ..., dn: [선택사항] 반환할 배열의 shape를 int로 입력"
   ]
  },
  {
   "cell_type": "code",
   "execution_count": 5,
   "metadata": {},
   "outputs": [
    {
     "data": {
      "text/plain": [
       "array([[0.49506019, 0.28577473, 0.85636716],\n",
       "       [0.94634853, 0.08029125, 0.45285409]])"
      ]
     },
     "execution_count": 5,
     "metadata": {},
     "output_type": "execute_result"
    }
   ],
   "source": [
    "np.random.rand(2,3)"
   ]
  },
  {
   "cell_type": "markdown",
   "metadata": {},
   "source": [
    "## 3. np.random.randn()\n",
    "\n",
    "표준정규분포를 따르는 샘플 값 반환\n",
    "\n",
    "> **표준정규분포**란?\n",
    ">\n",
    "> 평균이 0이고 분산이 1인 정규분포 N(0,1)를 표준정규분포라고 합니다."
   ]
  },
  {
   "cell_type": "code",
   "execution_count": 6,
   "metadata": {},
   "outputs": [
    {
     "data": {
      "text/plain": [
       "array([[ 0.30181862,  0.11345989,  0.90120217,  0.52252191],\n",
       "       [ 0.99161874, -1.44496703, -0.70860667,  0.40985144],\n",
       "       [ 0.958808  ,  1.4183641 , -1.26213558, -0.84486563]])"
      ]
     },
     "execution_count": 6,
     "metadata": {},
     "output_type": "execute_result"
    }
   ],
   "source": [
    "np.random.randn(3,4)"
   ]
  },
  {
   "cell_type": "markdown",
   "metadata": {},
   "source": [
    "## 4. np.random.shuffle()\n",
    "\n",
    "배열을 무작위로 섞어서 제자리에서 시퀀스를 수정\n",
    "\n",
    "이 함수는 다차원 배열의 첫 번째 축을 따른 배열만 섞습니다.\n",
    "\n",
    "하위 배열 간의 순서는 변경되지만 그 안의 내용은 동일하게 유지됩니다."
   ]
  },
  {
   "cell_type": "code",
   "execution_count": 7,
   "metadata": {},
   "outputs": [
    {
     "name": "stdout",
     "output_type": "stream",
     "text": [
      "[0 1 2 3 4 5 6 7 8 9]\n",
      "[4 0 7 9 1 8 5 3 6 2]\n"
     ]
    }
   ],
   "source": [
    "arr = np.arange(10)\n",
    "print(arr)\n",
    "\n",
    "np.random.shuffle(arr)\n",
    "print(arr)"
   ]
  },
  {
   "cell_type": "markdown",
   "metadata": {},
   "source": [
    "## 5. np.random.choice()\n",
    "\n",
    "주어진 int 또는 1차원 배열에서 무작위 샘플을 생성합니다.\n",
    "\n",
    "`numpy.random.choice(a, size=None, replace=True, p=None)`\n",
    "\n",
    "> a: int 또는 1차원 배열. int이면 임의 샘플이 a=np.arange(a)인 것처럼 생성됩니다.\n",
    "> \n",
    "> size: [선택사항] int 또는 int의 tuple\n",
    "\n",
    "int가 입력되면 반환값의 size, tuple이 입력되면 shape로 간주해 (m,n,k)일 때 m*n*k개의 샘플이 반환됩니다. 기본적으로 None으로, 이 경우 단일 값이 반환됩니다.\n",
    "\n",
    "> replace: [선택사항] bool, 샘플의 중복 여부\n",
    ">\n",
    "> p: [선택사항] 1차원 배열. a의 각 항목과 관련된 확률입니다. 지정되지 않은 경우 샘플은 a의 모든 항목에 대해 균일한 분포를 가정합니다."
   ]
  },
  {
   "cell_type": "code",
   "execution_count": 8,
   "metadata": {},
   "outputs": [
    {
     "name": "stdout",
     "output_type": "stream",
     "text": [
      "[3 0 3]\n",
      "(3,)\n"
     ]
    }
   ],
   "source": [
    "arr = np.random.choice(5, 3, p=[0.1, 0, 0.3, 0.6, 0])\n",
    "print(arr)\n",
    "print(arr.shape)"
   ]
  }
 ],
 "metadata": {
  "kernelspec": {
   "display_name": "Python 3",
   "language": "python",
   "name": "python3"
  },
  "language_info": {
   "codemirror_mode": {
    "name": "ipython",
    "version": 3
   },
   "file_extension": ".py",
   "mimetype": "text/x-python",
   "name": "python",
   "nbconvert_exporter": "python",
   "pygments_lexer": "ipython3",
   "version": "3.7.7"
  }
 },
 "nbformat": 4,
 "nbformat_minor": 4
}
