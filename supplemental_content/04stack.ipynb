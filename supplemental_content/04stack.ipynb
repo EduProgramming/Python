{
 "cells": [
  {
   "cell_type": "markdown",
   "metadata": {},
   "source": [
    "# Stack\n",
    "\n",
    "LIFO, 후입선출"
   ]
  },
  {
   "cell_type": "code",
   "execution_count": 1,
   "metadata": {},
   "outputs": [
    {
     "name": "stdout",
     "output_type": "stream",
     "text": [
      "[1, 2, 3]\n",
      "[1, 2]\n",
      "VALUE: 3\n"
     ]
    }
   ],
   "source": [
    "stack = []\n",
    "stack.append(1)\n",
    "stack.append(2)\n",
    "stack.append(3)\n",
    "\n",
    "print(stack)\n",
    "\n",
    "value = stack.pop()\n",
    "print(stack)\n",
    "print(f'VALUE: {value}')"
   ]
  },
  {
   "cell_type": "code",
   "execution_count": 2,
   "metadata": {},
   "outputs": [
    {
     "name": "stdout",
     "output_type": "stream",
     "text": [
      "[3, 5]\n",
      "[3]\n",
      "val: 5\n",
      "False\n",
      "[3]\n",
      "3\n"
     ]
    }
   ],
   "source": [
    "\"\"\"\n",
    "push\n",
    "pop\n",
    "isEmpty\n",
    "peek\n",
    "\"\"\"\n",
    "def push(item):\n",
    "    stack.append(item)\n",
    "\n",
    "def pop():\n",
    "    return stack.pop()\n",
    "\n",
    "def isEmpty():\n",
    "    if len(stack) == 0:\n",
    "        print('Stack is Emptry')\n",
    "        return True #비어있으면 True\n",
    "    return False #안에 값이 있으면 False\n",
    "\n",
    "def peek():\n",
    "    return stack[-1]\n",
    "\n",
    "stack = []\n",
    "push(3)\n",
    "push(5)\n",
    "print(stack)\n",
    "val = pop()\n",
    "print(stack)\n",
    "print(f'val: {val}')\n",
    "\n",
    "print(isEmpty())\n",
    "print(stack)\n",
    "print(peek())"
   ]
  },
  {
   "cell_type": "markdown",
   "metadata": {},
   "source": [
    "# Queue, 큐\n",
    "\n",
    "FIFO(First In First Out, 선입선출)\n",
    "\n",
    "주의) 큐를 통해서 알고리즘 문제를 풀 때는 파이썬에서는 시간복잡도 문제가 생겨 통과하지 못하는 경우가 발생\n",
    "\n",
    "--> 파이썬 Deque"
   ]
  },
  {
   "cell_type": "code",
   "execution_count": 3,
   "metadata": {},
   "outputs": [
    {
     "name": "stdout",
     "output_type": "stream",
     "text": [
      "[]\n",
      "[3, 5]\n",
      "[5]\n",
      "value: 3\n",
      "5\n"
     ]
    }
   ],
   "source": [
    "\"\"\"\n",
    "createQueue: 공백 상태의 큐 생성\n",
    "enQueue: append\n",
    "deQueue: 큐의 첫번째 요소 꺼내오기\n",
    "isEmpty: 큐 비어있는지 확인\n",
    "isFull: 큐 포화상태 확인\n",
    "Qpeek: 큐의 front 원소 반환\n",
    "\"\"\"\n",
    "def createQueue():\n",
    "    global queue, front, rear\n",
    "    queue = []\n",
    "    front = rear = -1\n",
    "    \n",
    "def enQueue(item):\n",
    "    queue.append(item)\n",
    "    \n",
    "def deQueue():\n",
    "    return queue.pop(0)\n",
    "\n",
    "def isEmpty():\n",
    "    if len(queue) == 0:\n",
    "        print('Queue is Empty')\n",
    "        return True\n",
    "    return False\n",
    "\n",
    "# def isFull():\n",
    "\n",
    "def Qpeek():\n",
    "    return queue[0]\n",
    "\n",
    "createQueue()\n",
    "print(queue)\n",
    "enQueue(3)\n",
    "enQueue(5)\n",
    "print(queue)\n",
    "value = deQueue()\n",
    "print(queue)\n",
    "print(f'value: {value}')\n",
    "print(Qpeek())"
   ]
  }
 ],
 "metadata": {
  "kernelspec": {
   "display_name": "Python 3",
   "language": "python",
   "name": "python3"
  },
  "language_info": {
   "codemirror_mode": {
    "name": "ipython",
    "version": 3
   },
   "file_extension": ".py",
   "mimetype": "text/x-python",
   "name": "python",
   "nbconvert_exporter": "python",
   "pygments_lexer": "ipython3",
   "version": "3.8.3"
  }
 },
 "nbformat": 4,
 "nbformat_minor": 4
}
