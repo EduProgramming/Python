{
 "cells": [
  {
   "cell_type": "markdown",
   "metadata": {},
   "source": [
    "# 정렬, Sorting\n",
    "\n",
    "## 1. 선택 정렬"
   ]
  },
  {
   "cell_type": "code",
   "execution_count": 1,
   "metadata": {},
   "outputs": [
    {
     "name": "stdout",
     "output_type": "stream",
     "text": [
      "[2, 3, 4, 5, 6, 7]\n"
     ]
    }
   ],
   "source": [
    "data = [5, 2, 7, 3, 6, 4]\n",
    "for i in range(len(data)-1):\n",
    "    for j in range(i+1, len(data)):\n",
    "        if data[i] > data[j]:\n",
    "            data[i], data[j] = data[j], data[i]\n",
    "#             temp = data[j]\n",
    "#             data[j] = data[i]\n",
    "#             data[i] = temp\n",
    "print(data)"
   ]
  },
  {
   "cell_type": "markdown",
   "metadata": {},
   "source": [
    "## 2. 버블 정렬"
   ]
  },
  {
   "cell_type": "code",
   "execution_count": 2,
   "metadata": {},
   "outputs": [
    {
     "name": "stdout",
     "output_type": "stream",
     "text": [
      "[1, 2, 3, 4, 5, 6]\n"
     ]
    }
   ],
   "source": [
    "data = [5, 2, 1, 3, 6, 4]\n",
    "\"\"\"\n",
    "N = 6\n",
    "1싸이클: 5\n",
    "2싸이클: 4\n",
    "3싸이클: 3\n",
    "4싸이클: 2\n",
    "5싸이클: 1\n",
    "\"\"\"\n",
    "# for i in range(len(data)-1):\n",
    "#     for j in range(len(data)-2, i-1, -1):\n",
    "# #         print(i, j)\n",
    "#         if data[j] > data[j+1]:\n",
    "#             data[j], data[j+1] = data[j+1], data[j]\n",
    "# print(data)\n",
    "\n",
    "for i in range(len(data)-1): # i: 0~5\n",
    "    for j in range(len(data)-1-i):\n",
    "        if data[j] > data[j+1]:\n",
    "            data[j], data[j+1] = data[j+1], data[j]\n",
    "print(data)"
   ]
  },
  {
   "cell_type": "markdown",
   "metadata": {},
   "source": [
    "## 3. 삽입 정렬"
   ]
  },
  {
   "cell_type": "code",
   "execution_count": 3,
   "metadata": {},
   "outputs": [
    {
     "name": "stdout",
     "output_type": "stream",
     "text": [
      "[1, 2, 3, 4, 5, 6]\n"
     ]
    }
   ],
   "source": [
    "data = [5, 2, 1, 3, 6, 4]\n",
    "\n",
    "for i in range(1, len(data)):\n",
    "    idx = i - 1\n",
    "    current_value = data[i]\n",
    "    while data[idx] > current_value and idx >= 0:\n",
    "        data[idx+1] = data[idx]\n",
    "        idx -= 1\n",
    "    data[idx+1] = current_value\n",
    "\n",
    "print(data)"
   ]
  },
  {
   "cell_type": "markdown",
   "metadata": {},
   "source": [
    "## 4. 카운트 정렬\n",
    "\n",
    "제약: 들어오는 수들이 0, 양수여야함\n",
    "\n",
    "인덱스를 통해서 해당 값을 넣고, 카운트 갯수를 센다음 정렬하는 방식"
   ]
  },
  {
   "cell_type": "code",
   "execution_count": 4,
   "metadata": {},
   "outputs": [
    {
     "name": "stdout",
     "output_type": "stream",
     "text": [
      "[0, 1, 1, 1, 1, 1, 1]\n",
      "[1, 2, 3, 4, 5, 6]\n"
     ]
    }
   ],
   "source": [
    "\"\"\"\n",
    "1 3 5 3\n",
    " 0  1  2  3  4  5  \n",
    "[0, 0, 0, 0, 0, 0]\n",
    "    1\n",
    "    1     1\n",
    " 0  1  0  1  0  1\n",
    " 0  1  0  2  0  1\n",
    "1 3 3 5\n",
    "\"\"\"\n",
    "\n",
    "data = [5, 2, 1, 3, 6, 4]\n",
    "idx_list = [0] * (max(data) + 1)\n",
    "result = []\n",
    "for i in range(len(data)):\n",
    "    idx_list[data[i]] += 1\n",
    "\n",
    "print(idx_list)\n",
    "\n",
    "for i in range(len(idx_list)):\n",
    "    while idx_list[i] > 0:\n",
    "        idx_list[i] -= 1\n",
    "        result.append(i)\n",
    "        \n",
    "print(result)"
   ]
  }
 ],
 "metadata": {
  "kernelspec": {
   "display_name": "Python 3",
   "language": "python",
   "name": "python3"
  },
  "language_info": {
   "codemirror_mode": {
    "name": "ipython",
    "version": 3
   },
   "file_extension": ".py",
   "mimetype": "text/x-python",
   "name": "python",
   "nbconvert_exporter": "python",
   "pygments_lexer": "ipython3",
   "version": "3.8.3"
  }
 },
 "nbformat": 4,
 "nbformat_minor": 4
}
