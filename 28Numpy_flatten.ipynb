{
 "cells": [
  {
   "cell_type": "markdown",
   "metadata": {},
   "source": [
    "# 배열을 평평하게 하는 방법\n",
    "\n",
    "## 1. flatten()\n",
    "\n",
    "flatten()방식은 copy방식을 사용하여 깊은 복사로 진행됩니다.\n",
    "\n",
    "하나의 차원으로 축소된 배열의 복사본을 반환합니다.\n",
    "\n",
    "`ndarray.flatten(order='C')`\n",
    "\n",
    "> order: [선택사항] default='C'\n",
    "> - C: 행을 우선 평면화\n",
    "> - F: 열을 우선 평면화"
   ]
  },
  {
   "cell_type": "code",
   "execution_count": 1,
   "metadata": {},
   "outputs": [
    {
     "name": "stdout",
     "output_type": "stream",
     "text": [
      "[[1 2]\n",
      " [3 4]\n",
      " [5 6]]\n",
      "[1 2 3 4 5 6]\n"
     ]
    }
   ],
   "source": [
    "import numpy as np\n",
    "\n",
    "arr = np.arange(1, 7).reshape(3,2)\n",
    "print(arr)\n",
    "\n",
    "flatten_arr = arr.flatten()\n",
    "print(flatten_arr)"
   ]
  },
  {
   "cell_type": "markdown",
   "metadata": {},
   "source": [
    "## 2. ravel()\n",
    "\n",
    "ravel()방식은 view방식을 사용하여 얕은 복사로 진행됩니다.\n",
    "\n",
    "연속적인 평탄화된 배열을 반환합니다."
   ]
  },
  {
   "cell_type": "code",
   "execution_count": 2,
   "metadata": {},
   "outputs": [
    {
     "name": "stdout",
     "output_type": "stream",
     "text": [
      "[[1 2]\n",
      " [3 4]\n",
      " [5 6]]\n",
      "[1 2 3 4 5 6]\n",
      "[[  1   2]\n",
      " [  3 100]\n",
      " [  5   6]]\n"
     ]
    }
   ],
   "source": [
    "arr = np.arange(1, 7).reshape(3,2)\n",
    "print(arr)\n",
    "\n",
    "ravel_arr = np.ravel(arr)\n",
    "print(ravel_arr)\n",
    "\n",
    "# 얕은 복사 확인해보기\n",
    "ravel_arr[3] = 100\n",
    "\n",
    "print(arr)"
   ]
  }
 ],
 "metadata": {
  "kernelspec": {
   "display_name": "Python 3",
   "language": "python",
   "name": "python3"
  },
  "language_info": {
   "codemirror_mode": {
    "name": "ipython",
    "version": 3
   },
   "file_extension": ".py",
   "mimetype": "text/x-python",
   "name": "python",
   "nbconvert_exporter": "python",
   "pygments_lexer": "ipython3",
   "version": "3.7.7"
  }
 },
 "nbformat": 4,
 "nbformat_minor": 4
}
