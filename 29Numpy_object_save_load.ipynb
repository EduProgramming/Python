{
 "cells": [
  {
   "cell_type": "markdown",
   "metadata": {},
   "source": [
    "# Numpy 객체 저장 및 불러오기\n",
    "\n",
    "## 1. 객체 저장하기\n",
    "\n",
    "numpy 객체는 `.npy`, `.npz`, `.csv`, `.txt` 파일 등으로 저장되고 다시 로드하여 이용할 수 있습니다.\n",
    "\n",
    "단일 ndarray 객체를 저장하려면 **np.save()**를 이용해 `.npy`파일로 저장합니다."
   ]
  },
  {
   "cell_type": "code",
   "execution_count": 1,
   "metadata": {},
   "outputs": [],
   "source": [
    "import numpy as np\n",
    "\n",
    "# 단일 ndarry 객체 저장\n",
    "\n",
    "arr = np.arange(1, 7)\n",
    "np.save('./assets/test', arr) # assets폴더 안에 test.npy 파일 저장됨"
   ]
  },
  {
   "cell_type": "markdown",
   "metadata": {},
   "source": [
    "하나의 파일에 둘 이상의 ndarray 객체를 저장하려면 **np.savez()**을 이용해 `.npz`파일로 저장합니다."
   ]
  },
  {
   "cell_type": "code",
   "execution_count": 2,
   "metadata": {},
   "outputs": [],
   "source": [
    "arr1 = np.arange(1,7)\n",
    "arr2 = np.linspace(1, 10, num=5)\n",
    "\n",
    "np.savez('./assets/test', arr1=arr1, arr2=arr2) # assets폴더 안에 test.npz 파일 저장됨\n",
    "# 초기부터 키워드값을 넣어줘서 이후에 가져올 때 해당 키워드 이용하게 설정\n",
    "# 키워드를 쓰지 않으면 arr_0, arr_1 이런식으로 키워드가 작성됨"
   ]
  },
  {
   "cell_type": "markdown",
   "metadata": {},
   "source": [
    "numpy 배열을 `.csv` 파일이나 `.txt` 파일에 저장하려면 **savetxt()**를 이용하면 됩니다."
   ]
  },
  {
   "cell_type": "code",
   "execution_count": 3,
   "metadata": {},
   "outputs": [],
   "source": [
    "arr = np.arange(1, 10, step=3)\n",
    "np.savetxt('./assets/numpy_test.csv', arr) # assets폴더 안에 numpy_test.csv 파일 저장됨"
   ]
  },
  {
   "cell_type": "markdown",
   "metadata": {},
   "source": [
    "## 2. 객체 불러오기"
   ]
  },
  {
   "cell_type": "code",
   "execution_count": 4,
   "metadata": {},
   "outputs": [
    {
     "name": "stdout",
     "output_type": "stream",
     "text": [
      "[1 2 3 4 5 6]\n"
     ]
    }
   ],
   "source": [
    "# 단일 npy 파일 불러오기\n",
    "arr = np.load('./assets/test.npy')\n",
    "print(arr)"
   ]
  },
  {
   "cell_type": "code",
   "execution_count": 5,
   "metadata": {},
   "outputs": [
    {
     "name": "stdout",
     "output_type": "stream",
     "text": [
      "[1 2 3 4 5 6]\n",
      "[ 1.    3.25  5.5   7.75 10.  ]\n"
     ]
    }
   ],
   "source": [
    "# 다중 npz 파일 불러오기\n",
    "load_numpy = np.load('./assets/test.npz')\n",
    "arr1 = load_numpy['arr1']\n",
    "arr2 = load_numpy['arr2']\n",
    "print(arr1)\n",
    "print(arr2)"
   ]
  },
  {
   "cell_type": "code",
   "execution_count": 6,
   "metadata": {},
   "outputs": [
    {
     "name": "stdout",
     "output_type": "stream",
     "text": [
      "[1. 4. 7.]\n"
     ]
    }
   ],
   "source": [
    "# loadtxt\n",
    "arr = np.loadtxt('./assets/numpy_test.csv')\n",
    "print(arr)"
   ]
  }
 ],
 "metadata": {
  "kernelspec": {
   "display_name": "Python 3",
   "language": "python",
   "name": "python3"
  },
  "language_info": {
   "codemirror_mode": {
    "name": "ipython",
    "version": 3
   },
   "file_extension": ".py",
   "mimetype": "text/x-python",
   "name": "python",
   "nbconvert_exporter": "python",
   "pygments_lexer": "ipython3",
   "version": "3.7.7"
  }
 },
 "nbformat": 4,
 "nbformat_minor": 4
}
