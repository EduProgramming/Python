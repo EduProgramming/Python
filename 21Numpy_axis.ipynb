{
 "cells": [
  {
   "cell_type": "markdown",
   "id": "87071c3a",
   "metadata": {},
   "source": [
    "# axis 축\n",
    "\n",
    "ndarray는 행열의 개념이 아닌 axis0, axis1, axis2인 axis단위로 부여됩니다.\n",
    "\n",
    "**1차원 배열**일 때,\n",
    "\n",
    "- axis0: 열방향\n",
    "\n",
    "**2차원 배열**일 때,\n",
    "\n",
    "- axis0: 행방향\n",
    "\n",
    "- axis1: 열방향\n",
    "\n",
    "**3차원 배열**일 때,\n",
    "\n",
    "- axis0: 높이\n",
    "\n",
    "- axis1: 행방향\n",
    "\n",
    "- axis2: 열방향\n",
    "\n",
    "\n",
    "\n",
    "\n",
    "![ndarray axis](./assets/numpy_axis.png)"
   ]
  },
  {
   "cell_type": "code",
   "execution_count": 1,
   "id": "d7354a5d",
   "metadata": {},
   "outputs": [
    {
     "name": "stdout",
     "output_type": "stream",
     "text": [
      "[[[ 1  2  3  4]\n",
      "  [ 5  6  7  8]\n",
      "  [ 9 10 11 12]]\n",
      "\n",
      " [[13 14 15 16]\n",
      "  [17 18 19 20]\n",
      "  [21 22 23 24]]\n",
      "\n",
      " [[25 26 27 28]\n",
      "  [29 30 31 32]\n",
      "  [33 34 35 36]]]\n"
     ]
    }
   ],
   "source": [
    "import numpy as np\n",
    "\n",
    "data = [\n",
    "    [\n",
    "        [1, 2, 3, 4],\n",
    "        [5, 6, 7, 8],\n",
    "        [9, 10, 11, 12]\n",
    "    ],\n",
    "    [\n",
    "        [13, 14, 15, 16],\n",
    "        [17, 18, 19, 20],\n",
    "        [21, 22, 23, 24]\n",
    "    ],\n",
    "    [\n",
    "        [25, 26, 27, 28],\n",
    "        [29, 30, 31, 32],\n",
    "        [33, 34, 35, 36]\n",
    "    ]\n",
    "]\n",
    "\n",
    "arr = np.array(data)\n",
    "print(arr)"
   ]
  }
 ],
 "metadata": {
  "kernelspec": {
   "display_name": "Python 3",
   "language": "python",
   "name": "python3"
  },
  "language_info": {
   "codemirror_mode": {
    "name": "ipython",
    "version": 3
   },
   "file_extension": ".py",
   "mimetype": "text/x-python",
   "name": "python",
   "nbconvert_exporter": "python",
   "pygments_lexer": "ipython3",
   "version": "3.8.8"
  }
 },
 "nbformat": 4,
 "nbformat_minor": 5
}
