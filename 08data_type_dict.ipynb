{
 "cells": [
  {
   "cell_type": "markdown",
   "metadata": {},
   "source": [
    "# Dictionary, 딕셔너리\n",
    "\n",
    "> 참고 | 해시\n",
    ">\n",
    "> 딕셔너리는 해시(Hash) 기법을 이용해서 데이터를 저장합니다. 보통 딕셔너리와 같은 키-값 형태의 자료형을 해시, 해시 맵, 해시테이블 등으로 부르기도 합니다.\n",
    "\n",
    "정교수님은 학생들의 정보를 리스트에 정리하였습니다.\n",
    "\n",
    "다음이 정교수님이 학생들의 정보를 취합한 방식입니다.\n",
    "\n",
    "```python\n",
    "# 학번, 이름, 태도점수, 참여점수, 중간평가점수, 기말평가점수\n",
    "python_student = [\n",
    "    [1, '이익준', 'A', 'A+', 'A', 'A'],\n",
    "    [2, '채송화', 'A+', 'A', 'A+', 'A+'],\n",
    "    [3, '안정원', 'A+', 'A', 'B+', 'B']\n",
    "]\n",
    "```\n",
    "\n",
    "정교수님이 작업을 하던 중에 인덱스에 위치하는 정보들이 무엇인지 까먹는 문제가 발생하였습니다.\n",
    "\n",
    "정교수님은 인덱스에서 무엇을 의미하는지 알고 싶어합니다.\n",
    "\n",
    "이럴때 우리는 사전형(dictionary) 자료형을 사용하여 해결할 수 있습니다.\n",
    "\n",
    "사용법은 다음과 같습니다."
   ]
  },
  {
   "cell_type": "markdown",
   "metadata": {},
   "source": [
    "## 1. 딕셔너리 할당\n",
    "\n",
    "빈 딕셔너리를 만들 때는 2가지 방법이 있습니다.\n",
    "\n",
    "1. dict()\n",
    "2. {}\n",
    "\n",
    "`{}`는 이후에 배울 `set, 집합`에서도 사용됩니다.\n",
    "\n",
    "key: value값이 있다면 딕셔너리 자료형이고, 값만 들어간다면 집합 자료형입니다."
   ]
  },
  {
   "cell_type": "code",
   "execution_count": 1,
   "metadata": {},
   "outputs": [
    {
     "name": "stdout",
     "output_type": "stream",
     "text": [
      "{'key1': 'value1', 'key2': 'value2', 'key3': 'value3'}\n"
     ]
    }
   ],
   "source": [
    "dict_data = {\n",
    "    \"key1\": \"value1\",\n",
    "    \"key2\": \"value2\",\n",
    "    \"key3\": \"value3\"\n",
    "}\n",
    "\n",
    "print(dict_data)"
   ]
  },
  {
   "cell_type": "markdown",
   "metadata": {},
   "source": [
    "![](../assets/dict_key_map.png)"
   ]
  },
  {
   "cell_type": "markdown",
   "metadata": {},
   "source": [
    "## 2. 딕셔너리 key, value 사용해보기\n",
    "\n",
    "문자열과 리스트, 튜플의 경우에는 인덱싱을 통해서 값 하나하나에 접근할 수 있었습니다.\n",
    "\n",
    "딕셔너리의 경우에는 인덱스에 키값을 넣어서 값을 가져올 수 있습니다.\n",
    "\n",
    "사용법은 이와 `dict_data['key1']` 같습니다."
   ]
  },
  {
   "cell_type": "code",
   "execution_count": 2,
   "metadata": {
    "scrolled": false
   },
   "outputs": [
    {
     "name": "stdout",
     "output_type": "stream",
     "text": [
      "value1\n",
      "{'key1': 'value1', 'key2': 123, 'key3': 'value3'}\n"
     ]
    },
    {
     "ename": "KeyError",
     "evalue": "'val'",
     "output_type": "error",
     "traceback": [
      "\u001b[1;31m---------------------------------------------------------------------------\u001b[0m",
      "\u001b[1;31mKeyError\u001b[0m                                  Traceback (most recent call last)",
      "\u001b[1;32m<ipython-input-2-dba58b2903b0>\u001b[0m in \u001b[0;36m<module>\u001b[1;34m\u001b[0m\n\u001b[0;32m     12\u001b[0m \u001b[0mprint\u001b[0m\u001b[1;33m(\u001b[0m\u001b[0mdict_data\u001b[0m\u001b[1;33m)\u001b[0m \u001b[1;31m# {'key1': 'value1', 'key2': 123, 'key3': 'value3'}\u001b[0m\u001b[1;33m\u001b[0m\u001b[1;33m\u001b[0m\u001b[0m\n\u001b[0;32m     13\u001b[0m \u001b[1;33m\u001b[0m\u001b[0m\n\u001b[1;32m---> 14\u001b[1;33m \u001b[0mprint\u001b[0m\u001b[1;33m(\u001b[0m\u001b[0mdict_data\u001b[0m\u001b[1;33m[\u001b[0m\u001b[1;34m\"val\"\u001b[0m\u001b[1;33m]\u001b[0m\u001b[1;33m)\u001b[0m \u001b[1;31m# KeyError Traceback (most recent call last)\u001b[0m\u001b[1;33m\u001b[0m\u001b[1;33m\u001b[0m\u001b[0m\n\u001b[0m",
      "\u001b[1;31mKeyError\u001b[0m: 'val'"
     ]
    }
   ],
   "source": [
    "dict_data = {\n",
    "    \"key1\": \"value1\",\n",
    "    \"key2\": \"value2\",\n",
    "    \"key3\": \"value3\"\n",
    "}\n",
    "\n",
    "# dict_data key값 key1에 value 가져와보기\n",
    "print(dict_data[\"key1\"]) # value1\n",
    "\n",
    "# dict_data key값에 접근하여 value값 변경하기\n",
    "dict_data[\"key2\"] = 123\n",
    "print(dict_data) # {'key1': 'value1', 'key2': 123, 'key3': 'value3'}\n",
    "\n",
    "print(dict_data[\"val\"]) # KeyError Traceback (most recent call last)"
   ]
  },
  {
   "cell_type": "markdown",
   "metadata": {},
   "source": [
    "위의 결과로 보았을 때 알수있듯, dictionary는 수정이 가능(**mutable**)합니다.\n",
    "\n",
    "<sub>**주의]**</sub>\n",
    "<div style=\"border-left-style: solid;\n",
    "  border-left-color: coral;\n",
    "  padding-left: 10px;\">\n",
    "    <strong>Dictionary key값</strong><br />\n",
    "    dict 자료형에서 key값은 수정 불가한 객체(immutable)만 가능합니다.<br />\n",
    "    키값이 중복되었을 때는 가장 아래에 쓰인 값으로 재할당됩니다.\n",
    "</div>"
   ]
  },
  {
   "cell_type": "code",
   "execution_count": 3,
   "metadata": {},
   "outputs": [
    {
     "name": "stdout",
     "output_type": "stream",
     "text": [
      "{1: '숫자로 키값 만들기', '1': '문자로 키값 만들기', (1, 2, 3): '튜플로 키값 만들기'}\n"
     ]
    },
    {
     "ename": "TypeError",
     "evalue": "unhashable type: 'list'",
     "output_type": "error",
     "traceback": [
      "\u001b[1;31m---------------------------------------------------------------------------\u001b[0m",
      "\u001b[1;31mTypeError\u001b[0m                                 Traceback (most recent call last)",
      "\u001b[1;32m<ipython-input-3-402ba509280d>\u001b[0m in \u001b[0;36m<module>\u001b[1;34m\u001b[0m\n\u001b[0;32m      8\u001b[0m \u001b[0mprint\u001b[0m\u001b[1;33m(\u001b[0m\u001b[0mdict_data\u001b[0m\u001b[1;33m)\u001b[0m \u001b[1;31m# {1: '숫자로 키값 만들기', '1': '문자로 키값 만들기', (1, 2, 3): '튜플로 키값 만들기'}\u001b[0m\u001b[1;33m\u001b[0m\u001b[1;33m\u001b[0m\u001b[0m\n\u001b[0;32m      9\u001b[0m \u001b[1;33m\u001b[0m\u001b[0m\n\u001b[1;32m---> 10\u001b[1;33m dict_data = {\n\u001b[0m\u001b[0;32m     11\u001b[0m     \u001b[1;33m[\u001b[0m\u001b[1;36m1\u001b[0m\u001b[1;33m,\u001b[0m\u001b[1;36m2\u001b[0m\u001b[1;33m,\u001b[0m\u001b[1;36m3\u001b[0m\u001b[1;33m]\u001b[0m\u001b[1;33m:\u001b[0m \u001b[1;34m\"리스트는 mutable하기에 키값이 될수 없습니다.\"\u001b[0m\u001b[1;33m\u001b[0m\u001b[1;33m\u001b[0m\u001b[0m\n\u001b[0;32m     12\u001b[0m } # #TypeError: unhashable type: 'list'\n",
      "\u001b[1;31mTypeError\u001b[0m: unhashable type: 'list'"
     ]
    }
   ],
   "source": [
    "dict_data = {\n",
    "    1: \"숫자로 키값 만들기\",\n",
    "    \"1\": \"숫자(?)로 키값 만들기\",\n",
    "    \"1\": \"문자로 키값 만들기\",\n",
    "    (1,2,3): \"튜플로 키값 만들기\"\n",
    "}\n",
    "\n",
    "print(dict_data) # {1: '숫자로 키값 만들기', '1': '문자로 키값 만들기', (1, 2, 3): '튜플로 키값 만들기'}\n",
    "\n",
    "dict_data = {\n",
    "    [1,2,3]: \"리스트는 mutable하기에 키값이 될수 없습니다.\"\n",
    "} # #TypeError: unhashable type: 'list'\n",
    "\n",
    "print(dict_data)"
   ]
  },
  {
   "cell_type": "markdown",
   "metadata": {},
   "source": [
    "## 3. 딕셔너리 key, value 추가, 삭제\n",
    "\n",
    "### - 1) 추가"
   ]
  },
  {
   "cell_type": "code",
   "execution_count": 4,
   "metadata": {},
   "outputs": [
    {
     "name": "stdout",
     "output_type": "stream",
     "text": [
      "{1: '일', 2: '이'}\n"
     ]
    }
   ],
   "source": [
    "dict_data = {}\n",
    "dict_data[1] = \"일\"\n",
    "dict_data[2] = \"이\"\n",
    "print(dict_data)"
   ]
  },
  {
   "cell_type": "markdown",
   "metadata": {},
   "source": [
    "### - 2) 삭제"
   ]
  },
  {
   "cell_type": "code",
   "execution_count": 5,
   "metadata": {},
   "outputs": [
    {
     "name": "stdout",
     "output_type": "stream",
     "text": [
      "{1: '일'}\n"
     ]
    }
   ],
   "source": [
    "dict_data = {\n",
    "    1: \"일\",\n",
    "    2: \"이\"\n",
    "}\n",
    "\n",
    "# 딕셔너리 요소 삭제\n",
    "del dict_data[2] # 해당 2는 인덱스가 아닌 key값\n",
    "\n",
    "print(dict_data)"
   ]
  },
  {
   "cell_type": "markdown",
   "metadata": {},
   "source": [
    "## 4. 딕셔너리 관련 함수들"
   ]
  },
  {
   "cell_type": "markdown",
   "metadata": {},
   "source": [
    "### - 1) keys\n",
    "\n",
    "`keys`함수는 딕셔너리의 키값들을 반환합니다.\n",
    "\n",
    "사용법은 `dict_data.keys()`입니다."
   ]
  },
  {
   "cell_type": "code",
   "execution_count": 6,
   "metadata": {},
   "outputs": [
    {
     "name": "stdout",
     "output_type": "stream",
     "text": [
      "dict_keys(['python', 'list', 'dict'])\n"
     ]
    }
   ],
   "source": [
    "dict_data = {\n",
    "    \"python\": \"파이썬\",\n",
    "    \"list\": \"리스트\",\n",
    "    \"dict\": \"딕셔너리\"\n",
    "}\n",
    "\n",
    "print(dict_data.keys()) # dict_keys(['python', 'list', 'dict'])"
   ]
  },
  {
   "cell_type": "markdown",
   "metadata": {},
   "source": [
    "### - 2) values\n",
    "\n",
    "`values`함수는 딕셔너리의 값들을 반환합니다.\n",
    "\n",
    "사용법은 `dict_data.values()`입니다."
   ]
  },
  {
   "cell_type": "code",
   "execution_count": 7,
   "metadata": {},
   "outputs": [
    {
     "name": "stdout",
     "output_type": "stream",
     "text": [
      "dict_values(['파이썬', '리스트', '딕셔너리'])\n"
     ]
    }
   ],
   "source": [
    "dict_data = {\n",
    "    \"python\": \"파이썬\",\n",
    "    \"list\": \"리스트\",\n",
    "    \"dict\": \"딕셔너리\"\n",
    "}\n",
    "\n",
    "print(dict_data.values()) # dict_values(['파이썬', '리스트', '딕셔너리'])"
   ]
  },
  {
   "cell_type": "markdown",
   "metadata": {},
   "source": [
    "### - 3) items\n",
    "\n",
    "`items`함수는 딕셔너리의 키, 값들을 반환합니다.\n",
    "\n",
    "사용법은 `dict_data.items()`입니다."
   ]
  },
  {
   "cell_type": "code",
   "execution_count": 8,
   "metadata": {},
   "outputs": [
    {
     "name": "stdout",
     "output_type": "stream",
     "text": [
      "dict_items([('python', '파이썬'), ('list', '리스트'), ('dict', '딕셔너리')])\n"
     ]
    }
   ],
   "source": [
    "dict_data = {\n",
    "    \"python\": \"파이썬\",\n",
    "    \"list\": \"리스트\",\n",
    "    \"dict\": \"딕셔너리\"\n",
    "}\n",
    "\n",
    "print(dict_data.items()) # dict_items([('python', '파이썬'), ('list', '리스트'), ('dict', '딕셔너리')])"
   ]
  },
  {
   "cell_type": "markdown",
   "metadata": {},
   "source": [
    "### - 4) clear\n",
    "\n",
    "`clear`함수는 딕셔너리 안의 모든 요소를 삭제합니다.\n",
    "\n",
    "사용법은 `dict_data.clear()`입니다."
   ]
  },
  {
   "cell_type": "code",
   "execution_count": 9,
   "metadata": {},
   "outputs": [
    {
     "name": "stdout",
     "output_type": "stream",
     "text": [
      "{}\n"
     ]
    }
   ],
   "source": [
    "dict_data = {\n",
    "    \"python\": \"파이썬\",\n",
    "    \"list\": \"리스트\",\n",
    "    \"dict\": \"딕셔너리\"\n",
    "}\n",
    "\n",
    "dict_data.clear()\n",
    "\n",
    "print(dict_data) # {} : 빈 딕셔너리"
   ]
  },
  {
   "cell_type": "markdown",
   "metadata": {},
   "source": [
    "### - 5) get\n",
    "\n",
    "`get`함수는 딕셔너리 키값을 이용해서 값을 반환받는 함수입니다.\n",
    "\n",
    "`dict_data['key값']`으로 접근하는 방식과 동일한 값을 얻을 수 있습니다.\n",
    "\n",
    "차이점은 해당 key값에 대한 값이 없을 때입니다.\n",
    "\n",
    "`dict_data['key값']`으로 접근할 때는 값이 없으면 Error가 발생하지만,\n",
    "\n",
    "`dict_data.get('key값')`으로 접근을 할 때 값이 없으면 None이 반환됩니다.\n",
    "\n",
    "<sub>**참고]**</sub>\n",
    "<div style=\"border-left-style: solid;\n",
    "  border-left-color: coral;\n",
    "  padding-left: 10px;\">\n",
    "    <strong>None</strong><br />\n",
    "    `None` 자료형은 아무것도 없는 상태를 나타내는 자료형입니다.\n",
    "</div>"
   ]
  },
  {
   "cell_type": "code",
   "execution_count": 10,
   "metadata": {},
   "outputs": [
    {
     "name": "stdout",
     "output_type": "stream",
     "text": [
      "파이썬\n",
      "None\n"
     ]
    }
   ],
   "source": [
    "dict_data = {\n",
    "    \"python\": \"파이썬\",\n",
    "    \"list\": \"리스트\",\n",
    "    \"dict\": \"딕셔너리\"\n",
    "}\n",
    "\n",
    "python = dict_data.get('python')\n",
    "print(python) # 파이썬\n",
    "\n",
    "null_data = dict_data.get('Python')\n",
    "print(null_data) # None"
   ]
  },
  {
   "cell_type": "markdown",
   "metadata": {},
   "source": [
    "### - 6) in\n",
    "\n",
    "구성원 연산자에 있는 `in`을 써서 해당 값이 있는지 없는지 판별할 수 있습니다.\n",
    "\n",
    "결과값은 Bool자료형인 `True`/`False`로 나오게 됩니다.\n",
    "\n",
    "사용법은 `해당값 in iterable객체` 입니다.\n",
    "\n",
    "기본적인 딕셔너리에서 해당값과 비교되는 요소는 key값들입니다."
   ]
  },
  {
   "cell_type": "code",
   "execution_count": 11,
   "metadata": {},
   "outputs": [
    {
     "name": "stdout",
     "output_type": "stream",
     "text": [
      "True\n",
      "False\n",
      "False\n"
     ]
    }
   ],
   "source": [
    "dict_data = {\n",
    "    \"python\": \"파이썬\",\n",
    "    \"list\": \"리스트\",\n",
    "    \"dict\": \"딕셔너리\"\n",
    "}\n",
    "\n",
    "# Key값 사용했을 때 결과\n",
    "result = 'python' in dict_data\n",
    "print(result) # True\n",
    "\n",
    "# Value값 사용했을 때 결과\n",
    "result = '파이썬' in dict_data\n",
    "print(result) # False\n",
    "\n",
    "# Key에 없는 값 사용했을 때 결과\n",
    "result = '없음' in dict_data\n",
    "print(result) # False"
   ]
  }
 ],
 "metadata": {
  "kernelspec": {
   "display_name": "Python 3",
   "language": "python",
   "name": "python3"
  },
  "language_info": {
   "codemirror_mode": {
    "name": "ipython",
    "version": 3
   },
   "file_extension": ".py",
   "mimetype": "text/x-python",
   "name": "python",
   "nbconvert_exporter": "python",
   "pygments_lexer": "ipython3",
   "version": "3.8.8"
  }
 },
 "nbformat": 4,
 "nbformat_minor": 4
}
