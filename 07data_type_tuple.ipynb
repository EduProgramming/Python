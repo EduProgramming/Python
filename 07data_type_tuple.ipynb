{
 "cells": [
  {
   "cell_type": "markdown",
   "metadata": {},
   "source": [
    "# Tuple, 튜플\n",
    "\n",
    "1. 튜플은 ()으로 둘러쌉니다. (리스트는 [])\n",
    "2. 튜플은 값을 변경할 수 없습니다(=immutable). (리스트는 mutable)"
   ]
  },
  {
   "cell_type": "markdown",
   "metadata": {},
   "source": [
    "## 사용방법"
   ]
  },
  {
   "cell_type": "code",
   "execution_count": 1,
   "metadata": {},
   "outputs": [
    {
     "name": "stdout",
     "output_type": "stream",
     "text": [
      "(1, 2, 3)\n",
      "<class 'tuple'>\n",
      "1\n",
      "2\n",
      "3\n",
      "(1, 2)\n",
      "(1,)\n",
      "(1, 2, 3, 4, 5, 6)\n",
      "(1, 2, 3, 1, 2, 3)\n"
     ]
    },
    {
     "ename": "TypeError",
     "evalue": "'tuple' object does not support item assignment",
     "output_type": "error",
     "traceback": [
      "\u001b[1;31m---------------------------------------------------------------------------\u001b[0m",
      "\u001b[1;31mTypeError\u001b[0m                                 Traceback (most recent call last)",
      "\u001b[1;32m<ipython-input-1-bdf25fbc96a5>\u001b[0m in \u001b[0;36m<module>\u001b[1;34m\u001b[0m\n\u001b[0;32m     20\u001b[0m \u001b[0mprint\u001b[0m\u001b[1;33m(\u001b[0m\u001b[0mtuple_data\u001b[0m \u001b[1;33m*\u001b[0m \u001b[1;36m2\u001b[0m\u001b[1;33m)\u001b[0m \u001b[1;31m# (1, 2, 3, 1, 2, 3)\u001b[0m\u001b[1;33m\u001b[0m\u001b[1;33m\u001b[0m\u001b[0m\n\u001b[0;32m     21\u001b[0m \u001b[1;33m\u001b[0m\u001b[0m\n\u001b[1;32m---> 22\u001b[1;33m \u001b[0mtuple_data\u001b[0m\u001b[1;33m[\u001b[0m\u001b[1;36m0\u001b[0m\u001b[1;33m]\u001b[0m \u001b[1;33m=\u001b[0m \u001b[1;36m4\u001b[0m \u001b[1;31m# TypeError: 'tuple' object does not support item assignment\u001b[0m\u001b[1;33m\u001b[0m\u001b[1;33m\u001b[0m\u001b[0m\n\u001b[0m\u001b[0;32m     23\u001b[0m \u001b[0mprint\u001b[0m\u001b[1;33m(\u001b[0m\u001b[0mtuple_data\u001b[0m\u001b[1;33m)\u001b[0m\u001b[1;33m\u001b[0m\u001b[1;33m\u001b[0m\u001b[0m\n",
      "\u001b[1;31mTypeError\u001b[0m: 'tuple' object does not support item assignment"
     ]
    }
   ],
   "source": [
    "tuple_data = (1, 2, 3)\n",
    "print(tuple_data) # (1, 2, 3)\n",
    "print(type(tuple_data)) # Type -> <class 'tuple'>\n",
    "\n",
    "# Index 접근\n",
    "print(tuple_data[0]) # 1\n",
    "print(tuple_data[1]) # 2\n",
    "\n",
    "# tuple_data Size(길이)\n",
    "print(len(tuple_data)) # 3\n",
    "\n",
    "# tuple 슬라이싱\n",
    "print(tuple_data[:2]) # (1, 2)\n",
    "print(tuple_data[0:1]) # (1,)\n",
    "\n",
    "# `+`연산\n",
    "print(tuple_data + (4, 5, 6)) # (1, 2, 3, 4, 5, 6)\n",
    "\n",
    "# `*` 연산\n",
    "print(tuple_data * 2) # (1, 2, 3, 1, 2, 3)\n",
    "\n",
    "tuple_data[0] = 4 # TypeError: 'tuple' object does not support item assignment\n",
    "print(tuple_data)"
   ]
  },
  {
   "cell_type": "markdown",
   "metadata": {},
   "source": [
    "튜플은 값을 수정하거나 삭제할 수 없기에,\n",
    "\n",
    "튜플은 값의 변화가 없어야할 때 주로 사용됩니다.\n",
    "\n",
    "반면, 리스트는 값이 추가되고 변화가 될 수 있을 때 사용됩니다.\n",
    "\n",
    "이를 염두해두고 사용하시면 됩니다."
   ]
  },
  {
   "cell_type": "markdown",
   "metadata": {},
   "source": [
    "<sub>**심화1]**</sub>\n",
    "<div style=\"border-left-style: solid;\n",
    "  border-left-color: coral;\n",
    "  padding-left: 10px;\">\n",
    "    <strong>Packing(패킹)과 Unpacking(언패킹)</strong><br/>\n",
    "    패킹은 포장의 의미이고, 언패킹은 포장을 뜯는(언박싱) 의미입니다.<br/>\n",
    "    - 패킹 : 하나의 변수에 여러 개의 값을 넣는 것<br/>\n",
    "    - 언패킹 : 패킹된 변수에서 여러 개의 값을 꺼내는 것<br/>\n",
    "    <br/>\n",
    "    언패킹에서는 풀어주는 갯수와 받는 갯수가 같아야합니다.\n",
    "</div>"
   ]
  },
  {
   "cell_type": "code",
   "execution_count": 2,
   "metadata": {},
   "outputs": [
    {
     "name": "stdout",
     "output_type": "stream",
     "text": [
      "<class 'tuple'>\n",
      "(1, 2, 3)\n",
      "<class 'int'>\n",
      "<class 'int'>\n",
      "<class 'int'>\n",
      "1\n",
      "2\n",
      "3\n"
     ]
    }
   ],
   "source": [
    "packing_data = 1, 2, 3\n",
    "\n",
    "print(type(packing_data)) # <class 'tuple'>\n",
    "print(packing_data) # (1, 2, 3)\n",
    "\n",
    "unpacking_data1, unpacking_data2, unpacking_data3 = packing_data\n",
    "\n",
    "print(type(unpacking_data1)) # <class 'int'>\n",
    "print(type(unpacking_data2)) # <class 'int'>\n",
    "print(type(unpacking_data3)) # <class 'int'>\n",
    "print(unpacking_data1) # 1\n",
    "print(unpacking_data2) # 2\n",
    "print(unpacking_data3) # 3"
   ]
  }
 ],
 "metadata": {
  "kernelspec": {
   "display_name": "Python 3",
   "language": "python",
   "name": "python3"
  },
  "language_info": {
   "codemirror_mode": {
    "name": "ipython",
    "version": 3
   },
   "file_extension": ".py",
   "mimetype": "text/x-python",
   "name": "python",
   "nbconvert_exporter": "python",
   "pygments_lexer": "ipython3",
   "version": "3.8.8"
  }
 },
 "nbformat": 4,
 "nbformat_minor": 4
}
