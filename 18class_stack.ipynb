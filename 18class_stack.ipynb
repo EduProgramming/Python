{
 "cells": [
  {
   "cell_type": "markdown",
   "metadata": {},
   "source": [
    "## 클래스로 Stack 구현"
   ]
  },
  {
   "cell_type": "code",
   "execution_count": 1,
   "metadata": {},
   "outputs": [],
   "source": [
    "\"\"\"\n",
    "push\n",
    "pop\n",
    "isEmpty\n",
    "peek\n",
    "\"\"\"\n",
    "def push(item):\n",
    "    stack.append(item)\n",
    "\n",
    "def pop():\n",
    "    return stack.pop()\n",
    "\n",
    "def isEmpty():\n",
    "    if len(stack) == 0:\n",
    "        print('Stack is Emptry')\n",
    "        return True #비어있으면 True\n",
    "    return False #안에 값이 있으면 False\n",
    "\n",
    "def peek():\n",
    "    return stack[-1]"
   ]
  },
  {
   "cell_type": "code",
   "execution_count": 2,
   "metadata": {},
   "outputs": [
    {
     "name": "stdout",
     "output_type": "stream",
     "text": [
      "[]\n",
      "[5, 3, 1]\n",
      "1\n",
      "3\n",
      "3\n",
      "[5]\n"
     ]
    }
   ],
   "source": [
    "class Stack:\n",
    "    def __init__(self):\n",
    "        self.stack = []\n",
    "        \n",
    "    def push(self, item):\n",
    "        self.stack.append(item)\n",
    "    \n",
    "    def pop(self):\n",
    "        return self.stack.pop()\n",
    "    \n",
    "    def isEmpty(self):\n",
    "        if len(self.stack) == 0:\n",
    "            print('Stack is Emptry')\n",
    "            return True\n",
    "        return False\n",
    "    \n",
    "    def peek(self):\n",
    "        return self.stack[-1]\n",
    "    \n",
    "s = Stack() #FILO, LIFO 후입선출\n",
    "print(s.stack)\n",
    "s.push(5)\n",
    "s.push(3)\n",
    "s.push(1)\n",
    "print(s.stack)\n",
    "\n",
    "print(s.pop())\n",
    "print(s.peek())\n",
    "print(s.pop())\n",
    "print(s.stack)"
   ]
  },
  {
   "cell_type": "markdown",
   "metadata": {},
   "source": [
    "## 클래스로 선형큐 구현"
   ]
  },
  {
   "cell_type": "code",
   "execution_count": 3,
   "metadata": {},
   "outputs": [],
   "source": [
    "\"\"\"\n",
    "createQueue: 공백 상태의 큐 생성\n",
    "enQueue: append\n",
    "deQueue: 큐의 첫번째 요소 꺼내오기\n",
    "isEmpty: 큐 비어있는지 확인\n",
    "isFull: 큐 포화상태 확인\n",
    "Qpeek: 큐의 front 원소 반환\n",
    "\"\"\"\n",
    "def createQueue():\n",
    "    global queue, front, rear\n",
    "    queue = []\n",
    "    front = rear = -1\n",
    "    \n",
    "def enQueue(item):\n",
    "    queue.append(item)\n",
    "    \n",
    "def deQueue():\n",
    "    return queue.pop(0)\n",
    "\n",
    "def isEmpty():\n",
    "    if len(queue) == 0:\n",
    "        print('Queue is Empty')\n",
    "        return True\n",
    "    return False\n",
    "\n",
    "# def isFull():\n",
    "\n",
    "def Qpeek():\n",
    "    return queue[0]"
   ]
  },
  {
   "cell_type": "code",
   "execution_count": 4,
   "metadata": {},
   "outputs": [],
   "source": [
    "class Queue: #FIFO, 선입선출\n",
    "    def createQueue(self):\n",
    "        self.queue = []\n",
    "        self.front = self.rear = -1\n",
    "        \n",
    "    def enQueue(self, item):\n",
    "        self.rear += 1\n",
    "        self.queue.append(item)\n",
    "        \n",
    "    def deQueue(self):\n",
    "#         return self.queue.pop(0)\n",
    "        self.front += 1\n",
    "        return self.queue[self.front]\n",
    "    \n",
    "    def isEmptry(self):\n",
    "        if len(self.queue) == 0:\n",
    "            print('Queue is Emptry')\n",
    "            return True\n",
    "        return False\n",
    "    \n",
    "#     def isFull(self):\n",
    "#         if self.front == self.rear:\n",
    "#             return True\n",
    "#         return False\n",
    "    \n",
    "    def Qpeek(self):\n",
    "        return self.queue[0]"
   ]
  },
  {
   "cell_type": "code",
   "execution_count": 5,
   "metadata": {},
   "outputs": [
    {
     "name": "stdout",
     "output_type": "stream",
     "text": [
      "1\n",
      "1\n",
      "3\n",
      "5\n"
     ]
    }
   ],
   "source": [
    "q = Queue()\n",
    "q.createQueue()\n",
    "q.enQueue(1)\n",
    "q.enQueue(3)\n",
    "q.enQueue(5)\n",
    "print(q.deQueue())\n",
    "print(q.Qpeek())\n",
    "print(q.deQueue())\n",
    "print(q.deQueue())"
   ]
  },
  {
   "cell_type": "code",
   "execution_count": 6,
   "metadata": {},
   "outputs": [],
   "source": [
    "from collections import deque"
   ]
  }
 ],
 "metadata": {
  "kernelspec": {
   "display_name": "Python 3",
   "language": "python",
   "name": "python3"
  },
  "language_info": {
   "codemirror_mode": {
    "name": "ipython",
    "version": 3
   },
   "file_extension": ".py",
   "mimetype": "text/x-python",
   "name": "python",
   "nbconvert_exporter": "python",
   "pygments_lexer": "ipython3",
   "version": "3.8.3"
  }
 },
 "nbformat": 4,
 "nbformat_minor": 4
}
