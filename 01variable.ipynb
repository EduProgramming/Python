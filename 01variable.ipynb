{
 "cells": [
  {
   "cell_type": "markdown",
   "metadata": {},
   "source": [
    "# 변수\n",
    "\n",
    "특정 값을 저장하는 메모리 공간"
   ]
  },
  {
   "cell_type": "code",
   "execution_count": 4,
   "metadata": {},
   "outputs": [
    {
     "name": "stdout",
     "output_type": "stream",
     "text": [
      "5\n"
     ]
    }
   ],
   "source": [
    "x = 5\n",
    "# 변수 =(할당) 5(값)\n",
    "print(x)"
   ]
  },
  {
   "cell_type": "code",
   "execution_count": 7,
   "metadata": {},
   "outputs": [
    {
     "name": "stdout",
     "output_type": "stream",
     "text": [
      "홍길동이 공부를 합니다.\n",
      "홍길동은 시험을 봅니다.\n",
      "좋은 성적을 홍길동은 받았습니다.\n"
     ]
    }
   ],
   "source": [
    "# 학생 -> 홍길동 (클라이언트)\n",
    "name = '홍길동'\n",
    "\n",
    "print(name + '이 공부를 합니다.')\n",
    "print(name + '은 시험을 봅니다.')\n",
    "print('좋은 성적을 '+ name +'은 받았습니다.')"
   ]
  },
  {
   "cell_type": "markdown",
   "metadata": {},
   "source": [
    "## f-string\n",
    "문자 포매팅 방법"
   ]
  },
  {
   "cell_type": "code",
   "execution_count": 9,
   "metadata": {},
   "outputs": [
    {
     "name": "stdout",
     "output_type": "stream",
     "text": [
      "홍길동이 공부를 합니다.\n",
      "홍길동은 시험을 봅니다.\n",
      "좋은 성적을 홍길동은 받았습니다.\n"
     ]
    }
   ],
   "source": [
    "# python 3.6\n",
    "name = '홍길동'\n",
    "\n",
    "print(f'{name}이 공부를 합니다.')\n",
    "print(f'{name}은 시험을 봅니다.')\n",
    "print(f'좋은 성적을 {name}은 받았습니다.')"
   ]
  },
  {
   "cell_type": "markdown",
   "metadata": {},
   "source": [
    "## 변수 명명규칙\n",
    "\n",
    "1. 영문자와 숫자, _만 사용할 수 있습니다.\n",
    " - 한글도 사용은 가능하나, 영어 사용을 권장합니다.\n",
    " - _이외의 특수문자는 사용할 수 없습니다.\n",
    " \n",
    "2. 변수명에 공백이 들어가면 안됩니다.\n",
    "\n",
    "3. 대소문자를 구분합니다.\n",
    "\n",
    "4. 문자나 _부터 시작해야합니다.\n",
    "\n",
    "5. Python 키워드는 사용할 수 없습니다."
   ]
  },
  {
   "cell_type": "code",
   "execution_count": 11,
   "metadata": {},
   "outputs": [
    {
     "name": "stdout",
     "output_type": "stream",
     "text": [
      "['False', 'None', 'True', 'and', 'as', 'assert', 'async', 'await', 'break', 'class', 'continue', 'def', 'del', 'elif', 'else', 'except', 'finally', 'for', 'from', 'global', 'if', 'import', 'in', 'is', 'lambda', 'nonlocal', 'not', 'or', 'pass', 'raise', 'return', 'try', 'while', 'with', 'yield']\n"
     ]
    }
   ],
   "source": [
    "import keyword\n",
    "\n",
    "print(keyword.kwlist)"
   ]
  },
  {
   "cell_type": "markdown",
   "metadata": {},
   "source": [
    "## import\n",
    "\n",
    "import 모듈을 가져올 때 사용\n",
    "\n",
    "사용법)\n",
    "\n",
    "1. import 모듈\n",
    "\n",
    "2. from 모듈 import 클래스, 함수, 변수"
   ]
  },
  {
   "cell_type": "code",
   "execution_count": 15,
   "metadata": {},
   "outputs": [
    {
     "data": {
      "text/plain": [
       "1597979880.3753371"
      ]
     },
     "execution_count": 15,
     "metadata": {},
     "output_type": "execute_result"
    }
   ],
   "source": [
    "import time #시간 모듈\n",
    "\n",
    "time.time()"
   ]
  },
  {
   "cell_type": "code",
   "execution_count": 17,
   "metadata": {},
   "outputs": [
    {
     "data": {
      "text/plain": [
       "1597979895.1811426"
      ]
     },
     "execution_count": 17,
     "metadata": {},
     "output_type": "execute_result"
    }
   ],
   "source": [
    "from time import time\n",
    "\n",
    "time()"
   ]
  },
  {
   "cell_type": "code",
   "execution_count": 21,
   "metadata": {},
   "outputs": [
    {
     "data": {
      "text/plain": [
       "datetime.datetime(2020, 8, 21, 12, 20, 14, 939503)"
      ]
     },
     "execution_count": 21,
     "metadata": {},
     "output_type": "execute_result"
    }
   ],
   "source": [
    "# import datetime #날짜 모듈\n",
    "\n",
    "# datetime.datetime.now()\n",
    "\n",
    "from datetime import datetime\n",
    "\n",
    "datetime.now()"
   ]
  },
  {
   "cell_type": "code",
   "execution_count": 23,
   "metadata": {},
   "outputs": [
    {
     "data": {
      "text/plain": [
       "1597980031.4991958"
      ]
     },
     "execution_count": 23,
     "metadata": {},
     "output_type": "execute_result"
    }
   ],
   "source": [
    "# 별칭 사용법\n",
    "import time as t\n",
    "t.time()"
   ]
  },
  {
   "cell_type": "markdown",
   "metadata": {},
   "source": [
    "모듈 : 파이썬 코드를 논리적으로 묶어서 관리하고 사용할 수 있도록 하는 것으로, 보통 하나의 파이썬 .py파일이 하나의 모듈이 됩니다. 모듈 안에는 함수, 클래스, 변수들이 정의될 수 있으며, 실행 코드를 포함할 수 있습니다."
   ]
  },
  {
   "cell_type": "markdown",
   "metadata": {},
   "source": [
    "## 심화) id - 주소값\n",
    "\n",
    "변수는 값의 메모리 주소를 가지고 있습니다.\n",
    "\n",
    "value = 5라고 하였을 때, value는 5라는 메모리 주소값을 가지고 있습니다.\n",
    "\n",
    "메모리 주소값을 통해 접근하여 5라는 값을 가져와서 사용"
   ]
  },
  {
   "cell_type": "code",
   "execution_count": 24,
   "metadata": {},
   "outputs": [
    {
     "data": {
      "text/plain": [
       "140717886543648"
      ]
     },
     "execution_count": 24,
     "metadata": {},
     "output_type": "execute_result"
    }
   ],
   "source": [
    "id(5)"
   ]
  },
  {
   "cell_type": "code",
   "execution_count": 25,
   "metadata": {},
   "outputs": [
    {
     "data": {
      "text/plain": [
       "140717886543648"
      ]
     },
     "execution_count": 25,
     "metadata": {},
     "output_type": "execute_result"
    }
   ],
   "source": [
    "value = 5\n",
    "\n",
    "id(value)"
   ]
  }
 ],
 "metadata": {
  "kernelspec": {
   "display_name": "Python 3",
   "language": "python",
   "name": "python3"
  },
  "language_info": {
   "codemirror_mode": {
    "name": "ipython",
    "version": 3
   },
   "file_extension": ".py",
   "mimetype": "text/x-python",
   "name": "python",
   "nbconvert_exporter": "python",
   "pygments_lexer": "ipython3",
   "version": "3.8.3"
  }
 },
 "nbformat": 4,
 "nbformat_minor": 4
}
