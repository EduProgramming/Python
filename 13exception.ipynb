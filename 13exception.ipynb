{
 "cells": [
  {
   "cell_type": "markdown",
   "metadata": {},
   "source": [
    "# try~ except\n",
    "\n",
    "```python\n",
    "try:\n",
    "    수행문장\n",
    "except 에러 as e:\n",
    "    에러처리\n",
    "```"
   ]
  },
  {
   "cell_type": "code",
   "execution_count": 1,
   "metadata": {},
   "outputs": [
    {
     "name": "stdout",
     "output_type": "stream",
     "text": [
      "list index out of range\n"
     ]
    }
   ],
   "source": [
    "list_data = []\n",
    "\n",
    "try:\n",
    "    list_data[0]\n",
    "except Exception as e:\n",
    "    print(e) # list index out of range"
   ]
  },
  {
   "cell_type": "markdown",
   "metadata": {},
   "source": [
    "## Raise\n",
    "\n",
    "의도적으로 에러를 만드는 방법"
   ]
  },
  {
   "cell_type": "code",
   "execution_count": 2,
   "metadata": {
    "scrolled": true
   },
   "outputs": [
    {
     "ename": "IndexError",
     "evalue": "",
     "output_type": "error",
     "traceback": [
      "\u001b[1;31m---------------------------------------------------------------------------\u001b[0m",
      "\u001b[1;31mIndexError\u001b[0m                                Traceback (most recent call last)",
      "\u001b[1;32m<ipython-input-2-55a00e7db5b5>\u001b[0m in \u001b[0;36m<module>\u001b[1;34m\u001b[0m\n\u001b[1;32m----> 1\u001b[1;33m \u001b[1;32mraise\u001b[0m \u001b[0mIndexError\u001b[0m\u001b[1;33m\u001b[0m\u001b[1;33m\u001b[0m\u001b[0m\n\u001b[0m",
      "\u001b[1;31mIndexError\u001b[0m: "
     ]
    }
   ],
   "source": [
    "raise IndexError"
   ]
  },
  {
   "cell_type": "markdown",
   "metadata": {},
   "source": [
    "## Assert\n",
    "\n",
    "```python\n",
    "assert 조건식, 에러메시지\n",
    "```\n",
    "\n",
    "조건이 참이 아니라면 에러 발생"
   ]
  },
  {
   "cell_type": "code",
   "execution_count": 3,
   "metadata": {},
   "outputs": [
    {
     "ename": "AssertionError",
     "evalue": "에러 발생",
     "output_type": "error",
     "traceback": [
      "\u001b[1;31m---------------------------------------------------------------------------\u001b[0m",
      "\u001b[1;31mAssertionError\u001b[0m                            Traceback (most recent call last)",
      "\u001b[1;32m<ipython-input-3-ae4ea25c7ffa>\u001b[0m in \u001b[0;36m<module>\u001b[1;34m\u001b[0m\n\u001b[1;32m----> 1\u001b[1;33m \u001b[1;32massert\u001b[0m \u001b[1;36m3\u001b[0m \u001b[1;33m==\u001b[0m \u001b[1;36m5\u001b[0m\u001b[1;33m,\u001b[0m \u001b[1;34m\"에러 발생\"\u001b[0m\u001b[1;33m\u001b[0m\u001b[1;33m\u001b[0m\u001b[0m\n\u001b[0m",
      "\u001b[1;31mAssertionError\u001b[0m: 에러 발생"
     ]
    }
   ],
   "source": [
    "assert 3 == 5, \"에러 발생\""
   ]
  },
  {
   "cell_type": "markdown",
   "metadata": {},
   "source": [
    "## 에러 종류\n",
    "\n",
    "|  Error   |   설명   |\n",
    "| :-- | :-- |\n",
    "|  SyntaxError    |   잘못된 문법   |\n",
    "|  NameError    |   참조변수 없음   |\n",
    "|  ZeroDivisionError    |  0으로 나눌 수 없음    |\n",
    "|  IndexError    |  인덱스 범위 벗어남    |\n",
    "|  ValueError    |  참조값 없음    |\n",
    "|  KeyError    |  키 없음(딕셔너리)    |\n",
    "|  AttributeError    |  모듈, 클래스의 잘못된 속성 사용    |\n",
    "|  FileNotFoundError    |  파일 못 찾음    |\n",
    "|  TypeError    |  타입 안 맞음    |\n"
   ]
  },
  {
   "cell_type": "code",
   "execution_count": 4,
   "metadata": {},
   "outputs": [
    {
     "name": "stdout",
     "output_type": "stream",
     "text": [
      "1\n",
      "2\n",
      "3\n",
      "에러가 발생했습니다.\n",
      "더 나옵니다.\n"
     ]
    }
   ],
   "source": [
    "list_data = [1,2,3]\n",
    "\n",
    "try:\n",
    "    for i in range(4):\n",
    "        print(list_data[i])\n",
    "except:\n",
    "    print('에러가 발생했습니다.')\n",
    "finally:\n",
    "    print('더 나옵니다.')"
   ]
  }
 ],
 "metadata": {
  "kernelspec": {
   "display_name": "Python 3",
   "language": "python",
   "name": "python3"
  },
  "language_info": {
   "codemirror_mode": {
    "name": "ipython",
    "version": 3
   },
   "file_extension": ".py",
   "mimetype": "text/x-python",
   "name": "python",
   "nbconvert_exporter": "python",
   "pygments_lexer": "ipython3",
   "version": "3.8.8"
  }
 },
 "nbformat": 4,
 "nbformat_minor": 4
}
