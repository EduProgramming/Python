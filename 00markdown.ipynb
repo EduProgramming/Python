{
 "cells": [
  {
   "cell_type": "markdown",
   "metadata": {},
   "source": [
    "# Markdown 사용법\n",
    "\n",
    "마크다운(Markdown)은 마크업 언어<sup>*1</sup>의 일종입니다.\n"
   ]
  },
  {
   "cell_type": "markdown",
   "metadata": {},
   "source": [
    "## Markdown의 장단점\n",
    "\n",
    "### 장점\n",
    "\n",
    "1. 별도의 도구없이 작성 가능\n",
    "2. 다양한 형태로 변환이 가능\n",
    "3. 텍스트(Text)로 저장되기 때문에 용량이 적어 보관이 용이\n",
    "4. 지원하는 프로그램과 플랫폼이 다양\n",
    "\n",
    "### 단점\n",
    "\n",
    "1. 표준이 없다\n",
    "2. 모든 HTML 언어를 사용할 수 없다"
   ]
  },
  {
   "cell_type": "markdown",
   "metadata": {},
   "source": [
    "## Markdown 기본 문법"
   ]
  },
  {
   "cell_type": "markdown",
   "metadata": {},
   "source": [
    "### 1. Headline, 제목\n",
    "\n",
    "제목을 작성하는 방법으로 h1~6이 기본적으로 있습니다.<br/>\n",
    "`h`는 Headline의 의미를 가지고 있으며, 웹(HTML) Tag입니다.<br/>\n",
    "<br/>\n",
    "`h1`로 작성된 글이 가장 큰 글이며, 글의 제목이라고 생각하시면 됩니다.<br/>\n",
    "글의 제목이 하나이듯, `h`태그는 검색에 영향을 주기에 남용해서는 안됩니다.<br/>\n",
    "뒤의 숫자가 커지면 커질수록 글자의 크기는 작아지며, 부제목식의 역할을 한다고 보시면 됩니다."
   ]
  },
  {
   "cell_type": "markdown",
   "metadata": {},
   "source": [
    "Markdown에서 heading 방법은 `#`를 사용하여 알려줍니다.<br/>\n",
    "아래의 사용예시를 참고하여주세요.<br/>"
   ]
  },
  {
   "cell_type": "markdown",
   "metadata": {},
   "source": [
    "**사용예시**\n",
    "> 태그 &ensp;&ensp;&ensp;&ensp;&ensp; 마크다운 사용법\n",
    "> # H1 &ensp;&ensp; `# H1`\n",
    "> ## H2 &ensp;&ensp;&ensp; `## H2`\n",
    "> ### h3 &ensp;&ensp;&ensp;&ensp;&ensp; `### H3`\n",
    "> #### h4 &ensp;&ensp;&ensp;&ensp;&ensp;&ensp;&ensp; `#### H4`\n",
    "> ##### h5 &ensp;&ensp;&ensp;&ensp;&ensp;&ensp;&ensp; `##### H5`\n",
    "> ###### h6 &ensp;&ensp;&ensp;&ensp;&ensp;&ensp;&ensp; `###### H6`"
   ]
  },
  {
   "cell_type": "markdown",
   "metadata": {},
   "source": [
    "### 2. Bold\n",
    "글씨의 중요도. 즉, 굵기를 굵게 할 수 있는 방법입니다.<br/>\n",
    "`**글씨**`로 표현하시면 됩니다."
   ]
  },
  {
   "cell_type": "markdown",
   "metadata": {},
   "source": [
    "**사용 예시**\n",
    "> **굵게 나오는 글씨** : `**굵게 나오는 글씨**`"
   ]
  },
  {
   "cell_type": "markdown",
   "metadata": {},
   "source": [
    "### 3. BlockQuote\n",
    "인용구를 사용할 때 사용하는 방법입니다.<br/>\n",
    "그렇지만, 마크다운에는 정해진 표준은 없기에 공유하고자 하는 대상과의 표준을 맞춰서 보기 좋게 표현하시면 됩니다.<br/>\n",
    "`> 인용문구`로 표현하시면 됩니다."
   ]
  },
  {
   "cell_type": "markdown",
   "metadata": {},
   "source": [
    "**사용 예시**\n",
    "\n",
    "`> 을 쓰면 들여쓰기가 되며 인용구식으로 작성이 가능하게 됩니다.`\n",
    "> `>` 을 쓰면 들여쓰기가 되며 인용구식으로 작성이 가능하게 됩니다."
   ]
  },
  {
   "cell_type": "markdown",
   "metadata": {},
   "source": [
    "### 4. Inline Code Blocks\n",
    "전체 영역이 아닌 글씨와 함께 쓰고자할 때 주로 사용합니다.<br/>\n",
    "`(backtick) 사이에 글을 넣어 사용하면 됩니다. "
   ]
  },
  {
   "cell_type": "markdown",
   "metadata": {},
   "source": [
    "**사용 예시**\n",
    "```example\n",
    "`(백틱)은 `+shift는 ~을 만드는 key입니다.\n",
    "'(작은 따옴표, single quote)가 아닙니다.\n",
    " \n",
    "`해당 글을 작성하시면 아래와 같이 나옵니다.`\n",
    "```\n",
    "`해당 글을 작성하시면 아래와 같이 나옵니다.`"
   ]
  },
  {
   "cell_type": "markdown",
   "metadata": {},
   "source": [
    "### 5. List\n",
    "\n",
    "- 순서 목록\n",
    "\n",
    "순서 있는 목록은 숫자와 점을 사용합니다.\n",
    "`1. 개론`하고 엔터를 친 후에 `2. 설치`라고 하면 아래와 같은 결과가 나옵니다.\n",
    "1. 개론\n",
    "2. 설치\n",
    "\n",
    "- 순서 없는 목록\n",
    "\n",
    "순서가 없는 목록은 `+, -, *`을 이용합니다.<br/>\n",
    "저는 보통 `-`을 주로 사용합니다.<br/>\n",
    "사용법은 아래와 같습니다."
   ]
  },
  {
   "cell_type": "markdown",
   "metadata": {},
   "source": [
    "**사용 예시**\n",
    "```example\n",
    "- Python\n",
    "    - Install\n",
    "    - Data\n",
    "        - Primitive Type\n",
    "        - Reference Type\n",
    "- Numpy\n",
    "- Pandas\n",
    "\n",
    "라고 치게 될 경우 아래와 같은 결과를 볼 수 있습니다.\n",
    "```\n",
    "\n",
    "- Python\n",
    "    - Install\n",
    "    - Data\n",
    "        - Primitive Type\n",
    "        - Reference Type\n",
    "- Numpy\n",
    "- Pandas"
   ]
  },
  {
   "cell_type": "markdown",
   "metadata": {},
   "source": [
    "### 6. Code Block\n",
    "코드를 글이 아닌 어울리는 색과 더불어 볼 수 있습니다.<br/>\n",
    "(해당 내용은 동영상으로 소개하겠습니다.)"
   ]
  },
  {
   "cell_type": "markdown",
   "metadata": {},
   "source": [
    "```python\n",
    "print('Hello, Python')\n",
    "```"
   ]
  },
  {
   "cell_type": "markdown",
   "metadata": {},
   "source": [
    "이외에도 표, 링크, 이미지 등 다양한 방식이 있습니다.<br/>\n",
    "다른 방식이 궁금하시다면 [Markdown 문법](https://www.google.com/search?q=markdown)을 검색해보시고, 하시다가 어려운 점이 있으시다면 질문 주세요😊"
   ]
  },
  {
   "cell_type": "markdown",
   "metadata": {},
   "source": [
    "<hr/>\n",
    "*1.마크업 언어 : 문서가 화면에 표시되는 형식을 나타내거나 데이터의 논리적인 구조를 명시하기 위한 규칙들을 정의한 언어의 일종 "
   ]
  }
 ],
 "metadata": {
  "kernelspec": {
   "display_name": "Python 3",
   "language": "python",
   "name": "python3"
  },
  "language_info": {
   "codemirror_mode": {
    "name": "ipython",
    "version": 3
   },
   "file_extension": ".py",
   "mimetype": "text/x-python",
   "name": "python",
   "nbconvert_exporter": "python",
   "pygments_lexer": "ipython3",
   "version": "3.7.7"
  }
 },
 "nbformat": 4,
 "nbformat_minor": 4
}
