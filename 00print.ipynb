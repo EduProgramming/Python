{
 "cells": [
  {
   "cell_type": "markdown",
   "id": "2658d300",
   "metadata": {},
   "source": [
    "# Python \n",
    "\n",
    "markdown 사용법\n",
    "\n",
    ": https://gist.github.com/ihoneymon/652be052a0727ad59601\n"
   ]
  },
  {
   "cell_type": "markdown",
   "id": "7349c206",
   "metadata": {},
   "source": [
    "## 1. 출력문\n",
    "\n",
    "```python\n",
    "print(\"출력할 내용\")\n",
    "\n",
    "# 주석 표현은 #(샵)을 이용하여 한줄 주석\n",
    "\"\"\"\n",
    "큰따옴표(or 작은따옴표)를 위아래로 3개씩 사용하여 작성하면 됨\n",
    "해당 방법은 여러줄 주석으로도 사용되지만, 출력문 안에 넣으면 개행이 가능한 문자열로도 사용됨\n",
    "\"\"\"\n",
    "\n",
    "# 파이썬에서는 작은따옴표와 큰따옴표를 구별하지 않습니다.\n",
    "# -> 타언어에서는 작은 따옴표는 문자(Char 타입), 큰 따옴표는 문자열(String타입)으로 구별됩니다.\n",
    "#    파이썬에서는 작은 따옴표로 감싸나 큰 따옴표로 감싸나 문자열(String)로 취급됩니다.\n",
    "```\n",
    "\n",
    "```python\n",
    "print(\"출력내용\", end=\"출력문 마지막에 쓰일 내용\")\n",
    "# end를 쓰지 않는다면 default값은 \\n으로 개행을 의미합니다.\n",
    "```"
   ]
  },
  {
   "cell_type": "code",
   "execution_count": 1,
   "id": "8ed73e13",
   "metadata": {},
   "outputs": [
    {
     "name": "stdout",
     "output_type": "stream",
     "text": [
      "Hello, Python\n"
     ]
    }
   ],
   "source": [
    "print(\"Hello, Python\")"
   ]
  },
  {
   "cell_type": "code",
   "execution_count": 2,
   "id": "413c8fd0",
   "metadata": {},
   "outputs": [
    {
     "name": "stdout",
     "output_type": "stream",
     "text": [
      "여러줄을 쓸 수 있습니다.\n",
      "이렇게 엔터를 줘서 진행할 수도 있습니다.\n",
      "하나로만 감싸줬을 때는 에러가 발생하게 될 것입니다.\n"
     ]
    }
   ],
   "source": [
    "print(\"\"\"여러줄을 쓸 수 있습니다.\n",
    "이렇게 엔터를 줘서 진행할 수도 있습니다.\n",
    "하나로만 감싸줬을 때는 에러가 발생하게 될 것입니다.\"\"\")"
   ]
  },
  {
   "cell_type": "code",
   "execution_count": 3,
   "id": "479d34d2",
   "metadata": {},
   "outputs": [
    {
     "name": "stdout",
     "output_type": "stream",
     "text": [
      "end 표시 안했을때\n",
      "end 표시 했을때Check"
     ]
    }
   ],
   "source": [
    "print(\"end 표시 안했을때\")\n",
    "print(\"end 표시 했을때\", end=\"Check\")\n",
    "\n",
    "# 뒤에 값을 붙이고자 할때 end=\"\" 이렇게만 표현하면 되겠습니다.\n",
    "# 한칸 띄어주고자 할때는 end=\" \"이렇게 띄어쓰기를 넣어주면 되겠죠?!"
   ]
  }
 ],
 "metadata": {
  "kernelspec": {
   "display_name": "Python 3",
   "language": "python",
   "name": "python3"
  },
  "language_info": {
   "codemirror_mode": {
    "name": "ipython",
    "version": 3
   },
   "file_extension": ".py",
   "mimetype": "text/x-python",
   "name": "python",
   "nbconvert_exporter": "python",
   "pygments_lexer": "ipython3",
   "version": "3.8.8"
  }
 },
 "nbformat": 4,
 "nbformat_minor": 5
}
