{
 "cells": [
  {
   "cell_type": "markdown",
   "metadata": {},
   "source": [
    "# String, 문자열\n",
    "\n",
    "## 문자열 생성\n",
    "\n",
    "1. 큰 따옴표(`\"`)나 작은 따옴표(`'`)로 양쪽을 둘러싸서 생성\n",
    "2. 큰 따옴표나 작은 따옴표 3개를 양쪽으로 둘러싸서 생성\n",
    "\n",
    "위와 같은 방도들은 출력문에서 사용해봤던 요소들입니다.\n",
    "\n",
    "문자열에서 띄어쓰기를 하고 싶거나, 개행('Enter')을 하고 싶을 때와 같은 경우\n",
    "\n",
    "이스케이프 코드를 사용할 수 있습니다."
   ]
  },
  {
   "cell_type": "markdown",
   "metadata": {},
   "source": [
    "**이스케이프 코드**\n",
    "\n",
    "|   코드   |   설명   |\n",
    "| ---- | ---- |\n",
    "|   `\\n`   |  문자열 안에서 줄 바꿈    |\n",
    "|   `\\t`   |  문자열 안에서 띄어쓰기(Tab)을 사용   |\n",
    "|   `\\'`   |   문자 `'`를 쓰고자할 때 사용   |\n",
    "|   `\\\"`   |   문자 `\"`를 쓰고자할 때 사용   |\n",
    "|   `\\r`   |   캐리지 리턴(줄 바꿈 문자, 현재 커서를 가장 앞으로 이동)   |\n",
    "|   `\\f`   |   폼 피드(줄 바꿈 문자, 현재 커서를 다음 줄로 이동)   |\n",
    "|   `\\b`   |   백 스페이스   |\n",
    "\n",
    "주로 사용하는 이스케이프 코드는 `\\n`과 `\\t`, `\\'`, `\\\"` 입니다."
   ]
  },
  {
   "cell_type": "markdown",
   "metadata": {},
   "source": [
    "## 문자열 연산\n",
    "\n",
    "### 1. 문자열 + 연결\n",
    "\n",
    "파이썬에서는 문자열을 서로 더하여 연결할 수 있습니다."
   ]
  },
  {
   "cell_type": "code",
   "execution_count": 1,
   "metadata": {},
   "outputs": [
    {
     "name": "stdout",
     "output_type": "stream",
     "text": [
      "Hello, Python\n"
     ]
    }
   ],
   "source": [
    "greeting = \"Hello, \"\n",
    "name = 'Python'\n",
    "\n",
    "print(greeting + name)"
   ]
  },
  {
   "cell_type": "markdown",
   "metadata": {},
   "source": [
    "### 2. 문자열 곱하기\n",
    "\n",
    "작성한 문장을 여러번 반복하고 싶을 때 사용할 수 있습니다."
   ]
  },
  {
   "cell_type": "code",
   "execution_count": 2,
   "metadata": {},
   "outputs": [
    {
     "name": "stdout",
     "output_type": "stream",
     "text": [
      "반복구 반복구 반복구 \n"
     ]
    }
   ],
   "source": [
    "value = \"반복구 \"\n",
    "print(value * 3)"
   ]
  },
  {
   "cell_type": "markdown",
   "metadata": {},
   "source": [
    "문장을 작성한 후에 곱하기(`*`) 연산자를 통해 해당 숫자만큼 반복하여 줄 수 있습니다."
   ]
  },
  {
   "cell_type": "markdown",
   "metadata": {},
   "source": [
    "### 3. 문자열 길이\n",
    "\n",
    "내장함수 len()을 통하여 문자열의 길이를 구할 수 있습니다."
   ]
  },
  {
   "cell_type": "code",
   "execution_count": 4,
   "metadata": {},
   "outputs": [
    {
     "name": "stdout",
     "output_type": "stream",
     "text": [
      "10\n"
     ]
    }
   ],
   "source": [
    "print(len(\"문자열 길이 구하기\"))"
   ]
  },
  {
   "cell_type": "markdown",
   "metadata": {},
   "source": [
    "## 문자열 인덱싱<sup>*1</sup>과 슬라이싱<sup>*2</sup>\n",
    "\n",
    "### 1. 문자열 인덱싱\n",
    "\n",
    "문자열이란 각 문자의 연결의 결과물입니다.\n",
    "\n",
    "문자열에서 문자들은 각각의 번호를 가지고 있습니다.\n",
    "\n",
    "index의 번호는 0번 부터 시작입니다.\n",
    "\n",
    "인덱스로 접근하는 방법은 `변수명[숫자]`를 이용하여 해당 값을 가져올 수 있습니다."
   ]
  },
  {
   "cell_type": "markdown",
   "metadata": {},
   "source": [
    "![](./docs/assets/string_index.png)"
   ]
  },
  {
   "cell_type": "code",
   "execution_count": 9,
   "metadata": {},
   "outputs": [
    {
     "name": "stdout",
     "output_type": "stream",
     "text": [
      "13\n",
      "H\n",
      "e\n",
      "l\n",
      "l\n",
      "o\n",
      ",\n",
      " \n",
      "P\n",
      "y\n",
      "t\n",
      "h\n",
      "o\n",
      "n\n"
     ]
    },
    {
     "ename": "IndexError",
     "evalue": "string index out of range",
     "output_type": "error",
     "traceback": [
      "\u001b[1;31m---------------------------------------------------------------------------\u001b[0m",
      "\u001b[1;31mIndexError\u001b[0m                                Traceback (most recent call last)",
      "\u001b[1;32m<ipython-input-9-4b32781baef5>\u001b[0m in \u001b[0;36m<module>\u001b[1;34m\u001b[0m\n\u001b[0;32m     14\u001b[0m \u001b[0mprint\u001b[0m\u001b[1;33m(\u001b[0m\u001b[0mvalue\u001b[0m\u001b[1;33m[\u001b[0m\u001b[1;36m11\u001b[0m\u001b[1;33m]\u001b[0m\u001b[1;33m)\u001b[0m\u001b[1;33m\u001b[0m\u001b[1;33m\u001b[0m\u001b[0m\n\u001b[0;32m     15\u001b[0m \u001b[0mprint\u001b[0m\u001b[1;33m(\u001b[0m\u001b[0mvalue\u001b[0m\u001b[1;33m[\u001b[0m\u001b[1;36m12\u001b[0m\u001b[1;33m]\u001b[0m\u001b[1;33m)\u001b[0m\u001b[1;33m\u001b[0m\u001b[1;33m\u001b[0m\u001b[0m\n\u001b[1;32m---> 16\u001b[1;33m \u001b[0mprint\u001b[0m\u001b[1;33m(\u001b[0m\u001b[0mvalue\u001b[0m\u001b[1;33m[\u001b[0m\u001b[1;36m13\u001b[0m\u001b[1;33m]\u001b[0m\u001b[1;33m)\u001b[0m\u001b[1;33m\u001b[0m\u001b[1;33m\u001b[0m\u001b[0m\n\u001b[0m",
      "\u001b[1;31mIndexError\u001b[0m: string index out of range"
     ]
    }
   ],
   "source": [
    "value = \"Hello, Python\"\n",
    "print(len(value)) # 문자열의 길이\n",
    "print(value[0])\n",
    "print(value[1])\n",
    "print(value[2])\n",
    "print(value[3])\n",
    "print(value[4])\n",
    "print(value[5])\n",
    "print(value[6])\n",
    "print(value[7])\n",
    "print(value[8])\n",
    "print(value[9])\n",
    "print(value[10])\n",
    "print(value[11])\n",
    "print(value[12])\n",
    "print(value[13]) # IndexError: string index out of range"
   ]
  },
  {
   "cell_type": "markdown",
   "metadata": {},
   "source": [
    "해당 값이 가지고 있는 Index를 넘어가게 되면 `IndexError: string index out of range`가 발생하게 됩니다.\n",
    "\n",
    "index는 길이나 사이즈의 값보다 -1까지를 가질 수 있습니다. (0부터 시작함이기에)"
   ]
  },
  {
   "cell_type": "markdown",
   "metadata": {},
   "source": [
    "### 2. 문자열 슬라이싱\n",
    "\n",
    "문자열 슬라이싱은 인덱싱되어 있는 값들에서 하나의 문자만 가져오는 것이 아니라,\n",
    "\n",
    "가져오고 싶은 만큼 가져오는데 사용됩니다.\n",
    "\n",
    "`변수[시작Index : 끝index]`로 해당 문자만큼 가지고 올 수 있습니다.\n",
    "\n",
    "(⚠️단, 끝index는 포함하지 않습니다.)"
   ]
  },
  {
   "cell_type": "code",
   "execution_count": 15,
   "metadata": {},
   "outputs": [
    {
     "name": "stdout",
     "output_type": "stream",
     "text": [
      "문자열 학습\n",
      "하고 있습니다.\n",
      "하고 있습니다.\n",
      "하고 있습니다.\n",
      "문자열 학습을 하고 있습니다.\n",
      "문자열 학습을 하고 있습니다.\n"
     ]
    }
   ],
   "source": [
    "value = \"문자열 학습을 하고 있습니다.\"\n",
    "\n",
    "# '문자열 학습'까지만 값을 가져오도록 해보겠습니다.\n",
    "\n",
    "\"\"\"\n",
    "문 자 열    학 습 을    하 고    있  습 니 다  .\n",
    " 0  1  2  3  4  5  6  7  8  9 10 11 12 13 14 15\n",
    "\"\"\"\n",
    "print(value[0:6])\n",
    "\n",
    "# '하고 있습니다.'까지만 값을 가져오도록 해보겠습니다.\n",
    "print(value[8:16])\n",
    "print(value[8:len(value)])\n",
    "print(value[8:])\n",
    "\n",
    "# 모든 문자열 가져오기\n",
    "print(value)\n",
    "print(value[:])"
   ]
  },
  {
   "cell_type": "markdown",
   "metadata": {},
   "source": [
    "`변수명[시작index : 끝index : step]`으로서 step은 몇 칸씩 뛰어서 사용할지를 정할 수 있습니다.\n",
    "\n",
    "시작index와 끝index만 적었을 경우에 뒤에 오는 step의 초기값은 1입니다.\n",
    "\n",
    "\"홀짝수수는는  123456......으으로로  진진행행됩됩니니다다..\" 라는 문자가 있다고 하였을 때,"
   ]
  },
  {
   "cell_type": "code",
   "execution_count": 19,
   "metadata": {},
   "outputs": [
    {
     "name": "stdout",
     "output_type": "stream",
     "text": [
      "홀수는 135...으로 진행됩니다.\n",
      "짝수는 246...으로 진행됩니다.\n"
     ]
    }
   ],
   "source": [
    "value = \"홀짝수수는는  123456......으으로로  진진행행됩됩니니다다..\"\n",
    "\n",
    "#홀수는 136...으로 진행됩니다.\n",
    "print(value[0::2])\n",
    "\n",
    "#짝수는 246...으로 진행됩니다.\n",
    "print(value[1::2])"
   ]
  },
  {
   "cell_type": "markdown",
   "metadata": {},
   "source": [
    "<sub>심화</sub>\n",
    "<div style=\"border-left-style: solid;\n",
    "  border-left-color: coral;\n",
    "  padding-left: 10px;\">\n",
    "    문자열(str) 타입은 값 변경이 불가능(<strong>불변객체, immutable</strong>)합니다.\n",
    "</div>"
   ]
  },
  {
   "cell_type": "code",
   "execution_count": 4,
   "metadata": {},
   "outputs": [
    {
     "name": "stdout",
     "output_type": "stream",
     "text": [
      "i\n"
     ]
    },
    {
     "ename": "TypeError",
     "evalue": "'str' object does not support item assignment",
     "output_type": "error",
     "traceback": [
      "\u001b[1;31m---------------------------------------------------------------------------\u001b[0m",
      "\u001b[1;31mTypeError\u001b[0m                                 Traceback (most recent call last)",
      "\u001b[1;32m<ipython-input-4-f57a6d402351>\u001b[0m in \u001b[0;36m<module>\u001b[1;34m\u001b[0m\n\u001b[0;32m      1\u001b[0m \u001b[0mvalue\u001b[0m \u001b[1;33m=\u001b[0m \u001b[1;34m\"Pithon\"\u001b[0m\u001b[1;33m\u001b[0m\u001b[1;33m\u001b[0m\u001b[0m\n\u001b[0;32m      2\u001b[0m \u001b[0mprint\u001b[0m\u001b[1;33m(\u001b[0m\u001b[0mvalue\u001b[0m\u001b[1;33m[\u001b[0m\u001b[1;36m1\u001b[0m\u001b[1;33m]\u001b[0m\u001b[1;33m)\u001b[0m \u001b[1;31m# i\u001b[0m\u001b[1;33m\u001b[0m\u001b[1;33m\u001b[0m\u001b[0m\n\u001b[1;32m----> 3\u001b[1;33m \u001b[0mvalue\u001b[0m\u001b[1;33m[\u001b[0m\u001b[1;36m1\u001b[0m\u001b[1;33m]\u001b[0m \u001b[1;33m=\u001b[0m \u001b[1;34m'y'\u001b[0m \u001b[1;31m# TypeError: 'str' object does not support item assignment\u001b[0m\u001b[1;33m\u001b[0m\u001b[1;33m\u001b[0m\u001b[0m\n\u001b[0m\u001b[0;32m      4\u001b[0m \u001b[0mprint\u001b[0m\u001b[1;33m(\u001b[0m\u001b[0mvalue\u001b[0m\u001b[1;33m)\u001b[0m\u001b[1;33m\u001b[0m\u001b[1;33m\u001b[0m\u001b[0m\n",
      "\u001b[1;31mTypeError\u001b[0m: 'str' object does not support item assignment"
     ]
    }
   ],
   "source": [
    "value = \"Pithon\"\n",
    "print(value[1]) # i\n",
    "value[1] = 'y' # TypeError: 'str' object does not support item assignment\n",
    "print(value)"
   ]
  },
  {
   "cell_type": "code",
   "execution_count": 5,
   "metadata": {},
   "outputs": [
    {
     "name": "stdout",
     "output_type": "stream",
     "text": [
      "Pithon\n",
      "Python\n"
     ]
    }
   ],
   "source": [
    "value = \"Pithon\"\n",
    "print(value)\n",
    "\n",
    "value = \"Python\"\n",
    "print(value)"
   ]
  },
  {
   "cell_type": "markdown",
   "metadata": {},
   "source": [
    "Q. 위의 경우에는값을 변경할 수 있는데, 왜 불가능인가요?\n",
    "\n",
    "A. 위의 경우에는 변수에 접근하는 메모리값이 변경된 것입니다.\n",
    "\n",
    "쉽게 보자면, 초기에는 Pithon이라는 값을 value에 넣어줬다가\n",
    "\n",
    "아래의 `value = \"Python\"`과정에서 이전의 값을 무시하고 덮어씌웠다고 보시면 됩니다."
   ]
  },
  {
   "cell_type": "markdown",
   "metadata": {},
   "source": [
    "### 3. 문자열 포매팅\n",
    "\n",
    "문자열 안에 어떤 값을 삽입할 때 사용하는 방법입니다.\n",
    "\n",
    "여러 방법이 있지만, python 3.6버전 이상을 사용한다고 가정하고 **f-string**을 다루도록 하겠습니다.\n",
    "\n",
    "f-string문법은 파이썬 3.6 버전에서 추가된 문법이며, 문자열 포매팅을 너무도 쉽게 할 수 있습니다.\n",
    "\n",
    "사용법은 `f\"{변수명}\"`으로 사용할 수 있습니다.\n",
    "\n",
    "아래의 예시를 참고하여주세요."
   ]
  },
  {
   "cell_type": "code",
   "execution_count": 6,
   "metadata": {},
   "outputs": [
    {
     "name": "stdout",
     "output_type": "stream",
     "text": [
      "포매팅을 확인하기 위해 가변될수 있는 변수를 넣어봅니다.\n"
     ]
    }
   ],
   "source": [
    "data = \"가변될수 있는 변수\"\n",
    "\n",
    "print(f\"포매팅을 확인하기 위해 {data}를 넣어봅니다.\")"
   ]
  },
  {
   "cell_type": "markdown",
   "metadata": {},
   "source": [
    "위의 내용만 봐서는 그냥 문자열로만 사용하면 될 것을 왜 포매팅이 필요한가 생각하실 수도 있습니다.\n",
    "\n",
    "이는 **제어문**을 배우면 알수 있습니다.\n",
    "\n",
    "한 예로, 변수에 값을 바꿔주면서 다른 문구는 똑같게 출력해야할 때 사용할 수 있습니다."
   ]
  },
  {
   "cell_type": "markdown",
   "metadata": {},
   "source": [
    "### 4. 문자열 관련 함수들"
   ]
  },
  {
   "cell_type": "markdown",
   "metadata": {},
   "source": [
    "<hr/>\n",
    "<div style=\"font-size: 80%\">\n",
    "    *1. 인덱싱(Indexing) : 가리킨다<br/>\n",
    "    *2. 슬라이싱(Slicing) : 잘라낸다\n",
    "</div>"
   ]
  }
 ],
 "metadata": {
  "kernelspec": {
   "display_name": "Python 3",
   "language": "python",
   "name": "python3"
  },
  "language_info": {
   "codemirror_mode": {
    "name": "ipython",
    "version": 3
   },
   "file_extension": ".py",
   "mimetype": "text/x-python",
   "name": "python",
   "nbconvert_exporter": "python",
   "pygments_lexer": "ipython3",
   "version": "3.7.7"
  }
 },
 "nbformat": 4,
 "nbformat_minor": 4
}
