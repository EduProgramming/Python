{
 "cells": [
  {
   "cell_type": "markdown",
   "metadata": {},
   "source": [
    "# Variable, 변수\n",
    "\n",
    "특정 값을 저장하는 메모리 공간.\n",
    "\n",
    "쉽게 표현하면, 특정값을 담고 있는 공간입니다.\n",
    "\n",
    "잠시 수학으로 넘어가서 미지수 x에 대해서 살펴보겠습니다.\n",
    "\n",
    "x = 5라고 한다면 'x는 5의 값을 가진다'라고 읽습니다.\n",
    "\n",
    "프로그래밍도 이와 같다고 보시면 됩니다.\n",
    "\n",
    "변수를 써야하는 이유는 여러가지가 있겠지만, 간단하게 한 가지 예로 보겠습니다."
   ]
  },
  {
   "cell_type": "code",
   "execution_count": 1,
   "metadata": {},
   "outputs": [
    {
     "name": "stdout",
     "output_type": "stream",
     "text": [
      "원광대 학생들은 똑똑합니다.\n",
      "원광대는 익산을 대표하는 대학입니다.\n",
      "원광대에는 SW중심대학사업단이 있습니다.\n"
     ]
    }
   ],
   "source": [
    "print('원광대 학생들은 똑똑합니다.')\n",
    "print('원광대는 익산을 대표하는 대학입니다.')\n",
    "print('원광대에는 SW중심대학사업단이 있습니다.')"
   ]
  },
  {
   "cell_type": "markdown",
   "metadata": {},
   "source": [
    "위의 예를 보면 '원광대'가 반복되고 있습니다.\n",
    "\n",
    "이렇게 쓰고 있다가 원광대를 원광대학교라고 바꿔달라는 문의를 받아 처리를 해야합니다.\n",
    "\n",
    "위의 코드를 바꾸기 위해서는 원광대라는 3번의 표현을 바꿔야하기에, 3번의 수정이 필요합니다.\n",
    "\n",
    "이러한 처리를 편하게 하기 위해서 변수에 담아 진행해보겠습니다."
   ]
  },
  {
   "cell_type": "code",
   "execution_count": 2,
   "metadata": {},
   "outputs": [
    {
     "name": "stdout",
     "output_type": "stream",
     "text": [
      "원광대학교 학생들은 똑똑합니다.\n",
      "원광대학교는 익산을 대표하는 대학입니다.\n",
      "원광대학교에는 SW중심대학사업단이 있습니다.\n"
     ]
    }
   ],
   "source": [
    "WKU = '원광대학교'\n",
    "\n",
    "print(WKU + ' 학생들은 똑똑합니다.')\n",
    "print(WKU + '는 익산을 대표하는 대학입니다.')\n",
    "print(WKU + '에는 SW중심대학사업단이 있습니다.')"
   ]
  },
  {
   "cell_type": "markdown",
   "metadata": {},
   "source": [
    "`WKU`라는 변수값을 하나 바꿔주면 1번의 작업으로 수정이 가능합게 됩니다.\n",
    "\n",
    "WKU라는 변수명에 '원광대학교'라는 값이 할당되었다고 합니다."
   ]
  },
  {
   "cell_type": "code",
   "execution_count": 3,
   "metadata": {},
   "outputs": [
    {
     "name": "stdout",
     "output_type": "stream",
     "text": [
      "Year의 값은 무엇일까요?\n"
     ]
    }
   ],
   "source": [
    "year = 2019\n",
    "year = 2020\n",
    "print('Year의 값은 무엇일까요?')"
   ]
  },
  {
   "cell_type": "markdown",
   "metadata": {},
   "source": [
    "답은 가장 아래에 할당한 2020입니다.\n",
    "\n",
    "이와 같이 동일한 변수명을 사용했을 때에는 가장 최근에 넣은 값을 가져옵니다."
   ]
  },
  {
   "cell_type": "markdown",
   "metadata": {},
   "source": [
    "<sub>**심화]**</sub>\n",
    "<div style=\"border-left-style: solid;\n",
    "  border-left-color: coral;\n",
    "  padding-left: 10px;\">\n",
    "    변수는 값의 메모리 주소를 가지고 있습니다.<br/>\n",
    "    value = 5라고 하였을 때, value는 5가 가지는 메모리 주소값을 가지고 있습니다.<br/>\n",
    "    메모리 주소값을 통해 접근하여 5의 값을 가져와서 사용합니다.\n",
    "</div>"
   ]
  },
  {
   "cell_type": "markdown",
   "metadata": {},
   "source": [
    "**메모리 주소값 확인하기**\n",
    "\n",
    "`id(값)`을 통해서 해당 값의 메모리 주소값을 확인할 수 있습니다."
   ]
  },
  {
   "cell_type": "code",
   "execution_count": 4,
   "metadata": {},
   "outputs": [
    {
     "name": "stdout",
     "output_type": "stream",
     "text": [
      "140734797151424\n",
      "140734797151424\n"
     ]
    }
   ],
   "source": [
    "print(id(5))\n",
    "value = 5\n",
    "print(id(value))"
   ]
  },
  {
   "cell_type": "markdown",
   "metadata": {},
   "source": [
    "## 변수 명명규칙\n",
    "\n",
    "- 영문자와 숫자, _만 사용할 수 있습니다.\n",
    "    - 한글도 사용은 가능하나, 영어 사용을 권장합니다.\n",
    "    - _이외의 특수문자는 사용할 수 없습니다.\n",
    "- 변수명에 공백이 들어가면 안됩니다.\n",
    "- 대소문자를 구분합니다.\n",
    "- 문자나 `_`부터 시작해야 합니다.\n",
    "    - 숫자부터 시작하면 안됩니다.\n",
    "- Python 키워드는 사용할 수 없습니다.\n",
    "\n",
    "\n",
    "<br/>\n",
    "키워드 값이 무엇이 있는지 먼저 알아보도록 하겠습니다."
   ]
  },
  {
   "cell_type": "code",
   "execution_count": 5,
   "metadata": {},
   "outputs": [
    {
     "name": "stdout",
     "output_type": "stream",
     "text": [
      "['False', 'None', 'True', 'and', 'as', 'assert', 'async', 'await', 'break', 'class', 'continue', 'def', 'del', 'elif', 'else', 'except', 'finally', 'for', 'from', 'global', 'if', 'import', 'in', 'is', 'lambda', 'nonlocal', 'not', 'or', 'pass', 'raise', 'return', 'try', 'while', 'with', 'yield']\n"
     ]
    }
   ],
   "source": [
    "import keyword\n",
    "\n",
    "print(keyword.kwlist)"
   ]
  },
  {
   "cell_type": "markdown",
   "metadata": {},
   "source": [
    "위와 같이 출력하여 확인할 수 있습니다.\n",
    "\n",
    "해당 값들은 변수명으로 사용할 수 없습니다.\n",
    "\n",
    "<hr/>"
   ]
  },
  {
   "cell_type": "markdown",
   "metadata": {},
   "source": [
    "### import\n",
    "\n",
    "앞으로 자주 쓰게 될 `import`에 대해서 알아보겠습니다.\n",
    "\n",
    "`import`는 모듈<sup>*1</sup>을 가져올 때 사용됩니다.\n",
    "\n",
    "사용법은 크게 2가지로 나뉩니다.\n",
    "\n",
    "1. import 모듈\n",
    "\n",
    "2. from 모듈 import 변수나 함수\n",
    "\n",
    "모듈이란 쉽게 표현하면, 코드 박스라고 보면 됩니다.\n",
    "\n",
    "흔히, 라이브러리라고도 합니다.\n",
    "\n",
    "import를 통하여 완성된 코드을 가지고 와서 사용할 수 있습니다.\n",
    "\n",
    "다른 개발자들이 만든 코드를 설치하여 불러올 수도 있으며,\n",
    "\n",
    "개발자 본인이 작성하여 가져와서 사용합니다."
   ]
  },
  {
   "cell_type": "markdown",
   "metadata": {},
   "source": [
    "**라이브러리 별칭**\n",
    "\n",
    "인공지능을 사용하면서 자주 사용하는 라이브러리들이 있습니다.\n",
    "\n",
    "tensorflow와 numpy, pandas라는 라이브러리를 주로 사용합니다."
   ]
  },
  {
   "cell_type": "code",
   "execution_count": 6,
   "metadata": {},
   "outputs": [
    {
     "ename": "ModuleNotFoundError",
     "evalue": "No module named 'tensorflow'",
     "output_type": "error",
     "traceback": [
      "\u001b[1;31m---------------------------------------------------------------------------\u001b[0m",
      "\u001b[1;31mModuleNotFoundError\u001b[0m                       Traceback (most recent call last)",
      "\u001b[1;32m<ipython-input-6-3cb88c62f454>\u001b[0m in \u001b[0;36m<module>\u001b[1;34m\u001b[0m\n\u001b[1;32m----> 1\u001b[1;33m \u001b[1;32mimport\u001b[0m \u001b[0mtensorflow\u001b[0m \u001b[1;32mas\u001b[0m \u001b[0mtf\u001b[0m\u001b[1;33m\u001b[0m\u001b[1;33m\u001b[0m\u001b[0m\n\u001b[0m\u001b[0;32m      2\u001b[0m \u001b[1;32mimport\u001b[0m \u001b[0mnumpy\u001b[0m \u001b[1;32mas\u001b[0m \u001b[0mnp\u001b[0m\u001b[1;33m\u001b[0m\u001b[1;33m\u001b[0m\u001b[0m\n\u001b[0;32m      3\u001b[0m \u001b[1;32mimport\u001b[0m \u001b[0mpandas\u001b[0m \u001b[1;32mas\u001b[0m \u001b[0mpd\u001b[0m\u001b[1;33m\u001b[0m\u001b[1;33m\u001b[0m\u001b[0m\n",
      "\u001b[1;31mModuleNotFoundError\u001b[0m: No module named 'tensorflow'"
     ]
    }
   ],
   "source": [
    "import tensorflow as tf\n",
    "import numpy as np\n",
    "import pandas as pd"
   ]
  },
  {
   "cell_type": "markdown",
   "metadata": {},
   "source": [
    "`as`는 별칭을 짓게 도와주고, 지어진 별칭이 있다면 해당 별칭으로 접근하면 됩니다.\n",
    "\n",
    "(현재 위의 Error는 외부 모듈을 설치하지 않아서 생기는 오류입니다.)"
   ]
  },
  {
   "cell_type": "markdown",
   "metadata": {},
   "source": [
    "<hr/>\n",
    "<div style=\"font-size: 80%\">\n",
    "*1.모듈: 파이썬 코드를 논리적으로 묶어서 관리하고 사용할 수 있도록 하는 것으로, 보통 하나의 파이썬 `.py`파일이 하나의 모듈이 됩니다. 모듈 안에는 함수, 클래스, 변수들이 정의될 수 있으며, 실행 코드를 포함할 수도 있습니다.\n",
    "</div>"
   ]
  }
 ],
 "metadata": {
  "kernelspec": {
   "display_name": "Python 3",
   "language": "python",
   "name": "python3"
  },
  "language_info": {
   "codemirror_mode": {
    "name": "ipython",
    "version": 3
   },
   "file_extension": ".py",
   "mimetype": "text/x-python",
   "name": "python",
   "nbconvert_exporter": "python",
   "pygments_lexer": "ipython3",
   "version": "3.7.7"
  }
 },
 "nbformat": 4,
 "nbformat_minor": 4
}
