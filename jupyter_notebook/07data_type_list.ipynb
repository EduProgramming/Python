{
 "cells": [
  {
   "cell_type": "markdown",
   "metadata": {},
   "source": [
    "# List, 리스트"
   ]
  },
  {
   "cell_type": "markdown",
   "metadata": {},
   "source": [
    "W대학교의 정교수님은 이번 코딩시험에 대해 10명의 학생의 성적을 기입해야합니다.\n",
    "\n",
    "정교수님은 프로그래밍을 통해 성적을 기입하라는 학교의 방침에 따라 아래와 같이 작성하였습니다."
   ]
  },
  {
   "cell_type": "code",
   "execution_count": 1,
   "metadata": {},
   "outputs": [],
   "source": [
    "student_name1, student_score1 = '이익준', 'A'\n",
    "student_name2, student_score2 = '채송화', 'A+'\n",
    "student_name3, student_score3 = '안정원', 'B+'\n",
    "student_name4, student_score4 = '김준완', 'B+'\n",
    "student_name5, student_score5 = '양석형', 'B'\n",
    "student_name6, student_score6 = '도재학', 'C'\n",
    "student_name7, student_score7 = '용석민', 'D'\n",
    "student_name8, student_score8 = '장겨울', 'A+'\n",
    "student_name9, student_score9 = '안치홍', 'A+'\n",
    "student_name10, student_score10 = '추민하', 'F'"
   ]
  },
  {
   "cell_type": "markdown",
   "metadata": {},
   "source": [
    "학생명 하나하나에 이름과 성적을 넣어서 기입하였습니다.\n",
    "\n",
    "이러고보니 다음 학기에는 100명의 수강생들을 기입해야하는데 변수를 이름과 성적을 100개씩을 기입하려고 하니 관리하기가 어려움을 깨달았습니다.\n",
    "\n",
    "이러한 경우에 우리는 배열을 사용할 수 있습니다.\n",
    "\n",
    "C언어와 Java의 경우에는 배열을 사용하지만, 파이썬에는 배열이 없고 이 역할을 리스트와 이후에 배울 튜플이 할 수 있습니다.\n",
    "\n",
    "리스트와 튜플의 차이점은 수정이 가능한가, 불가능한가에 나뉩니다.\n",
    "\n",
    "리스트는 수정이 가능(mutable)합니다.\n",
    "\n",
    "반대로, 튜플은 수정이 불가능(immutable)합니다.\n",
    "\n",
    "list의 사용법은 아래와 같습니다.\n",
    "1. [값1, 값2, ...]\n",
    "2. list()"
   ]
  },
  {
   "cell_type": "code",
   "execution_count": 2,
   "metadata": {},
   "outputs": [
    {
     "name": "stdout",
     "output_type": "stream",
     "text": [
      "[1, 2, 3, 4, 5]\n",
      "['1', '2', '3', '4', '5']\n"
     ]
    }
   ],
   "source": [
    "# 1. [값1, 값2, ...]의 방법\n",
    "list_data = [1,2,3,4,5]\n",
    "\n",
    "# 2. list()의 방법\n",
    "# 2-1. 빈 리스트\n",
    "list_data = list()\n",
    "list_data.append(1)\n",
    "list_data.append(2)\n",
    "list_data.append(3)\n",
    "list_data.append(4)\n",
    "list_data.append(5)\n",
    "print(list_data)\n",
    "\n",
    "# 2-2. list('iterable객체')\n",
    "list_data = list('12345')\n",
    "print(list_data)"
   ]
  },
  {
   "cell_type": "markdown",
   "metadata": {},
   "source": [
    "엄밀히 말하자면 2-1과 2-2의 생성 결과는 다릅니다.\n",
    "\n",
    "2-1의 경우에는 배열에 생성된 각 인덱스의 값이 숫자형태입니다.\n",
    "\n",
    "그러나, 2-2의 경우에는 각 값의 형태가 문자열로 나옵니다.\n",
    "\n",
    "이를 해결하기 위해서는 map()함수를 써서 사용할 수 있습니다."
   ]
  },
  {
   "cell_type": "code",
   "execution_count": 3,
   "metadata": {},
   "outputs": [
    {
     "name": "stdout",
     "output_type": "stream",
     "text": [
      "[1, 2, 3, 4, 5]\n"
     ]
    }
   ],
   "source": [
    "list_data = list(map(int, '12345'))\n",
    "print(list_data)"
   ]
  },
  {
   "cell_type": "markdown",
   "metadata": {},
   "source": [
    "<sub>**심화1]**</sub>\n",
    "<div style=\"border-left-style: solid;\n",
    "  border-left-color: coral;\n",
    "  padding-left: 10px;\">\n",
    "    <strong>iterable 객체</strong><br/>\n",
    "    값을 차례대로 꺼낼 수 있는 객체입니다.<br/>\n",
    "    추후 배울 반복문에서 하나하나씩 값을 꺼내 쓸 수 있다면, iterable 객체라고 보시면 됩니다.<br/>\n",
    "    대표적인 iterable한 자료형은 str, list, tuple, dict, set, bytes, range가 있습니다.\n",
    "</div>\n",
    "\n",
    "<sub>**심화2]**</sub>\n",
    "<div style=\"border-left-style: solid;\n",
    "  border-left-color: coral;\n",
    "  padding-left: 10px;\">\n",
    "    <strong>map함수</strong><br/>\n",
    "    map(타입, iterable객체)를 넣어서 값을 할당할 수 있습니다.<br/>\n",
    "    map만을 사용해서 값을 받으면 map타입으로 나오게 됩니다.<br/>해당 결과는 반복문을 통해 나타낼 수 있지만, 주로 사용하고 하는 값에 넣어 사용합니다.\n",
    "</div>"
   ]
  },
  {
   "cell_type": "code",
   "execution_count": 4,
   "metadata": {
    "scrolled": true
   },
   "outputs": [
    {
     "name": "stdout",
     "output_type": "stream",
     "text": [
      "<map object at 0x000002B5D67B7208>\n",
      "1\n",
      "2\n",
      "3\n",
      "4\n",
      "5\n",
      "[1, 2, 3, 4, 5]\n"
     ]
    }
   ],
   "source": [
    "# map 객체 출력\n",
    "print(map(int, [1,2,3,4,5]))\n",
    "\n",
    "# 추후 배울 반복문을 통해 해당 값 출력\n",
    "for i in map(int, [1,2,3,4,5]):\n",
    "    print(i)\n",
    "\n",
    "# List를 이용하여 map 객체를 변환\n",
    "print(list(map(int, [1,2,3,4,5])))"
   ]
  },
  {
   "cell_type": "markdown",
   "metadata": {},
   "source": [
    "그러면 정교수님의 고충을 우리가 해결해드리도록 하겠습니다.\n",
    "\n",
    "`student_name`이라는 변수에는 학생들의 이름을 담고, `student_score`는 학생들의 성적을 담도록 하겠습니다."
   ]
  },
  {
   "cell_type": "code",
   "execution_count": 5,
   "metadata": {},
   "outputs": [
    {
     "name": "stdout",
     "output_type": "stream",
     "text": [
      "['이익준', '채송화', '안정원', '김준완', '양석형', '도재학', '용석민', '장겨울', '안치홍', '추민하']\n",
      "['A', 'A+', 'B+', 'B+', 'B', 'C', 'D', 'A+', 'A+', 'F']\n"
     ]
    }
   ],
   "source": [
    "student_name = [\n",
    "    '이익준', '채송화', '안정원', '김준완', '양석형',\n",
    "    '도재학', '용석민', '장겨울', '안치홍', '추민하'\n",
    "]\n",
    "\n",
    "student_score = [\n",
    "    'A', 'A+', 'B+', 'B+', 'B',\n",
    "    'C', 'D', 'A+', 'A+', 'F'\n",
    "]\n",
    "\n",
    "print(student_name)\n",
    "print(student_score)"
   ]
  },
  {
   "cell_type": "markdown",
   "metadata": {},
   "source": [
    "우선 값은 리스트에 담아보았습니다. 해당 값을 출력하는 방법에 대해서는 이후 반복문에서 더 자세히 살펴보도록 하겠습니다."
   ]
  },
  {
   "cell_type": "markdown",
   "metadata": {},
   "source": [
    "![](./docs/assets/list_index.png)"
   ]
  },
  {
   "cell_type": "markdown",
   "metadata": {},
   "source": [
    "## 1. 리스트 연산하기\n",
    "\n",
    "리스트도 문자열에서 하였듯, `+` 연산자와 `*` 연산자를 사용할 수 있습니다."
   ]
  },
  {
   "cell_type": "code",
   "execution_count": 6,
   "metadata": {},
   "outputs": [
    {
     "name": "stdout",
     "output_type": "stream",
     "text": [
      "[1, 2, 3, 4, 5, 6]\n"
     ]
    }
   ],
   "source": [
    "# 리스트 더하기(+)\n",
    "list_a = [1, 2, 3]\n",
    "list_b = [4, 5, 6]\n",
    "\n",
    "list_c = list_a + list_b\n",
    "print(list_c)"
   ]
  },
  {
   "cell_type": "code",
   "execution_count": 7,
   "metadata": {},
   "outputs": [
    {
     "name": "stdout",
     "output_type": "stream",
     "text": [
      "[1, 2, 3, 1, 2, 3, 1, 2, 3]\n"
     ]
    }
   ],
   "source": [
    "# 리스트 반복하기(*)\n",
    "list_a = [1, 2, 3]\n",
    "\n",
    "print(list_a * 3)"
   ]
  },
  {
   "cell_type": "markdown",
   "metadata": {},
   "source": [
    "## 2. 리스트 길이 구하기\n",
    "\n",
    "리스트 길이를 구하기 위해서 `len`함수를 사용하여 길이를 구할 수 있습니다.\n",
    "\n",
    "len함수는 문자열, 리스트, 튜플, 딕셔너리 등 다양하게 사용될 수 있습니다."
   ]
  },
  {
   "cell_type": "code",
   "execution_count": 8,
   "metadata": {},
   "outputs": [
    {
     "name": "stdout",
     "output_type": "stream",
     "text": [
      "3\n"
     ]
    }
   ],
   "source": [
    "list_data = [1, 2, 3]\n",
    "\n",
    "print(len(list_data))"
   ]
  },
  {
   "cell_type": "code",
   "execution_count": 9,
   "metadata": {},
   "outputs": [
    {
     "ename": "TypeError",
     "evalue": "can only concatenate list (not \"str\") to list",
     "output_type": "error",
     "traceback": [
      "\u001b[1;31m---------------------------------------------------------------------------\u001b[0m",
      "\u001b[1;31mTypeError\u001b[0m                                 Traceback (most recent call last)",
      "\u001b[1;32m<ipython-input-9-5bf192376e4b>\u001b[0m in \u001b[0;36m<module>\u001b[1;34m\u001b[0m\n\u001b[0;32m      2\u001b[0m \u001b[0mstr_data\u001b[0m \u001b[1;33m=\u001b[0m \u001b[1;34m'이렇게는 더할 수 없어요'\u001b[0m\u001b[1;33m\u001b[0m\u001b[1;33m\u001b[0m\u001b[0m\n\u001b[0;32m      3\u001b[0m \u001b[1;33m\u001b[0m\u001b[0m\n\u001b[1;32m----> 4\u001b[1;33m \u001b[0mprint\u001b[0m\u001b[1;33m(\u001b[0m\u001b[0mlist_data\u001b[0m \u001b[1;33m+\u001b[0m \u001b[0mstr_data\u001b[0m\u001b[1;33m)\u001b[0m \u001b[1;31m# TypeError: can only concatenate list (not \"str\") to list\u001b[0m\u001b[1;33m\u001b[0m\u001b[1;33m\u001b[0m\u001b[0m\n\u001b[0m",
      "\u001b[1;31mTypeError\u001b[0m: can only concatenate list (not \"str\") to list"
     ]
    }
   ],
   "source": [
    "list_data = [1, 2, 3]\n",
    "str_data = '이렇게는 더할 수 없어요'\n",
    "\n",
    "print(list_data + str_data) # TypeError: can only concatenate list (not \"str\") to list"
   ]
  },
  {
   "cell_type": "markdown",
   "metadata": {},
   "source": [
    "## 3. 리스트 관련 함수들"
   ]
  },
  {
   "cell_type": "markdown",
   "metadata": {},
   "source": [
    "### 1) 리스트 수정\n",
    "\n",
    "해당 부분은 함수는 아니지만, 함께 다루도록 하겠습니다.\n",
    "\n",
    "리스트는 수정이 가능(mutable)하기에 인덱스로 접근하여 해당 값만을 변경할 수 있습니다."
   ]
  },
  {
   "cell_type": "code",
   "execution_count": 10,
   "metadata": {
    "scrolled": true
   },
   "outputs": [
    {
     "name": "stdout",
     "output_type": "stream",
     "text": [
      "[1, 4, 3]\n",
      "[1, 2, 3]\n"
     ]
    }
   ],
   "source": [
    "list_data = [1, 4, 3]\n",
    "print(list_data) # [1, 4, 3]\n",
    "list_data[1] = 2\n",
    "print(list_data) # [1, 2, 3]"
   ]
  },
  {
   "cell_type": "markdown",
   "metadata": {},
   "source": [
    "### 2) 리스트 삭제\n",
    "\n",
    "#### - del 함수\n",
    "\n",
    "del함수를 통하여 해당 리스트 요소나 객체를 삭제할 수 있습니다.\n",
    "\n",
    "`del list_data[n]`는 list_data에 n번째 요소값을 삭제합니다."
   ]
  },
  {
   "cell_type": "code",
   "execution_count": 11,
   "metadata": {},
   "outputs": [
    {
     "name": "stdout",
     "output_type": "stream",
     "text": [
      "[1, 3]\n"
     ]
    },
    {
     "ename": "NameError",
     "evalue": "name 'list_data' is not defined",
     "output_type": "error",
     "traceback": [
      "\u001b[1;31m---------------------------------------------------------------------------\u001b[0m",
      "\u001b[1;31mNameError\u001b[0m                                 Traceback (most recent call last)",
      "\u001b[1;32m<ipython-input-11-6441eec93741>\u001b[0m in \u001b[0;36m<module>\u001b[1;34m\u001b[0m\n\u001b[0;32m      7\u001b[0m \u001b[1;32mdel\u001b[0m \u001b[0mlist_data\u001b[0m\u001b[1;33m\u001b[0m\u001b[1;33m\u001b[0m\u001b[0m\n\u001b[0;32m      8\u001b[0m \u001b[1;33m\u001b[0m\u001b[0m\n\u001b[1;32m----> 9\u001b[1;33m \u001b[0mprint\u001b[0m\u001b[1;33m(\u001b[0m\u001b[0mlist_data\u001b[0m\u001b[1;33m)\u001b[0m \u001b[1;31m# NameError: name 'list_data' is not defined\u001b[0m\u001b[1;33m\u001b[0m\u001b[1;33m\u001b[0m\u001b[0m\n\u001b[0m",
      "\u001b[1;31mNameError\u001b[0m: name 'list_data' is not defined"
     ]
    }
   ],
   "source": [
    "list_data = [1, 2, 3]\n",
    "\n",
    "del list_data[1]\n",
    "\n",
    "print(list_data) # [1,3]\n",
    "\n",
    "del list_data\n",
    "\n",
    "print(list_data) # NameError: name 'list_data' is not defined"
   ]
  },
  {
   "cell_type": "markdown",
   "metadata": {},
   "source": [
    "#### - remove 함수\n",
    "\n",
    "remove함수를 통하여 해당 값을 삭제할 수 있습니다.\n",
    "\n",
    "`list_data.remove(값)`을 사용하면 가장 앞에 나오는 해당 값을 지웁니다."
   ]
  },
  {
   "cell_type": "code",
   "execution_count": 12,
   "metadata": {},
   "outputs": [
    {
     "name": "stdout",
     "output_type": "stream",
     "text": [
      "[1, 2, 2, 3]\n"
     ]
    }
   ],
   "source": [
    "list_data = [1, 2, 3, 2, 3]\n",
    "list_data.remove(3)\n",
    "\n",
    "print(list_data) # [1, 2, 2, 3]"
   ]
  },
  {
   "cell_type": "markdown",
   "metadata": {},
   "source": [
    "#### - pop 함수\n",
    "\n",
    "다른 방식으로는 정확하게 삭제는 아니지만, 삭제의 효과를 내는 방법이 있습니다.\n",
    "\n",
    "리스트의 값을 꺼내옴으로서, 해당 값을 지우는 효과를 낼수도 있습니다.\n",
    "\n",
    "`list_data.pop(index값)`을 사용하면 해당 인덱스의 값을 꺼내올 수 있습니다."
   ]
  },
  {
   "cell_type": "code",
   "execution_count": 13,
   "metadata": {},
   "outputs": [
    {
     "name": "stdout",
     "output_type": "stream",
     "text": [
      "[1, 2, 2, 3]\n",
      "꺼내온 값 : 3\n"
     ]
    }
   ],
   "source": [
    "list_data = [1, 2, 3, 2, 3]\n",
    "value = list_data.pop(2) # 2번째 인덱스의 값을 꺼내옴\n",
    "\n",
    "print(list_data)\n",
    "print('꺼내온 값 :', value)"
   ]
  },
  {
   "cell_type": "markdown",
   "metadata": {},
   "source": [
    "### 3) 리스트 추가"
   ]
  },
  {
   "cell_type": "markdown",
   "metadata": {},
   "source": [
    "#### - append\n",
    "\n",
    "리스트에 값을 추가하는 방식은 `+` 연산자를 사용하는 방식도 있었지만,\n",
    "\n",
    "정식적인 방법은 `append`함수를 사용하는 것입니다.\n",
    "\n",
    "`list_data.append(해당값)`을 사용하여 해당 리스트에 값을 넣어줄 수 있습니다.\n",
    "\n",
    "넣어진 값은 가장 뒤에 추가됩니다."
   ]
  },
  {
   "cell_type": "code",
   "execution_count": 14,
   "metadata": {},
   "outputs": [
    {
     "name": "stdout",
     "output_type": "stream",
     "text": [
      "[1, 2, 3, 4, 5]\n"
     ]
    }
   ],
   "source": [
    "list_data = [1, 2, 3]\n",
    "list_data.append(4)\n",
    "list_data.append(5)\n",
    "\n",
    "print(list_data) # [1, 2, 3, 4, 5]"
   ]
  },
  {
   "cell_type": "markdown",
   "metadata": {},
   "source": [
    "현재까지 배운 리스트는 1차 리스트입니다. 이중 리스트와 n차 리스트도 사용가능합니다.\n",
    "\n",
    "리스트 안에 리스트를 넣어서 사용하는 방법입니다."
   ]
  },
  {
   "cell_type": "code",
   "execution_count": 15,
   "metadata": {},
   "outputs": [
    {
     "name": "stdout",
     "output_type": "stream",
     "text": [
      "[[1, 2, 3], [4, 5, 6], [7, 8, 9]]\n",
      "3\n",
      "[1, 2, 3, [1, 2, 3], 6]\n",
      "[1, 2, 3, [1, 2, 3]]\n"
     ]
    }
   ],
   "source": [
    "# 이중 리스트 예시\n",
    "double_list = [[1,2,3], [4,5,6], [7,8,9]]\n",
    "print(double_list) # [[1, 2, 3], [4, 5, 6], [7, 8, 9]]\n",
    "\n",
    "# 이중 리스트 접근\n",
    "print(double_list[0][2]) # 3\n",
    "\n",
    "# 위와 같은 방식으로 3x3의 이중 리스트를 생성할 수도 있고,\n",
    "\n",
    "list_data = [1, 2, 3, [1, 2, 3], 6]\n",
    "print(list_data) # [1, 2, 3, [1, 2, 3], 6]\n",
    "# 이러한 방식으로 1차 리스트와 2차 리스트를 함께 사용할 수도 있습니다. \n",
    "\n",
    "# 2차 리스트를 추가하는 방법\n",
    "list_data = [1, 2, 3]\n",
    "list_data.append([1, 2, 3])\n",
    "print(list_data) # [1, 2, 3, [1, 2, 3]]"
   ]
  },
  {
   "cell_type": "markdown",
   "metadata": {},
   "source": [
    "#### - insert\n",
    "\n",
    "append는 리스트의 가장 뒤에 값이 추가됩니다.\n",
    "\n",
    "우리가 값을 추가할 때, 뒤에만이 아닌 중간에 추가해야하는 경우도 있습니다.\n",
    "\n",
    "이러한 경우에 `insert`를 사용할 수 있습니다.\n",
    "\n",
    "`list_data.insert(index, 값)`으로 사용할 수 있습니다.\n",
    "\n",
    "index 위치를 적어주고, 해당 값을 적어서 해당 위치에 값을 추가할 수 있습니다. 그 위치 이후에 있던 값들은 한 인덱스씩 +1이 됩니다."
   ]
  },
  {
   "cell_type": "code",
   "execution_count": 16,
   "metadata": {},
   "outputs": [
    {
     "name": "stdout",
     "output_type": "stream",
     "text": [
      "[1, 2, 3, 4]\n"
     ]
    }
   ],
   "source": [
    "list_data = [1,2,4]\n",
    "list_data.insert(2, 3) # 2번 인덱스에 3의 값 추가\n",
    "\n",
    "print(list_data)"
   ]
  },
  {
   "cell_type": "markdown",
   "metadata": {},
   "source": [
    "### 4) 리스트 정렬"
   ]
  },
  {
   "cell_type": "markdown",
   "metadata": {},
   "source": [
    "#### - sort, 정렬\n",
    "\n",
    "리스트의 요소를 정렬해 줍니다."
   ]
  },
  {
   "cell_type": "code",
   "execution_count": 17,
   "metadata": {},
   "outputs": [
    {
     "name": "stdout",
     "output_type": "stream",
     "text": [
      "[1, 2, 3, 4, 5]\n",
      "[5, 4, 3, 2, 1]\n"
     ]
    }
   ],
   "source": [
    "list_data = [1, 5, 2, 3, 4]\n",
    "list_data.sort()\n",
    "\n",
    "print(list_data)\n",
    "\n",
    "list_data.sort(reverse=True)\n",
    "print(list_data)"
   ]
  },
  {
   "cell_type": "markdown",
   "metadata": {},
   "source": [
    "#### - reverse, 리스트 뒤집기\n",
    "\n",
    "리스트를 역순으로 뒤집어 줍니다."
   ]
  },
  {
   "cell_type": "code",
   "execution_count": 18,
   "metadata": {},
   "outputs": [
    {
     "name": "stdout",
     "output_type": "stream",
     "text": [
      "[4, 3, 2, 5, 1]\n"
     ]
    }
   ],
   "source": [
    "list_data = [1, 5, 2, 3, 4]\n",
    "list_data.reverse()\n",
    "\n",
    "print(list_data)"
   ]
  },
  {
   "cell_type": "markdown",
   "metadata": {},
   "source": [
    "### 5) 위치 반환"
   ]
  },
  {
   "cell_type": "markdown",
   "metadata": {},
   "source": [
    "#### - index, 인덱스 반환\n",
    "\n",
    "`list_data.index(x)`는 리스트 list_data에서 x의 값의 인덱스를 반환해줍니다.\n",
    "\n",
    "리스트에서 x의 값이 여러개일 경우에는 가장 앞에 있는 x의 값의 인덱스가 반환됩니다."
   ]
  },
  {
   "cell_type": "code",
   "execution_count": 19,
   "metadata": {},
   "outputs": [
    {
     "name": "stdout",
     "output_type": "stream",
     "text": [
      "3\n",
      "7\n"
     ]
    }
   ],
   "source": [
    "list_data = [1, 3, 3, 7, 6]\n",
    "idx = list_data.index(7)\n",
    "print(idx)\n",
    "\n",
    "print(list_data[idx])"
   ]
  },
  {
   "cell_type": "markdown",
   "metadata": {},
   "source": [
    "### 6) Count\n",
    "\n",
    "#### - count, 리스트에 포함된 x의 총 개수 반환\n",
    "\n",
    "`list_data.count(x)`는 리스트 list_data에서 x가 나온 총 갯수를 반환해줍니다."
   ]
  },
  {
   "cell_type": "code",
   "execution_count": 20,
   "metadata": {},
   "outputs": [
    {
     "name": "stdout",
     "output_type": "stream",
     "text": [
      "2\n",
      "1\n"
     ]
    }
   ],
   "source": [
    "list_data = [1, 3, 3, 7, 6]\n",
    "value = list_data.count(3)\n",
    "print(value)\n",
    "\n",
    "value = list_data.count(7)\n",
    "print(value)"
   ]
  },
  {
   "cell_type": "markdown",
   "metadata": {},
   "source": [
    "### 7) extend, 리스트 확장\n",
    "\n",
    "#### - extend\n",
    "\n",
    "extend는 리스트를 확장해주는 역할을 합니다.\n",
    "\n",
    "list + list의 결과를 나타낸다고 생각하시면 됩니다.\n",
    "\n",
    "`list_data1.extend(list_data2)`로 사용합니다. "
   ]
  },
  {
   "cell_type": "code",
   "execution_count": 21,
   "metadata": {},
   "outputs": [
    {
     "name": "stdout",
     "output_type": "stream",
     "text": [
      "[1, 2, 3, 4, 5, 6]\n",
      "[1, 2, 3, [1, 2, 3], 4, 5, 6, [4, 5, 6]]\n",
      "[1, 2, 3, 4, 5, 6]\n",
      "[1, 2, 3, [1, 2, 3], 4, 5, 6, [4, 5, 6]]\n"
     ]
    }
   ],
   "source": [
    "list_data1 = [1, 2, 3]\n",
    "list_data2 = [4, 5, 6]\n",
    "list_data1.extend(list_data2)\n",
    "print(list_data1) # [1, 2, 3, 4, 5, 6]\n",
    "\n",
    "# 이중리스트일 경우에도 되는지 확인\n",
    "list_data1 = [1, 2, 3, [1, 2, 3]]\n",
    "list_data2 = [4, 5, 6, [4, 5, 6]]\n",
    "list_data1.extend(list_data2)\n",
    "print(list_data1)\n",
    "\n",
    "# `+`연산 사용\n",
    "list_data1 = [1, 2, 3]\n",
    "list_data2 = [4, 5, 6]\n",
    "list_data = list_data1 + list_data2\n",
    "print(list_data)\n",
    "\n",
    "# `+`연산 이중리스트 경우 확인\n",
    "list_data1 = [1, 2, 3, [1, 2, 3]]\n",
    "list_data2 = [4, 5, 6, [4, 5, 6]]\n",
    "list_data = list_data1 + list_data2\n",
    "print(list_data)"
   ]
  },
  {
   "cell_type": "markdown",
   "metadata": {},
   "source": [
    "`extend`함수를 사용한 결과에는 값이 반환되지 않고 바로 적용되는 모습을 보이고,\n",
    "\n",
    "`+`연산자의 경우에는 값을 다른 변수에 넣어서 출력하는 모습을 확인하실 수 있습니다.\n",
    "\n",
    "추후 배울 <strong>함수</strong>에 대한 내용이지만, 조금 알고 넘어가자면\n",
    "\n",
    "함수에는 `return`을 통해 값을 전달하는 방식과 넘겨받은 값을 수정하여 반환하진 않는 방식으로 나뉩니다.\n",
    "\n",
    "자세한 내용은 함수에서 다루도록 하겠습니다."
   ]
  }
 ],
 "metadata": {
  "kernelspec": {
   "display_name": "Python 3",
   "language": "python",
   "name": "python3"
  },
  "language_info": {
   "codemirror_mode": {
    "name": "ipython",
    "version": 3
   },
   "file_extension": ".py",
   "mimetype": "text/x-python",
   "name": "python",
   "nbconvert_exporter": "python",
   "pygments_lexer": "ipython3",
   "version": "3.7.7"
  }
 },
 "nbformat": 4,
 "nbformat_minor": 4
}
