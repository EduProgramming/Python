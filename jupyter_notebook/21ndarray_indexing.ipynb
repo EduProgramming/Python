{
 "cells": [
  {
   "cell_type": "code",
   "execution_count": 1,
   "metadata": {},
   "outputs": [],
   "source": [
    "import numpy as np"
   ]
  },
  {
   "cell_type": "markdown",
   "metadata": {},
   "source": [
    "# ndarray indexing\n",
    "\n",
    "## 1. 단일 인덱싱\n",
    "\n",
    "단일 인덱싱 방식은 파이썬 리스트와 동일합니다."
   ]
  },
  {
   "cell_type": "code",
   "execution_count": 2,
   "metadata": {},
   "outputs": [
    {
     "name": "stdout",
     "output_type": "stream",
     "text": [
      "1\n",
      "9\n"
     ]
    }
   ],
   "source": [
    "array = np.arange(1, 10)\n",
    "print(array[0])\n",
    "print(array[-1])"
   ]
  },
  {
   "cell_type": "markdown",
   "metadata": {},
   "source": [
    "## 2. 슬라이싱\n",
    "\n",
    "슬라이싱도 파이썬 리스트와 동일합니다.\n",
    "\n",
    "⚠️다만, 차이점으로는 이중리스트를 진행하면서 발생합니다."
   ]
  },
  {
   "cell_type": "code",
   "execution_count": 3,
   "metadata": {},
   "outputs": [
    {
     "name": "stdout",
     "output_type": "stream",
     "text": [
      "[[1 2 3]\n",
      " [4 5 6]\n",
      " [7 8 9]]\n",
      "[[2]\n",
      " [5]\n",
      " [8]]\n"
     ]
    }
   ],
   "source": [
    "array_data = array.reshape(3, -1)\n",
    "print(array_data)\n",
    "\n",
    "print(array_data[0:3, 1:2])"
   ]
  },
  {
   "cell_type": "markdown",
   "metadata": {},
   "source": [
    "## 3. 팬시 인덱싱, Fancy Indexing\n",
    "\n",
    "팬시 인덱싱은 리스트나 ndarray로 인덱스 집합을 지정하면 해당 값을 반환하는 방식입니다."
   ]
  },
  {
   "cell_type": "code",
   "execution_count": 4,
   "metadata": {},
   "outputs": [
    {
     "name": "stdout",
     "output_type": "stream",
     "text": [
      "[[1 2 3]\n",
      " [4 5 6]\n",
      " [7 8 9]]\n",
      "[1 2 3 4 5 6 7 8 9]\n",
      "[2 4 6]\n"
     ]
    }
   ],
   "source": [
    "print(array_data)\n",
    "\n",
    "array_data = array_data.reshape(-1,)\n",
    "print(array_data)\n",
    "print(array_data[ [1, 3, 5] ])"
   ]
  },
  {
   "cell_type": "markdown",
   "metadata": {},
   "source": [
    "## 4. 불린 인덱싱, Boolean Indexing\n",
    "\n",
    "불린 인덱싱은 조건 필터링과 검색을 동시에 할 수 있기 때문에 자주 사용되는 인덱싱 방식입니다."
   ]
  },
  {
   "cell_type": "code",
   "execution_count": 5,
   "metadata": {},
   "outputs": [
    {
     "name": "stdout",
     "output_type": "stream",
     "text": [
      "[3 6 9]\n",
      "<class 'numpy.ndarray'>\n",
      "[3 6 9]\n"
     ]
    }
   ],
   "source": [
    "# 불린 인덱싱을 사용하지X\n",
    "result = []\n",
    "for i in range(len(array_data)):\n",
    "    if array_data[i] % 3 == 0:\n",
    "        result.append(array_data[i])\n",
    "\n",
    "# print(result) - 리스트 결과값\n",
    "result = np.array(result)\n",
    "print(result)\n",
    "print(type(result))\n",
    "\n",
    "# 사용O\n",
    "print(array_data[array_data % 3 == 0])"
   ]
  }
 ],
 "metadata": {
  "kernelspec": {
   "display_name": "Python 3",
   "language": "python",
   "name": "python3"
  },
  "language_info": {
   "codemirror_mode": {
    "name": "ipython",
    "version": 3
   },
   "file_extension": ".py",
   "mimetype": "text/x-python",
   "name": "python",
   "nbconvert_exporter": "python",
   "pygments_lexer": "ipython3",
   "version": "3.7.7"
  }
 },
 "nbformat": 4,
 "nbformat_minor": 4
}
