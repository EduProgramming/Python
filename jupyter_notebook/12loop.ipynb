{
 "cells": [
  {
   "cell_type": "markdown",
   "metadata": {},
   "source": [
    "# Loop, 반복문"
   ]
  },
  {
   "cell_type": "markdown",
   "metadata": {},
   "source": [
    "## 1. For문"
   ]
  },
  {
   "cell_type": "markdown",
   "metadata": {},
   "source": [
    "반복문은 동일한 작업이나 특정한 작업을 여러번 해야할 때 사용할 수 있습니다.\n",
    "```python\n",
    "for 변수 in iterable객체:\n",
    "    print(변수)\n",
    "```\n",
    "\n",
    "위와 for문을 사용할 수도 있고,\n",
    "\n",
    "```python\n",
    "for 변수 in range(len(iterable객체)):\n",
    "    print(변수)\n",
    "```\n",
    "<br />\n",
    "\n",
    "### 1) range\n",
    "\n",
    "range를 통해 사용할수도 있습니다.\n",
    "\n",
    "**range**는 필요한 숫자만큼을 만들어내는 함수입니다.\n",
    "\n",
    "사용법은 2가지가 있습니다.\n",
    "\n",
    "1. range(end)\n",
    "2. range(start, end, step)\n",
    "\n",
    "단, end는 포함하지 않습니다."
   ]
  },
  {
   "cell_type": "code",
   "execution_count": 1,
   "metadata": {},
   "outputs": [
    {
     "name": "stdout",
     "output_type": "stream",
     "text": [
      "H/e/l/l/o/,/ /P/y/t/h/o/n/\n",
      "파이썬/자바/C/\n",
      "Java/Python/GoLang/\n",
      "Python/Java/\n",
      "0/1/2/3/4/5/6/7/8/9/"
     ]
    }
   ],
   "source": [
    "# 문자열을 이용한 반복문 사용\n",
    "str_data = \"Hello, Python\"\n",
    "for data in str_data:\n",
    "    print(data, end=\"/\") # H/e/l/l/o/,/ /P/y/t/h/o/n/\n",
    "print()\n",
    "    \n",
    "# 리스트를 이용한 반복문 사용\n",
    "list_data = [\"파이썬\", \"자바\", \"C\"]\n",
    "for data in list_data:\n",
    "    print(data, end=\"/\") # 파이썬/자바/C/\n",
    "print()\n",
    "\n",
    "# 튜플을 이용한 반복문 사용\n",
    "tuple_data = (\"Java\", \"Python\", \"GoLang\")\n",
    "for data in tuple_data:\n",
    "    print(data, end=\"/\") # Java/Python/GoLang/\n",
    "print()\n",
    "\n",
    "# 딕셔너리를 이용한 반복문 사용\n",
    "dict_data = {\"Python\": \"파이썬\", \"Java\": \"자바\"}\n",
    "for data in dict_data:\n",
    "    print(data, end=\"/\") # Python/Java/\n",
    "print()\n",
    "\n",
    "# Range를 통한 반복문 사용\n",
    "for num in range(10):\n",
    "    print(num, end=\"/\")"
   ]
  },
  {
   "cell_type": "markdown",
   "metadata": {},
   "source": [
    "#### 실습1. 구구단\n",
    "\n",
    "반복문을 통해서 구구단을 출력해겠습니다.\n",
    "\n",
    "구구단은 2단에서 9단까지 출력하여주세요.\n",
    "\n",
    "출력 예시)\n",
    "> 2 x 1 = 2<br />\n",
    "> 2 x 2 = 4<br />\n",
    "> ..."
   ]
  },
  {
   "cell_type": "code",
   "execution_count": 2,
   "metadata": {},
   "outputs": [
    {
     "name": "stdout",
     "output_type": "stream",
     "text": [
      "2 x 1 = 2\n",
      "2 x 2 = 4\n",
      "2 x 3 = 6\n",
      "2 x 4 = 8\n",
      "2 x 5 = 10\n",
      "2 x 6 = 12\n",
      "2 x 7 = 14\n",
      "2 x 8 = 16\n",
      "2 x 9 = 18\n",
      "3 x 1 = 3\n",
      "3 x 2 = 6\n",
      "3 x 3 = 9\n",
      "3 x 4 = 12\n",
      "3 x 5 = 15\n",
      "3 x 6 = 18\n",
      "3 x 7 = 21\n",
      "3 x 8 = 24\n",
      "3 x 9 = 27\n",
      "4 x 1 = 4\n",
      "4 x 2 = 8\n",
      "4 x 3 = 12\n",
      "4 x 4 = 16\n",
      "4 x 5 = 20\n",
      "4 x 6 = 24\n",
      "4 x 7 = 28\n",
      "4 x 8 = 32\n",
      "4 x 9 = 36\n",
      "5 x 1 = 5\n",
      "5 x 2 = 10\n",
      "5 x 3 = 15\n",
      "5 x 4 = 20\n",
      "5 x 5 = 25\n",
      "5 x 6 = 30\n",
      "5 x 7 = 35\n",
      "5 x 8 = 40\n",
      "5 x 9 = 45\n",
      "6 x 1 = 6\n",
      "6 x 2 = 12\n",
      "6 x 3 = 18\n",
      "6 x 4 = 24\n",
      "6 x 5 = 30\n",
      "6 x 6 = 36\n",
      "6 x 7 = 42\n",
      "6 x 8 = 48\n",
      "6 x 9 = 54\n",
      "7 x 1 = 7\n",
      "7 x 2 = 14\n",
      "7 x 3 = 21\n",
      "7 x 4 = 28\n",
      "7 x 5 = 35\n",
      "7 x 6 = 42\n",
      "7 x 7 = 49\n",
      "7 x 8 = 56\n",
      "7 x 9 = 63\n",
      "8 x 1 = 8\n",
      "8 x 2 = 16\n",
      "8 x 3 = 24\n",
      "8 x 4 = 32\n",
      "8 x 5 = 40\n",
      "8 x 6 = 48\n",
      "8 x 7 = 56\n",
      "8 x 8 = 64\n",
      "8 x 9 = 72\n",
      "9 x 1 = 9\n",
      "9 x 2 = 18\n",
      "9 x 3 = 27\n",
      "9 x 4 = 36\n",
      "9 x 5 = 45\n",
      "9 x 6 = 54\n",
      "9 x 7 = 63\n",
      "9 x 8 = 72\n",
      "9 x 9 = 81\n"
     ]
    }
   ],
   "source": [
    "for i in range(2, 10):\n",
    "    for j in range(1, 10):\n",
    "        print(f\"{i} x {j} = {i*j}\")"
   ]
  },
  {
   "cell_type": "markdown",
   "metadata": {},
   "source": [
    "### 2) continue, break\n",
    "\n",
    "반복문을 진행하면서 특정한 값이 나오면 넘어가거나 반복문을 멈추고 싶을 때가 있습니다.\n",
    "\n",
    "특정한 값이 나오면 넘어가게 하고 싶다면 `continue`를 사용하고, 특정한 값이 나올 때 반복문을 멈추고 싶다면 `break`을 사용하면 됩니다."
   ]
  },
  {
   "cell_type": "code",
   "execution_count": 3,
   "metadata": {},
   "outputs": [
    {
     "name": "stdout",
     "output_type": "stream",
     "text": [
      "1 2 4 5 6 7 8 9 "
     ]
    }
   ],
   "source": [
    "for num in range(1, 10):\n",
    "    if num == 3:\n",
    "        continue\n",
    "    print(num, end=\" \") # 1 2 4 5 6 7 8 9 "
   ]
  },
  {
   "cell_type": "code",
   "execution_count": 4,
   "metadata": {},
   "outputs": [
    {
     "name": "stdout",
     "output_type": "stream",
     "text": [
      "1 2 "
     ]
    }
   ],
   "source": [
    "for num in range(1, 10):\n",
    "    if num == 3:\n",
    "        break\n",
    "    print(num, end=\" \") # 1 2 "
   ]
  },
  {
   "cell_type": "markdown",
   "metadata": {},
   "source": [
    "### 3) enumerate\n",
    "\n",
    "enumerate는 \"열거하다\"라는 뜻을 가지고 있습니다.\n",
    "\n",
    "이 함수는 **iterable객체를 입력받아 인덱스 값을 포함하는 enumerate객체로 반환**합니다."
   ]
  },
  {
   "cell_type": "code",
   "execution_count": 5,
   "metadata": {},
   "outputs": [
    {
     "name": "stdout",
     "output_type": "stream",
     "text": [
      "0 Python\n",
      "1 Numpy\n",
      "2 Pandas\n",
      "3 Tensorflow\n"
     ]
    }
   ],
   "source": [
    "list_data = [\"Python\", \"Numpy\", \"Pandas\", \"Tensorflow\"]\n",
    "for idx, data in enumerate(list_data):\n",
    "    print(idx, data)"
   ]
  },
  {
   "cell_type": "markdown",
   "metadata": {},
   "source": [
    "---------------------------"
   ]
  },
  {
   "cell_type": "markdown",
   "metadata": {},
   "source": [
    "#### 문제1.\n",
    "1. 화폐 50,000원, 10,000원, 5,000원, 1,000원, 500원, 100원, 50원, 10원이 있습니다. 돈이 주어졌을 때 화폐의 갯수를 최소로 내어주는 프로그램을 작성하여주세요."
   ]
  },
  {
   "cell_type": "code",
   "execution_count": 6,
   "metadata": {},
   "outputs": [
    {
     "name": "stdout",
     "output_type": "stream",
     "text": [
      "주어진 돈78600\n",
      "9\n"
     ]
    }
   ],
   "source": [
    "pocket = int(input(\"주어진 돈\"))\n",
    "money = {\n",
    "    '오만원': 50000,\n",
    "    '만원': 10000,\n",
    "    '오천원': 5000,\n",
    "    '천원': 1000,\n",
    "    '오백원': 500,\n",
    "    '백원': 100,\n",
    "    '오십원': 50,\n",
    "    '십원': 10\n",
    "}\n",
    "result = 0\n",
    "\n",
    "for key in money:\n",
    "    if pocket >= money[key]:\n",
    "        result += pocket // money[key]\n",
    "        pocket = pocket % money[key]\n",
    "\n",
    "print(result)"
   ]
  },
  {
   "cell_type": "markdown",
   "metadata": {},
   "source": [
    "#### 문제2.\n",
    "우리가 앞서 리스트를 배울 때 정교수님의 학생들 성적을 기입하는 부분을 해결해주기로 하였습니다.\n",
    "```python\n",
    "student_name = [\n",
    "    '이익준', '채송화', '안정원', '김준완', '양석형',\n",
    "    '도재학', '용석민', '장겨울', '안치홍', '추민하'\n",
    "]\n",
    "\n",
    "student_score = [\n",
    "    'A', 'A+', 'B+', 'B+', 'B',\n",
    "    'C', 'D', 'A+', 'A+', 'F'\n",
    "]\n",
    "```\n",
    "각 성적의 학생들을 따로 담고, 각 성적을 받은 학생들의 수를 출력하는 프로그램을 작성하여 주세요."
   ]
  },
  {
   "cell_type": "code",
   "execution_count": 7,
   "metadata": {},
   "outputs": [
    {
     "name": "stdout",
     "output_type": "stream",
     "text": [
      "A형: 1명\n",
      "A+형: 3명\n",
      "B+형: 2명\n",
      "B형: 1명\n",
      "C형: 1명\n",
      "D형: 1명\n",
      "F형: 1명\n"
     ]
    }
   ],
   "source": [
    "student_name = [\n",
    "    '이익준', '채송화', '안정원', '김준완', '양석형',\n",
    "    '도재학', '용석민', '장겨울', '안치홍', '추민하'\n",
    "]\n",
    "\n",
    "student_score = [\n",
    "    'A', 'A+', 'B+', 'B+', 'B',\n",
    "    'C', 'D', 'A+', 'A+', 'F'\n",
    "]\n",
    "\n",
    "score_data = {}\n",
    "\n",
    "for num in range(len(student_name)):\n",
    "    score = student_score[num]\n",
    "    if score in score_data:\n",
    "        score_data[score].append(student_name[num])\n",
    "    else:\n",
    "        score_data[score] = [student_name[num]]\n",
    "        \n",
    "for key, value in score_data.items():\n",
    "    print(f\"{key}형: {len(value)}명\")"
   ]
  },
  {
   "cell_type": "markdown",
   "metadata": {},
   "source": [
    "## 2. 반복문 While\n",
    "\n",
    "for문에서는 지정된 숫자만큼 반복되었습니다.\n",
    "\n",
    "정교수님은 특정한 조건이 발생하기 전까지는 지속적으로 프로그램을 가동시키고 싶습니다.\n",
    "\n",
    "for문을 써서 엄청 큰 숫자를 기입해줬는데 결국은 프로그램이 종료되는 시점이 왔습니다. 이러한 문제를 해결해주는 것이 **while문**입니다.\n",
    "\n",
    "```python\n",
    "while (조건문):\n",
    "    수행 문장\n",
    "```\n",
    "\n",
    "조건문이 `True`일 때는 반복문이 지속적으로 진행되지만,\n",
    "\n",
    "`False`일 때는 `break`효과를 나타냅니다."
   ]
  },
  {
   "cell_type": "code",
   "execution_count": 8,
   "metadata": {},
   "outputs": [
    {
     "name": "stdout",
     "output_type": "stream",
     "text": [
      "0\n",
      "1\n",
      "2\n",
      "3\n",
      "4\n"
     ]
    }
   ],
   "source": [
    "cnt = 0\n",
    "\n",
    "while cnt < 5:\n",
    "    print(cnt)\n",
    "    cnt += 1"
   ]
  },
  {
   "cell_type": "markdown",
   "metadata": {},
   "source": [
    "혹여나 실수로 `while True`로 빠져나갈 수 없게 프로그래밍을 가동했다면, `ctrl+c`를 통해 빠져나올 수 있습니다."
   ]
  }
 ],
 "metadata": {
  "kernelspec": {
   "display_name": "Python 3",
   "language": "python",
   "name": "python3"
  },
  "language_info": {
   "codemirror_mode": {
    "name": "ipython",
    "version": 3
   },
   "file_extension": ".py",
   "mimetype": "text/x-python",
   "name": "python",
   "nbconvert_exporter": "python",
   "pygments_lexer": "ipython3",
   "version": "3.7.7"
  }
 },
 "nbformat": 4,
 "nbformat_minor": 4
}
