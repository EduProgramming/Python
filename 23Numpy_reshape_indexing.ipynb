{
 "cells": [
  {
   "cell_type": "markdown",
   "metadata": {},
   "source": [
    "# 배열의 형태 변경하기\n",
    "\n",
    "1차원의 행열을 2차원으로 변경하여 사용하거나, 반대로 사용할 수도 있습니다.\n",
    "\n",
    "## arr.reshape()\n",
    "\n",
    "기존 배열의 모양을 바꿀 수 있습니다.\n",
    "\n",
    "주의해야할 사항은 변경 전과 변경 후의 배열에는 각각 동일한 수의 원소가 있어야 합니다."
   ]
  },
  {
   "cell_type": "code",
   "execution_count": 1,
   "metadata": {},
   "outputs": [
    {
     "name": "stdout",
     "output_type": "stream",
     "text": [
      "[[1 2 3]\n",
      " [4 5 6]]\n",
      "2\n",
      "(2, 3)\n"
     ]
    }
   ],
   "source": [
    "import numpy as np\n",
    "\n",
    "data = [1, 2, 3, 4, 5, 6]\n",
    "arr = np.array(data)\n",
    "\n",
    "arr = arr.reshape(2, -1)\n",
    "print(arr)\n",
    "print(arr.ndim) # 차원 변경\n",
    "print(arr.shape) # 모양 변경"
   ]
  },
  {
   "cell_type": "markdown",
   "metadata": {},
   "source": [
    "## numpy.reshape()\n",
    "\n",
    "numpy.reshape(재구성할 배열, 변경할 shape, order)\n",
    "\n",
    "order = 'C', 'F', 'A'가 있으며,\n",
    "\n",
    "C: C언어 방식\n",
    "\n",
    "F: Fortain 방식\n",
    "\n",
    "A: 메모리에 따라 C와 F 중 자동 선택\n",
    "\n",
    "<sub>**참고]**</sub>\n",
    "<div style=\"border-left-style: solid;\n",
    "  border-left-color: coral;\n",
    "  padding-left: 10px;\">\n",
    "    C는 마지막 차원 인덱스가 가장 빠르게 변경되고 첫번째 차원 인덱스가 가장 느리게 변경됩니다.<br/>\n",
    "    Fortran은 첫번째 차원 인덱스가 가장 빠르게 변경되고 마지막 차원 인덱스가 가장 느리게 변경됩니다.\n",
    "</div>\n",
    "\n",
    "`shape`에 인자 -1은 배열의 길이와 남은 차원을 유추해서 자동으로 형태가 변경됩니다."
   ]
  },
  {
   "cell_type": "code",
   "execution_count": 2,
   "metadata": {},
   "outputs": [
    {
     "name": "stdout",
     "output_type": "stream",
     "text": [
      "[1 2 3 4 5 6]\n"
     ]
    }
   ],
   "source": [
    "arr = np.reshape(arr, -1)\n",
    "print(arr)"
   ]
  },
  {
   "cell_type": "code",
   "execution_count": 3,
   "metadata": {},
   "outputs": [
    {
     "name": "stdout",
     "output_type": "stream",
     "text": [
      "[3 1 2 3]\n",
      "[[0 1]\n",
      " [2 3]]\n",
      "[3 1 2]\n",
      "[3 1 2 3]\n",
      "[[3 1]\n",
      " [2 3]]\n",
      "[3 1 2]\n"
     ]
    }
   ],
   "source": [
    "import numpy as np\n",
    "\n",
    "data = [0, 1, 2, 3]\n",
    "arr = np.array(data)\n",
    "brr = arr.reshape(2, -1) # reshape 얇은 복사\n",
    "crr = brr.copy() # numpy에서 copy는 깊은 복사가 이뤄짐\n",
    "brr[0,0] = 3\n",
    "print(arr)\n",
    "print(crr)\n",
    "drr = np.resize(arr, 3)\n",
    "print(drr)\n",
    "# arr.resize(3) # 얇은 복사로 인해 메모리 문제가 생겨 resize 안된다고 나옴\n",
    "print(arr)\n",
    "\n",
    "data = [[0, 1], [2, 3]]\n",
    "arr = np.array(data)\n",
    "arr[0, 0] = 3\n",
    "print(arr)\n",
    "arr.resize(3)\n",
    "print(arr)"
   ]
  },
  {
   "cell_type": "code",
   "execution_count": 4,
   "metadata": {},
   "outputs": [
    {
     "name": "stdout",
     "output_type": "stream",
     "text": [
      "[7 2 3 4 5 6]\n",
      "[9 2 3 4 5 6]\n"
     ]
    }
   ],
   "source": [
    "# reshape는 얇은 복사가 이뤄진다\n",
    "data = [1, 2, 3, 4, 5, 6]\n",
    "arr = np.array(data)\n",
    "\n",
    "brr = np.reshape(arr, (2, -1))\n",
    "brr[0, 0] = 7\n",
    "print(arr)\n",
    "\n",
    "brr = arr.reshape((2, -1))\n",
    "brr[0, 0] = 9\n",
    "print(arr)"
   ]
  },
  {
   "cell_type": "markdown",
   "metadata": {},
   "source": [
    "## Indexing & Slicing\n",
    "\n",
    "Numpy에서도 인덱싱과 슬라이싱이 동일하게 있습니다.\n",
    "\n",
    "다만, 인덱싱부터 방법이 살짝 다르니 해당 부분만 이해한다면 동일합니다.\n",
    "\n",
    "위에 알게 모르게 사용을 했기 때문에 이미 눈치를 채셨을거라 봅니다."
   ]
  },
  {
   "cell_type": "code",
   "execution_count": 5,
   "metadata": {
    "scrolled": true
   },
   "outputs": [
    {
     "name": "stdout",
     "output_type": "stream",
     "text": [
      "6\n",
      "8\n",
      "[[ 9 10]]\n",
      "[[ 6  7]\n",
      " [ 9 10]]\n",
      "[[ 8  9 10]]\n"
     ]
    }
   ],
   "source": [
    "data = [[5, 6, 7], [8, 9, 10]]\n",
    "arr = np.array(data)\n",
    "print(arr[0,1]) # 6\n",
    "print(arr[1,0]) # 7\n",
    "\n",
    "# Slicing\n",
    "print(arr[1:, 1:]) # [[ 9 10]]\n",
    "print(arr[0:, 1:]) # [[ 6 7 ] [ 9 10]]\n",
    "\n",
    "print(arr[1:]) # [[ 8  9 10]]"
   ]
  },
  {
   "cell_type": "markdown",
   "metadata": {},
   "source": [
    "어떠한 분들은 `arr[0][1]`을 했을 때도 값이 나오는 것을 확인하고\n",
    "되네?!라고 생각하실 것입니다.\n",
    "\n",
    "`arr[0][1]`의 경우는 첫 번째 항을 반환 후에 열에 대한 데이터를 가져와야 하므로 `arr[0, 1]`보다 비효율적입니다."
   ]
  },
  {
   "cell_type": "markdown",
   "metadata": {},
   "source": [
    "### Fancy Indexing\n",
    "\n",
    "팬시 인덱싱은 리스트나 ndarray로 인덱스 집합을 지정하면 해당 값을 반환하는 방식"
   ]
  },
  {
   "cell_type": "code",
   "execution_count": 6,
   "metadata": {},
   "outputs": [
    {
     "name": "stdout",
     "output_type": "stream",
     "text": [
      "[1 2 3 4 5 6 7 8 9]\n",
      "[2 4 6]\n"
     ]
    }
   ],
   "source": [
    "data = list(range(1, 10))\n",
    "arr = np.array(data)\n",
    "print(arr)\n",
    "print(arr[ [1, 3, 5] ])"
   ]
  },
  {
   "cell_type": "markdown",
   "metadata": {},
   "source": [
    "### Boolean Indexing\n",
    "\n",
    "불린 인덱싱은 조건 필터링과 검색을 동시에 할 수 있기 때문에 자주 사용되는 인덱싱 방식입니다."
   ]
  },
  {
   "cell_type": "code",
   "execution_count": 7,
   "metadata": {},
   "outputs": [
    {
     "name": "stdout",
     "output_type": "stream",
     "text": [
      "[6 7 8 9]\n",
      "조건 결과: [False False False False False  True  True  True  True]\n",
      "[6 7 8 9]\n",
      "[6 7]\n"
     ]
    }
   ],
   "source": [
    "data = list(range(1, 10))\n",
    "arr = np.array(data)\n",
    "print(arr[arr > 5])\n",
    "\n",
    "# 조건을 변수에 담고 사용\n",
    "arr = np.array(data)\n",
    "if_data = arr > 5\n",
    "print(f\"조건 결과: {if_data}\")\n",
    "print(arr[if_data])\n",
    "\n",
    "# &: and연산자 |: or 연산자\n",
    "# 파이썬에서는 and와 or을 사용했는데 Numpy에서는 &와 |을 사용\n",
    "if_data1 = arr > 5\n",
    "if_data2 = arr <= 7\n",
    "print(arr[if_data1 & if_data2])"
   ]
  }
 ],
 "metadata": {
  "kernelspec": {
   "display_name": "Python 3",
   "language": "python",
   "name": "python3"
  },
  "language_info": {
   "codemirror_mode": {
    "name": "ipython",
    "version": 3
   },
   "file_extension": ".py",
   "mimetype": "text/x-python",
   "name": "python",
   "nbconvert_exporter": "python",
   "pygments_lexer": "ipython3",
   "version": "3.7.7"
  }
 },
 "nbformat": 4,
 "nbformat_minor": 5
}
