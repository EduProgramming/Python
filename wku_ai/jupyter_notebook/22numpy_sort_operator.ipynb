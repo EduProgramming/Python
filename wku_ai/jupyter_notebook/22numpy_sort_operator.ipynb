{
 "cells": [
  {
   "cell_type": "code",
   "execution_count": 1,
   "metadata": {},
   "outputs": [],
   "source": [
    "import numpy as np"
   ]
  },
  {
   "cell_type": "markdown",
   "metadata": {},
   "source": [
    "# Sort\n",
    "\n",
    "- np.sort() : 원본 행렬은 그대로 유지하고 정렬된 행렬값 반환\n",
    "- ndarray.sort() : 원본 행렬을 정렬하고 반환값 None"
   ]
  },
  {
   "cell_type": "code",
   "execution_count": 2,
   "metadata": {},
   "outputs": [
    {
     "name": "stdout",
     "output_type": "stream",
     "text": [
      "[1 2 3 4 5 6 7 8 9]\n",
      "[1 2 3 4 5 6 7 8 9]\n"
     ]
    }
   ],
   "source": [
    "array = np.array([1,3,6,4,5,2,9,8,7])\n",
    "\n",
    "sort_array = np.sort(array)\n",
    "print(sort_array)\n",
    "\n",
    "array = np.array([1,3,6,4,5,2,9,8,7])\n",
    "array.sort()\n",
    "print(array)"
   ]
  },
  {
   "cell_type": "code",
   "execution_count": 3,
   "metadata": {},
   "outputs": [
    {
     "name": "stdout",
     "output_type": "stream",
     "text": [
      "[[5 1 3]\n",
      " [2 6 4]]\n",
      "[[1 3 5]\n",
      " [2 4 6]]\n",
      "[[5 1 3]\n",
      " [2 6 4]]\n",
      "[[1 3 5]\n",
      " [2 4 6]]\n",
      "[[2 1 3]\n",
      " [5 6 4]]\n"
     ]
    }
   ],
   "source": [
    "# 2차원 배열에서 sort()\n",
    "list_data = [[5,1,3], [2,6,4]]\n",
    "array = np.array(list_data)\n",
    "print(array)\n",
    "sort_array = np.sort(array)\n",
    "print(sort_array)\n",
    "\n",
    "# 2차원 배열 - axis정렬\n",
    "print(array)\n",
    "print(np.sort(array, axis=1)) #axis1에 대한 정렬\n",
    "print(np.sort(array, axis=0)) #axis0에 대한 정렬"
   ]
  },
  {
   "cell_type": "markdown",
   "metadata": {},
   "source": [
    "-----------------------------------------------------"
   ]
  },
  {
   "cell_type": "markdown",
   "metadata": {},
   "source": [
    "# 선형대수 연산"
   ]
  },
  {
   "cell_type": "markdown",
   "metadata": {},
   "source": [
    "## 1. 행렬 내적\n",
    "\n",
    "행렬의 내적은 A · B라고 하였을 때,\n",
    "\n",
    "`A shape: (a, b)`\n",
    "\n",
    "`B shape: (c, d)`라면,\n",
    "\n",
    "**b와 c의 값이 같아야합니다.**\n",
    "\n",
    "그렇게 되면 (a, c) shape의 값이 나옵니다.\n",
    "\n",
    "사용법은 다음과 같습니다.\n",
    "\n",
    "1. np.dot(배열1, 배열2)\n",
    "\n",
    "2. 배열1.dot(배열2)"
   ]
  },
  {
   "cell_type": "code",
   "execution_count": 4,
   "metadata": {},
   "outputs": [
    {
     "name": "stdout",
     "output_type": "stream",
     "text": [
      "[[ 58  64]\n",
      " [139 154]]\n",
      "[[ 58  64]\n",
      " [139 154]]\n"
     ]
    }
   ],
   "source": [
    "array1 = np.array([[1,2,3], [4,5,6]])\n",
    "array2 = np.array([[7,8], [9,10], [11,12]])\n",
    "\n",
    "print(np.dot(array1, array2))\n",
    "print(array1.dot(array2))"
   ]
  },
  {
   "cell_type": "markdown",
   "metadata": {},
   "source": [
    "## 2. 전치 행렬\n",
    "\n",
    "array의 전치 행렬은 그 행렬을 대각선을 기준으로 하여 뒤집어 나온 값입니다. (대각선은 오른쪽 상단에서 왼쪽 하단의 모양입니다.)\n",
    "\n",
    "사용법은 다음과 같습니다.\n",
    "\n",
    "1. np.transpose(행렬)\n",
    "2. 행렬.transpose()\n",
    "\n",
    "1번의 경우는 원본에 영향을 주지 않고 결과값을 반환합니다.\n",
    "\n",
    "2번의 경우는 원본에 값이 변화됩니다.\n",
    "\n",
    "전치 행렬의 예는 다음과 같습니다.\n",
    "![](../assets/ndarray_transpose.png)\n",
    "<sub>(출처: 위키백과-전치행렬)</sub>"
   ]
  },
  {
   "cell_type": "code",
   "execution_count": 5,
   "metadata": {},
   "outputs": [
    {
     "name": "stdout",
     "output_type": "stream",
     "text": [
      "[[5 1 3]\n",
      " [2 6 4]]\n",
      "[[5 2]\n",
      " [1 6]\n",
      " [3 4]]\n",
      "[[5 2]\n",
      " [1 6]\n",
      " [3 4]]\n"
     ]
    }
   ],
   "source": [
    "print(array)\n",
    "\n",
    "trans_array = np.transpose(array) #전치행렬\n",
    "print(trans_array)\n",
    "\n",
    "test = array.transpose()\n",
    "print(test)"
   ]
  }
 ],
 "metadata": {
  "kernelspec": {
   "display_name": "Python 3",
   "language": "python",
   "name": "python3"
  },
  "language_info": {
   "codemirror_mode": {
    "name": "ipython",
    "version": 3
   },
   "file_extension": ".py",
   "mimetype": "text/x-python",
   "name": "python",
   "nbconvert_exporter": "python",
   "pygments_lexer": "ipython3",
   "version": "3.7.7"
  }
 },
 "nbformat": 4,
 "nbformat_minor": 4
}
