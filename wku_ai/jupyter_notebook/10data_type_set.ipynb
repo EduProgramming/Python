{
 "cells": [
  {
   "cell_type": "markdown",
   "metadata": {},
   "source": [
    "# Set, 집합"
   ]
  },
  {
   "cell_type": "markdown",
   "metadata": {},
   "source": [
    "집합에 관련된 데이터들을 쉽게 처리하기 위해 만들어진 자료형입니다.\n",
    "\n",
    "사용법은 2가지로 볼수 있습니다.\n",
    "\n",
    "- set()\n",
    "- {}\n",
    "\n",
    "집합은 딕셔너리와는 다르게 key값이 없고 값만 들어갑니다."
   ]
  },
  {
   "cell_type": "markdown",
   "metadata": {},
   "source": [
    "## 1. 집합의 특징\n",
    "\n",
    "1. 중복을 허용하지 않습니다.\n",
    "2. 순서가 없습니다. -> 인덱싱을 지원하지 않습니다.\n",
    "3. 수정 가능 객체(mutable)입니다.\n",
    "\n",
    "집합은 중복을 허용하지 않기에 중복을 제거하기 위해 iterable객체를 집합으로 변환한 후, 재변환을 하여 주로 사용하기도 합니다."
   ]
  },
  {
   "cell_type": "code",
   "execution_count": 1,
   "metadata": {},
   "outputs": [
    {
     "name": "stdout",
     "output_type": "stream",
     "text": [
      "<class 'set'>\n",
      "{1, 2, 3}\n",
      "{'l', 'o', 'e', 'h'}\n",
      "True\n",
      "False\n"
     ]
    }
   ],
   "source": [
    "# 집합 할당\n",
    "set_data = {1, 2, 3}\n",
    "print(type(set_data)) # <class 'set'>\n",
    "print(set_data) # {1, 2, 3}\n",
    "\n",
    "# 문자열 집합 변환\n",
    "set_data = set(\"hello\")\n",
    "print(set_data) # {'l', 'h', 'e', 'o'}\n",
    "\n",
    "# in 연산자 사용\n",
    "print('o' in set_data) # True\n",
    "print('w' in set_data) # False"
   ]
  },
  {
   "cell_type": "markdown",
   "metadata": {},
   "source": [
    "<sub>**주의]**</sub>\n",
    "<div style=\"border-left-style: solid;\n",
    "  border-left-color: coral;\n",
    "  padding-left: 10px;\">\n",
    "    <strong>집합 내부 원소는 mutable 할 수 없습니다.</strong><br />\n",
    "    집합 Set 내부 원소는 mutable할 경우 Error가 발생합니다.\n",
    "</div>"
   ]
  },
  {
   "cell_type": "code",
   "execution_count": 2,
   "metadata": {},
   "outputs": [
    {
     "ename": "TypeError",
     "evalue": "unhashable type: 'list'",
     "output_type": "error",
     "traceback": [
      "\u001b[1;31m---------------------------------------------------------------------------\u001b[0m",
      "\u001b[1;31mTypeError\u001b[0m                                 Traceback (most recent call last)",
      "\u001b[1;32m<ipython-input-2-7cb728bfa001>\u001b[0m in \u001b[0;36m<module>\u001b[1;34m\u001b[0m\n\u001b[0;32m      1\u001b[0m \u001b[1;31m# Mutable한 List\u001b[0m\u001b[1;33m\u001b[0m\u001b[1;33m\u001b[0m\u001b[1;33m\u001b[0m\u001b[0m\n\u001b[1;32m----> 2\u001b[1;33m \u001b[0mset_data\u001b[0m \u001b[1;33m=\u001b[0m \u001b[1;33m{\u001b[0m\u001b[1;36m1\u001b[0m\u001b[1;33m,\u001b[0m \u001b[1;36m2\u001b[0m\u001b[1;33m,\u001b[0m \u001b[1;36m3\u001b[0m\u001b[1;33m,\u001b[0m \u001b[1;33m[\u001b[0m\u001b[1;36m1\u001b[0m\u001b[1;33m,\u001b[0m\u001b[1;36m2\u001b[0m\u001b[1;33m,\u001b[0m\u001b[1;36m3\u001b[0m\u001b[1;33m]\u001b[0m\u001b[1;33m}\u001b[0m \u001b[1;31m# TypeError: unhashable type: 'list'\u001b[0m\u001b[1;33m\u001b[0m\u001b[1;33m\u001b[0m\u001b[0m\n\u001b[0m",
      "\u001b[1;31mTypeError\u001b[0m: unhashable type: 'list'"
     ]
    }
   ],
   "source": [
    "# Mutable한 List\n",
    "set_data = {1, 2, 3, [1,2,3]} # TypeError: unhashable type: 'list'"
   ]
  },
  {
   "cell_type": "code",
   "execution_count": 3,
   "metadata": {},
   "outputs": [
    {
     "ename": "TypeError",
     "evalue": "unhashable type: 'dict'",
     "output_type": "error",
     "traceback": [
      "\u001b[1;31m---------------------------------------------------------------------------\u001b[0m",
      "\u001b[1;31mTypeError\u001b[0m                                 Traceback (most recent call last)",
      "\u001b[1;32m<ipython-input-3-557019c0df70>\u001b[0m in \u001b[0;36m<module>\u001b[1;34m\u001b[0m\n\u001b[0;32m      1\u001b[0m \u001b[1;31m# Mutable한 Dictionary\u001b[0m\u001b[1;33m\u001b[0m\u001b[1;33m\u001b[0m\u001b[1;33m\u001b[0m\u001b[0m\n\u001b[1;32m----> 2\u001b[1;33m \u001b[0mset_data\u001b[0m \u001b[1;33m=\u001b[0m \u001b[1;33m{\u001b[0m\u001b[1;36m1\u001b[0m\u001b[1;33m,\u001b[0m \u001b[1;36m2\u001b[0m\u001b[1;33m,\u001b[0m \u001b[1;36m3\u001b[0m\u001b[1;33m,\u001b[0m \u001b[1;33m{\u001b[0m\u001b[1;34m\"key\"\u001b[0m\u001b[1;33m:\u001b[0m \u001b[1;34m\"value\"\u001b[0m\u001b[1;33m}\u001b[0m\u001b[1;33m}\u001b[0m \u001b[1;31m# TypeError: unhashable type: 'dict'\u001b[0m\u001b[1;33m\u001b[0m\u001b[1;33m\u001b[0m\u001b[0m\n\u001b[0m",
      "\u001b[1;31mTypeError\u001b[0m: unhashable type: 'dict'"
     ]
    }
   ],
   "source": [
    "# Mutable한 Dictionary\n",
    "set_data = {1, 2, 3, {\"key\": \"value\"}} # TypeError: unhashable type: 'dict'"
   ]
  },
  {
   "cell_type": "markdown",
   "metadata": {},
   "source": [
    "## 2. 집합 연산\n",
    "\n",
    "![](../assets/set_diagram.png)"
   ]
  },
  {
   "cell_type": "markdown",
   "metadata": {},
   "source": [
    "### - 1) 합집합"
   ]
  },
  {
   "cell_type": "code",
   "execution_count": 4,
   "metadata": {},
   "outputs": [
    {
     "name": "stdout",
     "output_type": "stream",
     "text": [
      "{1, 2, 3, 4, 5}\n",
      "{1, 2, 3, 4, 5}\n"
     ]
    }
   ],
   "source": [
    "# `|`\n",
    "print( {1, 2, 3} | {3, 4, 5} ) # {1, 2, 3, 4, 5}\n",
    "\n",
    "# `union 내장함수`\n",
    "print( {1, 2, 3}.union({3, 4, 5}) ) # {1, 2, 3, 4, 5}"
   ]
  },
  {
   "cell_type": "markdown",
   "metadata": {},
   "source": [
    "### - 2) 차집합"
   ]
  },
  {
   "cell_type": "code",
   "execution_count": 5,
   "metadata": {},
   "outputs": [
    {
     "name": "stdout",
     "output_type": "stream",
     "text": [
      "{1, 2}\n",
      "{1, 2}\n"
     ]
    }
   ],
   "source": [
    "# `-`\n",
    "print( {1, 2, 3} - {3, 4, 5} ) # {1, 2}\n",
    "\n",
    "# `difference 내장함수`\n",
    "print( {1, 2, 3}.difference({3, 4, 5}) ) # {1, 2}"
   ]
  },
  {
   "cell_type": "markdown",
   "metadata": {},
   "source": [
    "### - 3) 교집합"
   ]
  },
  {
   "cell_type": "code",
   "execution_count": 6,
   "metadata": {},
   "outputs": [
    {
     "name": "stdout",
     "output_type": "stream",
     "text": [
      "{3}\n",
      "{3}\n"
     ]
    }
   ],
   "source": [
    "# `&`\n",
    "print( {1, 2, 3} & {3, 4 ,5} ) # {3}\n",
    "\n",
    "# `intersection 내장함수`\n",
    "print( {1, 2, 3}.intersection({3, 4, 5})) # {3}"
   ]
  },
  {
   "cell_type": "markdown",
   "metadata": {},
   "source": [
    "### - 4) 대칭차집합\n",
    "\n",
    "대칭차집합 = 합집합 - 교집합"
   ]
  },
  {
   "cell_type": "code",
   "execution_count": 7,
   "metadata": {},
   "outputs": [
    {
     "name": "stdout",
     "output_type": "stream",
     "text": [
      "{1, 2, 4, 5}\n",
      "{1, 2, 4, 5}\n"
     ]
    }
   ],
   "source": [
    "# `^`\n",
    "print( {1, 2, 3} ^ {3, 4 ,5} ) # {1, 2, 4, 5}\n",
    "\n",
    "# `symmetric_difference 내장함수`\n",
    "print( {1, 2, 3}.symmetric_difference({3, 4, 5}) ) # {1, 2, 4, 5}"
   ]
  },
  {
   "cell_type": "markdown",
   "metadata": {},
   "source": [
    "## 3. 집합 관련 함수들"
   ]
  },
  {
   "cell_type": "markdown",
   "metadata": {},
   "source": [
    "### - 1) add, 추가하기"
   ]
  },
  {
   "cell_type": "code",
   "execution_count": 8,
   "metadata": {},
   "outputs": [
    {
     "name": "stdout",
     "output_type": "stream",
     "text": [
      "{'3', 1}\n"
     ]
    }
   ],
   "source": [
    "set_data = set() # 빈 집합 할당\n",
    "\n",
    "set_data.add(1)\n",
    "set_data.add('3')\n",
    "\n",
    "print(set_data) # {1, '3'}"
   ]
  },
  {
   "cell_type": "markdown",
   "metadata": {},
   "source": [
    "### - 2) update, 여러 개 추가하기"
   ]
  },
  {
   "cell_type": "code",
   "execution_count": 9,
   "metadata": {},
   "outputs": [
    {
     "name": "stdout",
     "output_type": "stream",
     "text": [
      "{1, 2, 5, '3'}\n"
     ]
    }
   ],
   "source": [
    "set_data = {1, '3'}\n",
    "add_set_data = set([2, '3', 1, 5])\n",
    "\n",
    "set_data.update(add_set_data)\n",
    "\n",
    "print(set_data) # {1, 2, '3', 5}"
   ]
  },
  {
   "cell_type": "markdown",
   "metadata": {},
   "source": [
    "### - 3) remove, 특정 값 제거하기"
   ]
  },
  {
   "cell_type": "code",
   "execution_count": 10,
   "metadata": {},
   "outputs": [
    {
     "name": "stdout",
     "output_type": "stream",
     "text": [
      "{1, 2, 5}\n"
     ]
    }
   ],
   "source": [
    "set_data = {1, 2, '3', 5}\n",
    "\n",
    "set_data.remove('3')\n",
    "\n",
    "print(set_data) # {1, 2, 5}"
   ]
  },
  {
   "cell_type": "markdown",
   "metadata": {},
   "source": [
    "### - 4) issubset\n",
    "\n",
    "부분집합 여부 확인\n",
    "\n",
    "`집합1.issubset(집합2)`으로 사용합니다.\n",
    "\n",
    "여기서 집합1이 집합2의 부분집합이라면 `True`, 아니라면 `False`를 반환합니다."
   ]
  },
  {
   "cell_type": "code",
   "execution_count": 11,
   "metadata": {},
   "outputs": [
    {
     "name": "stdout",
     "output_type": "stream",
     "text": [
      "False\n",
      "True\n"
     ]
    }
   ],
   "source": [
    "large_set = {1, 2, 3, 4, 5}\n",
    "small_set = {1, 2, 4}\n",
    "\n",
    "print(large_set.issubset(small_set)) # False\n",
    "print(small_set.issubset(large_set)) # True"
   ]
  },
  {
   "cell_type": "markdown",
   "metadata": {},
   "source": [
    "### - 5) issuperset\n",
    "\n",
    "issubset과는 반대의 의미를 가집니다.\n",
    "\n",
    "`집합1.issuperset(집합2)`로 사용합니다.\n",
    "\n",
    "여기서 집합1이 집합2를 포함하고 있는 관계라면(=집합2가 집합1의 부분집합) `True`, 아니라면 `False`를 반환합니다."
   ]
  },
  {
   "cell_type": "code",
   "execution_count": 12,
   "metadata": {},
   "outputs": [
    {
     "name": "stdout",
     "output_type": "stream",
     "text": [
      "True\n",
      "False\n"
     ]
    }
   ],
   "source": [
    "large_set = {1, 2, 3, 4 ,5}\n",
    "small_set = {1, 2, 4}\n",
    "\n",
    "print(large_set.issuperset(small_set)) # True\n",
    "print(small_set.issuperset(large_set)) # False"
   ]
  },
  {
   "cell_type": "markdown",
   "metadata": {},
   "source": [
    "### - 6) isdisjoint\n",
    "\n",
    "교집합이 없다면 `True`, 있다면 `False`를 반환합니다."
   ]
  },
  {
   "cell_type": "code",
   "execution_count": 13,
   "metadata": {},
   "outputs": [
    {
     "name": "stdout",
     "output_type": "stream",
     "text": [
      "False\n",
      "False\n",
      "True\n",
      "True\n"
     ]
    }
   ],
   "source": [
    "set_a_data = {1, 2, 3, 4 ,5}\n",
    "set_b_data = {4, 7, 9}\n",
    "set_c_data = {7, 9}\n",
    "\n",
    "print(set_a_data.isdisjoint(set_b_data)) # False\n",
    "print(set_b_data.isdisjoint(set_a_data)) # False\n",
    "\n",
    "print(set_a_data.isdisjoint(set_c_data)) # True\n",
    "print(set_c_data.isdisjoint(set_a_data)) # True"
   ]
  }
 ],
 "metadata": {
  "kernelspec": {
   "display_name": "Python 3",
   "language": "python",
   "name": "python3"
  },
  "language_info": {
   "codemirror_mode": {
    "name": "ipython",
    "version": 3
   },
   "file_extension": ".py",
   "mimetype": "text/x-python",
   "name": "python",
   "nbconvert_exporter": "python",
   "pygments_lexer": "ipython3",
   "version": "3.7.7"
  }
 },
 "nbformat": 4,
 "nbformat_minor": 4
}
