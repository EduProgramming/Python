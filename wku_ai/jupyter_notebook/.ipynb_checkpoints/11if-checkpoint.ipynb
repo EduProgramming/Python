{
 "cells": [
  {
   "cell_type": "markdown",
   "metadata": {},
   "source": [
    "# 가정문 if"
   ]
  },
  {
   "cell_type": "markdown",
   "metadata": {},
   "source": [
    "![](../assets/if_fork_road.png)"
   ]
  },
  {
   "cell_type": "markdown",
   "metadata": {},
   "source": [
    "우리는 선택의 기로에 놓일 때가 있습니다.\n",
    "\n",
    "이럴때 A를 선택하면 B를 진행하지 못하게 될 때가 있죠.\n",
    "\n",
    "컴퓨터에게도 이러한 상황을 주어주기 위해서는 가정문이 필요합니다.\n",
    "\n",
    "Python에서 가정문은 `if`을 사용합니다."
   ]
  },
  {
   "cell_type": "markdown",
   "metadata": {},
   "source": [
    "## Intent, 들여쓰기\n",
    "파이썬에서 구문의 영역을 지정할 때는 들여쓰기를 사용합니다. \n",
    "\n",
    "언어에서 시작점과 끝점이 있습니다.\n",
    "\n",
    "파이썬에서 시작점과 끝점을 구별하는 방식은 들여쓰기를 통해서 진행합니다.\n",
    "\n",
    "파이썬에서 들여쓰기는 PEP8에서 `space 4번`을 기준으로 합니다."
   ]
  },
  {
   "cell_type": "markdown",
   "metadata": {},
   "source": [
    "예를 들어, 지금 배우는 가정문으로 보겠습니다."
   ]
  },
  {
   "cell_type": "markdown",
   "metadata": {},
   "source": [
    "<sub>**참고] input**</sub>\n",
    "<div style=\"border-left-style: solid;\n",
    "  border-left-color: coral;\n",
    "  padding-left: 10px;\">\n",
    "    <strong>input함수를 통해서 값을 입력받을 수 있습니다.</strong><br />\n",
    "</div>"
   ]
  },
  {
   "cell_type": "code",
   "execution_count": 1,
   "metadata": {},
   "outputs": [
    {
     "name": "stdout",
     "output_type": "stream",
     "text": [
      "if_data값 입력해주세요.str\n",
      "if_data의 값은: str로 타입은 <class 'str'>입니다.\n"
     ]
    }
   ],
   "source": [
    "if_data = input(\"if_data값 입력해주세요.\")\n",
    "\n",
    "if (if_data):\n",
    "    print(f\"if_data의 값은: {if_data}로 타입은 {type(if_data)}입니다.\")"
   ]
  },
  {
   "cell_type": "markdown",
   "metadata": {},
   "source": [
    "## if ~ else문\n",
    "\n",
    "```python\n",
    "if 조건문:\n",
    "    수행 문장A\n",
    "else:\n",
    "    수행 문장B\n",
    "```"
   ]
  },
  {
   "cell_type": "code",
   "execution_count": 2,
   "metadata": {},
   "outputs": [
    {
     "name": "stdout",
     "output_type": "stream",
     "text": [
      "if_data값 입력해주세요.Falsy\n",
      "True값\n"
     ]
    }
   ],
   "source": [
    "if_data = input(\"if_data값 입력해주세요.\")\n",
    "\n",
    "if (if_data):\n",
    "    print(\"True값\")\n",
    "else:\n",
    "    print(\"False값\")"
   ]
  },
  {
   "cell_type": "markdown",
   "metadata": {},
   "source": [
    "## if ~ elif ~ else문\n",
    "\n",
    "조건에는 2가지의 경우가 아닌 다양한 경우가 존재할 수 있습니다.\n",
    "\n",
    "이럴때 우리는 `elif`를 사용하여 각 조건들을 추가해줄수 있습니다.\n",
    "\n",
    "```python\n",
    "if 조건문1:\n",
    "    수행 문장A\n",
    "elif 조건문2:\n",
    "    수행 문장B\n",
    "elif 조건문3:\n",
    "    수행 문장C\n",
    "else:\n",
    "    수행 문장D\n",
    "```"
   ]
  },
  {
   "cell_type": "code",
   "execution_count": 3,
   "metadata": {},
   "outputs": [
    {
     "name": "stdout",
     "output_type": "stream",
     "text": [
      "C+\n"
     ]
    }
   ],
   "source": [
    "score = 78\n",
    "\n",
    "if score >= 95:\n",
    "    print(\"A+\")\n",
    "elif score >= 90:\n",
    "    print(\"A\")\n",
    "elif score >= 85:\n",
    "    print(\"B+\")\n",
    "elif score >= 80:\n",
    "    print(\"B\")\n",
    "elif score >= 75:\n",
    "    print(\"C+\")\n",
    "elif score >= 70:\n",
    "    print(\"C\")\n",
    "elif score >= 65:\n",
    "    print(\"D+\")\n",
    "elif score >= 60:\n",
    "    print(\"D\")\n",
    "else:\n",
    "    print(\"F\")"
   ]
  },
  {
   "cell_type": "markdown",
   "metadata": {},
   "source": [
    "위의 내용을 2중 if문을 통해서 나타내는 동시에 우리가 배웠던 내용들을 이용해보겠습니다."
   ]
  },
  {
   "cell_type": "code",
   "execution_count": 4,
   "metadata": {},
   "outputs": [
    {
     "name": "stdout",
     "output_type": "stream",
     "text": [
      "정수형 숫자만 입력 가능합니다.78\n",
      "C+\n"
     ]
    }
   ],
   "source": [
    "score = int(input(\"정수형 숫자만 입력 가능합니다.\"))\n",
    "scores = \"ABCDF\"\n",
    "result = \"\"\n",
    "\n",
    "if score >= 90:\n",
    "    result = scores[0]\n",
    "    if score >= 95:\n",
    "        result += \"+\"\n",
    "elif score >= 80:\n",
    "    result = scores[1]\n",
    "    if score >= 85:\n",
    "        result += \"+\"\n",
    "elif score >= 70:\n",
    "    result = scores[2]\n",
    "    if score >= 75:\n",
    "        result += \"+\"\n",
    "elif score >= 60:\n",
    "    result = scores[3]\n",
    "    if score >= 60:\n",
    "        result += \"+\"\n",
    "else:\n",
    "    result = scores[-1]\n",
    "\n",
    "print(result)"
   ]
  },
  {
   "cell_type": "markdown",
   "metadata": {},
   "source": [
    "<sub>**참고] pass**</sub>\n",
    "<div style=\"border-left-style: solid;\n",
    "  border-left-color: coral;\n",
    "  padding-left: 10px;\">\n",
    "    <strong>pass는 조건문 안에 들어왔는데 아무것도 하지 않을 때 사용합니다.</strong><br />\n",
    "    조건문에 들어왔지만 아무것도 하게 하면 안될 때 pass를 사용하여 수행하지 않고 넘어갈 수 있습니다.\n",
    "</div>"
   ]
  },
  {
   "cell_type": "code",
   "execution_count": 5,
   "metadata": {},
   "outputs": [
    {
     "name": "stdout",
     "output_type": "stream",
     "text": [
      "내셔야할 돈은 1000원 입니다.\n",
      "내셔야할 돈은 1500원 입니다.\n",
      "내셔야할 돈은 500원 입니다.\n"
     ]
    }
   ],
   "source": [
    "money = ['1000', '1500', '0', '500']\n",
    "\n",
    "for m in money:\n",
    "    if m == '0':\n",
    "        pass\n",
    "    else:\n",
    "        print(f\"내셔야할 돈은 {m}원 입니다.\")"
   ]
  },
  {
   "cell_type": "markdown",
   "metadata": {},
   "source": [
    "### 🛎️실습1\n",
    "\n",
    "혈액형이 들어가있는 `blood`변수가 있습니다. 전산에 오류가 있었는지 혈액형 하나가 비어있었습니다. 없는 혈액형을 추가하는 가정문을 작성하여주세요. (문제의 예시로는 O형이 없는 형태로 작성하였습니다.)"
   ]
  },
  {
   "cell_type": "code",
   "execution_count": 6,
   "metadata": {},
   "outputs": [
    {
     "name": "stdout",
     "output_type": "stream",
     "text": [
      "O형 추가\n",
      "['A', 'B', 'AB', 'O']\n"
     ]
    }
   ],
   "source": [
    "blood = ['A', 'B', 'AB']\n",
    "\n",
    "if 'A' not in blood:\n",
    "    blood.append('A')\n",
    "    print(\"A형 추가\")\n",
    "elif 'B' not in blood:\n",
    "    blood.append('B')\n",
    "    print(\"B형 추가\")\n",
    "elif 'AB' not in blood:\n",
    "    blood.append('AB')\n",
    "    print(\"AB형 추가\")\n",
    "else:\n",
    "    blood.append('O')\n",
    "    print(\"O형 추가\")\n",
    "    \n",
    "print(blood) # ['A', 'B', 'AB', 'O']"
   ]
  },
  {
   "cell_type": "markdown",
   "metadata": {},
   "source": [
    "## 삼항 연산자\n",
    "\n",
    "if~else문을 사용할 때, 간단한 수행문이라면 한 줄로 처리할 수 있습니다.\n",
    "\n",
    "`변수 = 참일경우 값 if 조건문 else 거짓경우 값`으로 사용하면 됩니다."
   ]
  },
  {
   "cell_type": "code",
   "execution_count": 7,
   "metadata": {},
   "outputs": [
    {
     "name": "stdout",
     "output_type": "stream",
     "text": [
      "거짓\n",
      "거짓\n"
     ]
    }
   ],
   "source": [
    "# if~else문\n",
    "value = \"\"\n",
    "if 3 > 5:\n",
    "    value = \"참\"\n",
    "else:\n",
    "    value = \"거짓\"\n",
    "print(value) # 거짓\n",
    "\n",
    "# 삼항 연산자\n",
    "value = \"참\" if 3 > 5 else \"거짓\"\n",
    "\n",
    "print(value) # 거짓"
   ]
  }
 ],
 "metadata": {
  "kernelspec": {
   "display_name": "Python 3",
   "language": "python",
   "name": "python3"
  },
  "language_info": {
   "codemirror_mode": {
    "name": "ipython",
    "version": 3
   },
   "file_extension": ".py",
   "mimetype": "text/x-python",
   "name": "python",
   "nbconvert_exporter": "python",
   "pygments_lexer": "ipython3",
   "version": "3.7.7"
  }
 },
 "nbformat": 4,
 "nbformat_minor": 4
}
