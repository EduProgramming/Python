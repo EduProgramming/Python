{
 "cells": [
  {
   "cell_type": "markdown",
   "metadata": {},
   "source": [
    "# ndarray\n",
    "\n",
    ": N차원 배열 객체, N-Dimensional Array\n",
    "\n",
    "Numpy에서 ndarray 선형대수 연산, 다양한 집합 연산 지원"
   ]
  },
  {
   "cell_type": "code",
   "execution_count": 1,
   "metadata": {},
   "outputs": [],
   "source": [
    "import numpy as np\n",
    "\n",
    "list_data1 = [1,2,3]\n",
    "list_data2 = [[1,2,3], [2,3,4]]\n",
    "\n",
    "# array함수\n",
    "array1 = np.array(list_data1)\n",
    "array2 = np.array(list_data2)"
   ]
  },
  {
   "cell_type": "code",
   "execution_count": 2,
   "metadata": {},
   "outputs": [
    {
     "name": "stdout",
     "output_type": "stream",
     "text": [
      "[1 2 3]\n",
      "<class 'numpy.ndarray'>\n",
      "[1 2 3]\n",
      "<class 'numpy.ndarray'>\n"
     ]
    }
   ],
   "source": [
    "# 1차원 ndarray\n",
    "print(array1)\n",
    "print(type(array1))\n",
    "\n",
    "# array함수 인자에 ndarray 입력\n",
    "print(np.array(array1))\n",
    "print(type(np.array(array1)))"
   ]
  },
  {
   "cell_type": "code",
   "execution_count": 3,
   "metadata": {},
   "outputs": [
    {
     "name": "stdout",
     "output_type": "stream",
     "text": [
      "[[1 2 3]\n",
      " [2 3 4]]\n",
      "<class 'numpy.ndarray'>\n",
      "[[1 2 3]\n",
      " [2 3 4]]\n",
      "<class 'numpy.ndarray'>\n"
     ]
    }
   ],
   "source": [
    "# 2차원 ndarray\n",
    "print(array2)\n",
    "print(type(array2))\n",
    "\n",
    "# array함수 인자에 ndarray 입력\n",
    "print(np.array(array2))\n",
    "print(type(np.array(array2)))"
   ]
  },
  {
   "cell_type": "code",
   "execution_count": 4,
   "metadata": {},
   "outputs": [
    {
     "name": "stdout",
     "output_type": "stream",
     "text": [
      "1\n",
      "(3,)\n",
      "2\n",
      "(2, 3)\n"
     ]
    }
   ],
   "source": [
    "# 차원과 shape\n",
    "\"\"\"\n",
    "차원은 ndarray.ndim을 통해 확일할 수 있으며,\n",
    "shape은 ndarray.shape를 통해 확인할 수 있습니다.\n",
    "\"\"\"\n",
    "print(array1.ndim)\n",
    "print(array1.shape)\n",
    "\n",
    "print(array2.ndim)\n",
    "print(array2.shape)"
   ]
  },
  {
   "cell_type": "code",
   "execution_count": 5,
   "metadata": {},
   "outputs": [
    {
     "name": "stdout",
     "output_type": "stream",
     "text": [
      "[list([1, 2]) list([4, 5, 6])]\n",
      "1\n",
      "(2,)\n"
     ]
    }
   ],
   "source": [
    "test_list = [[1,2], [4,5,6]]\n",
    "test_array = np.array(test_list)\n",
    "\n",
    "print(test_array)\n",
    "print(test_array.ndim)\n",
    "print(test_array.shape)"
   ]
  },
  {
   "cell_type": "code",
   "execution_count": 6,
   "metadata": {},
   "outputs": [
    {
     "name": "stdout",
     "output_type": "stream",
     "text": [
      "[1, 2]\n",
      "[4, 5, 6]\n"
     ]
    }
   ],
   "source": [
    "print(test_array[0])\n",
    "print(test_array[1])"
   ]
  },
  {
   "cell_type": "code",
   "execution_count": 7,
   "metadata": {},
   "outputs": [
    {
     "name": "stdout",
     "output_type": "stream",
     "text": [
      "[[1 2 3]]\n",
      "Shape: (1, 3)\n",
      "차원: 2차원\n"
     ]
    }
   ],
   "source": [
    "list_data = [[1,2,3]]\n",
    "array_data = np.array(list_data)\n",
    "print(array_data)\n",
    "print(f'Shape: {array_data.shape}')\n",
    "print(f'차원: {array_data.ndim}차원')"
   ]
  },
  {
   "cell_type": "markdown",
   "metadata": {},
   "source": [
    "## 1. type\n",
    "\n",
    "ndarray 내의 데이터 값은 Number, String, Bool 자료형 등 모두 가능합니다.\n",
    "\n",
    "숫자형의 경우 int(8bit, 16bit, 32bit), unsigned int(8bit, 16bit, 32bit), float형(16bit, 32bit, 64bit, 128bit), 더 큰 숫자값이나 정밀도를 위한 commplex 타입도 제공하고 있습니다."
   ]
  },
  {
   "cell_type": "code",
   "execution_count": 8,
   "metadata": {},
   "outputs": [
    {
     "name": "stdout",
     "output_type": "stream",
     "text": [
      "['문자열' '데이터' '확인']\n"
     ]
    }
   ],
   "source": [
    "list_data = [\"문자열\", \"데이터\", \"확인\"]\n",
    "\n",
    "print(np.array(list_data))"
   ]
  },
  {
   "cell_type": "code",
   "execution_count": 9,
   "metadata": {},
   "outputs": [
    {
     "name": "stdout",
     "output_type": "stream",
     "text": [
      "['문자열' '123' '확인']\n"
     ]
    }
   ],
   "source": [
    "list_data = [\"문자열\", 123, \"확인\"]\n",
    "\n",
    "print(np.array(list_data))"
   ]
  },
  {
   "cell_type": "code",
   "execution_count": 10,
   "metadata": {},
   "outputs": [
    {
     "name": "stdout",
     "output_type": "stream",
     "text": [
      "[  0.5 123.   10.6]\n"
     ]
    }
   ],
   "source": [
    "list_data = [0.5, 123, 10.6]\n",
    "\n",
    "print(np.array(list_data))"
   ]
  },
  {
   "cell_type": "markdown",
   "metadata": {},
   "source": [
    "### dtype\n",
    "\n",
    "`ndarray.dtype`을 통해 ndarray의 데이터 타입을 확인할 수 있습니다."
   ]
  },
  {
   "cell_type": "code",
   "execution_count": 11,
   "metadata": {},
   "outputs": [
    {
     "name": "stdout",
     "output_type": "stream",
     "text": [
      "[[1 2 3]\n",
      " [2 3 4]]\n",
      "int32\n"
     ]
    }
   ],
   "source": [
    "# ndarray.dtype - ndarray 내의 데이터 타입 확인\n",
    "list_data = [[1,2,3], [2,3,4]]\n",
    "array_data = np.array(list_data)\n",
    "\n",
    "print(array_data)\n",
    "print(array_data.dtype) # int32"
   ]
  },
  {
   "cell_type": "markdown",
   "metadata": {},
   "source": [
    "### astype()\n",
    "\n",
    "`ndarray.astype()`"
   ]
  },
  {
   "cell_type": "code",
   "execution_count": 12,
   "metadata": {},
   "outputs": [
    {
     "name": "stdout",
     "output_type": "stream",
     "text": [
      "type: int32\n",
      "type: float64\n",
      "type: int32\n",
      "type: float64\n",
      "[1.3 2.6 3.3]\n",
      "type: int32\n",
      "[1 2 3]\n"
     ]
    }
   ],
   "source": [
    "array_int_data = np.array([1,2,3])\n",
    "print(f'type: {array_int_data.dtype}')\n",
    "array_float_data = array_int_data.astype('float64')\n",
    "print(f'type: {array_float_data.dtype}')\n",
    "\n",
    "array_int_data = array_float_data.astype('int32')\n",
    "print(f'type: {array_int_data.dtype}')\n",
    "\n",
    "array_float_data = np.array([1.3, 2.6, 3.3])\n",
    "print(f'type: {array_float_data.dtype}')\n",
    "print(array_float_data)\n",
    "\n",
    "array_int_data = array_float_data.astype('int32')\n",
    "print(f'type: {array_int_data.dtype}')\n",
    "print(array_int_data)"
   ]
  },
  {
   "cell_type": "markdown",
   "metadata": {},
   "source": [
    "## 2. axis 축\n",
    "\n",
    "ndarry는 행열의 개념이 아닌 axis0, axis1, axis2인 axis단위로 부여됩니다.\n",
    "\n",
    "> **1차원 배열**일 때,\n",
    "> - axis0 : 열방향\n",
    "\n",
    "> **2차원 배열**일 때,\n",
    "> - axis0 : 행방향\n",
    "> - axis1 : 열방향"
   ]
  },
  {
   "cell_type": "markdown",
   "metadata": {},
   "source": [
    "![](../assets/narray.png)"
   ]
  },
  {
   "cell_type": "markdown",
   "metadata": {},
   "source": [
    "## 3. sum"
   ]
  },
  {
   "cell_type": "code",
   "execution_count": 13,
   "metadata": {},
   "outputs": [
    {
     "name": "stdout",
     "output_type": "stream",
     "text": [
      "21\n",
      "[5 7 9]\n",
      "[ 6 15]\n"
     ]
    }
   ],
   "source": [
    "array_data = np.array([[1,2,3], [4,5,6]])\n",
    "\n",
    "print(array_data.sum()) # 각 요소의 총합\n",
    "print(array_data.sum(axis=0)) # ↓행방향의 총합\n",
    "print(array_data.sum(axis=1)) # →열방향의 총합"
   ]
  },
  {
   "cell_type": "markdown",
   "metadata": {},
   "source": [
    "## 4. 초기값 생성\n",
    "\n",
    "ndarray를 편리하게 생성하는 방법으로 `arange(), zeros(), ones()`함수를 사용할 수 있습니다.\n",
    "\n",
    "위의 3가지 초기값을 생성하는 방법은 주로 테스트용으로 데이터를 생성하거나, 대규모의 데이터를 일괄적으로 초기화해야할 경우에 사용됩니다.\n",
    "\n",
    "1. arange\n",
    ": arange의 경우에는 우리가 파이썬에서 사용했던 range와 동일하다고 생각하시면 됩니다."
   ]
  },
  {
   "cell_type": "code",
   "execution_count": 14,
   "metadata": {},
   "outputs": [
    {
     "name": "stdout",
     "output_type": "stream",
     "text": [
      "[0 1 2 3 4 5 6 7 8 9]\n",
      "[1 2 3 4 5 6 7 8 9]\n",
      "[1 3 5 7 9]\n"
     ]
    }
   ],
   "source": [
    "array_data = np.arange(10)\n",
    "print(array_data)\n",
    "\n",
    "array_data = np.arange(1, 10)\n",
    "print(array_data)\n",
    "\n",
    "array_data = np.arange(1, 10, 2)\n",
    "print(array_data)"
   ]
  },
  {
   "cell_type": "markdown",
   "metadata": {},
   "source": [
    "2. zeros\n",
    "\n",
    ": 정해진 shape로 배열의 내부에 값을 0으로 초기값을 생성합니다."
   ]
  },
  {
   "cell_type": "code",
   "execution_count": 15,
   "metadata": {},
   "outputs": [
    {
     "name": "stdout",
     "output_type": "stream",
     "text": [
      "[0 0 0]\n",
      "(3,)\n",
      "1\n",
      "[[0 0 0 0 0]\n",
      " [0 0 0 0 0]\n",
      " [0 0 0 0 0]]\n",
      "(3, 5)\n",
      "2\n",
      "float64\n",
      "[[[0. 0.]\n",
      "  [0. 0.]\n",
      "  [0. 0.]]\n",
      "\n",
      " [[0. 0.]\n",
      "  [0. 0.]\n",
      "  [0. 0.]]\n",
      "\n",
      " [[0. 0.]\n",
      "  [0. 0.]\n",
      "  [0. 0.]]]\n",
      "(3, 3, 2)\n",
      "3\n"
     ]
    }
   ],
   "source": [
    "# 1차원 배열\n",
    "zero_array = np.zeros(3, dtype='int32')\n",
    "print(zero_array)\n",
    "print(zero_array.shape)\n",
    "print(zero_array.ndim)\n",
    "\n",
    "# 2차원 배열\n",
    "zero_array = np.zeros((3, 5), dtype='int32')\n",
    "print(zero_array)\n",
    "print(zero_array.shape)\n",
    "print(zero_array.ndim)\n",
    "\n",
    "# 3차원 배열\n",
    "zero_array = np.zeros((3, 3, 2))\n",
    "print(zero_array.dtype)\n",
    "print(zero_array)\n",
    "print(zero_array.shape)\n",
    "print(zero_array.ndim)"
   ]
  },
  {
   "cell_type": "markdown",
   "metadata": {},
   "source": [
    "3. ones\n",
    ": 정해진 shape로 배열의 내부에 값을 1로 초기값을 생성합니다."
   ]
  },
  {
   "cell_type": "code",
   "execution_count": 16,
   "metadata": {},
   "outputs": [
    {
     "name": "stdout",
     "output_type": "stream",
     "text": [
      "float64\n",
      "[1. 1. 1.]\n",
      "(3,)\n",
      "1\n",
      "[[0. 0. 0. 0. 0.]\n",
      " [0. 0. 0. 0. 0.]\n",
      " [0. 0. 0. 0. 0.]]\n",
      "(3, 5)\n",
      "2\n",
      "[[[0. 0.]\n",
      "  [0. 0.]\n",
      "  [0. 0.]]\n",
      "\n",
      " [[0. 0.]\n",
      "  [0. 0.]\n",
      "  [0. 0.]]\n",
      "\n",
      " [[0. 0.]\n",
      "  [0. 0.]\n",
      "  [0. 0.]]]\n",
      "(3, 3, 2)\n",
      "3\n"
     ]
    }
   ],
   "source": [
    "# 1차원 배열\n",
    "ones_array = np.ones(3)\n",
    "print(zero_array.dtype)\n",
    "print(ones_array)\n",
    "print(ones_array.shape)\n",
    "print(ones_array.ndim)\n",
    "\n",
    "# 2차원 배열\n",
    "ones_array = np.zeros((3, 5))\n",
    "print(ones_array)\n",
    "print(ones_array.shape)\n",
    "print(ones_array.ndim)\n",
    "\n",
    "# 3차원 배열\n",
    "ones_array = np.zeros((3, 3, 2))\n",
    "print(ones_array)\n",
    "print(ones_array.shape)\n",
    "print(ones_array.ndim)"
   ]
  },
  {
   "cell_type": "markdown",
   "metadata": {},
   "source": [
    "## 6. reshape\n",
    "\n",
    "reshape()는 ndarray의 형태를 변환합니다."
   ]
  },
  {
   "cell_type": "code",
   "execution_count": 17,
   "metadata": {},
   "outputs": [
    {
     "name": "stdout",
     "output_type": "stream",
     "text": [
      "[0 1 2 3 4 5 6 7 8 9]\n",
      "[[0 1 2 3 4]\n",
      " [5 6 7 8 9]]\n",
      "Shape: (2, 5)\n"
     ]
    },
    {
     "ename": "ValueError",
     "evalue": "cannot reshape array of size 10 into shape (3,3)",
     "output_type": "error",
     "traceback": [
      "\u001b[1;31m---------------------------------------------------------------------------\u001b[0m",
      "\u001b[1;31mValueError\u001b[0m                                Traceback (most recent call last)",
      "\u001b[1;32m<ipython-input-17-cc44c6a2404b>\u001b[0m in \u001b[0;36m<module>\u001b[1;34m\u001b[0m\n\u001b[0;32m      7\u001b[0m \u001b[0mprint\u001b[0m\u001b[1;33m(\u001b[0m\u001b[1;34mf'Shape: {trans_array_data.shape}'\u001b[0m\u001b[1;33m)\u001b[0m\u001b[1;33m\u001b[0m\u001b[1;33m\u001b[0m\u001b[0m\n\u001b[0;32m      8\u001b[0m \u001b[1;33m\u001b[0m\u001b[0m\n\u001b[1;32m----> 9\u001b[1;33m \u001b[0mprint\u001b[0m\u001b[1;33m(\u001b[0m\u001b[0mtrans_array_data\u001b[0m\u001b[1;33m.\u001b[0m\u001b[0mreshape\u001b[0m\u001b[1;33m(\u001b[0m\u001b[1;36m3\u001b[0m\u001b[1;33m,\u001b[0m\u001b[1;36m3\u001b[0m\u001b[1;33m)\u001b[0m\u001b[1;33m)\u001b[0m \u001b[1;31m# ValueError: cannot reshape array of size 10 into shape (3,3)\u001b[0m\u001b[1;33m\u001b[0m\u001b[1;33m\u001b[0m\u001b[0m\n\u001b[0m",
      "\u001b[1;31mValueError\u001b[0m: cannot reshape array of size 10 into shape (3,3)"
     ]
    }
   ],
   "source": [
    "array_data = np.arange(10)\n",
    "print(array_data)\n",
    "\n",
    "# reshape\n",
    "trans_array_data = array_data.reshape(2, 5)\n",
    "print(trans_array_data)\n",
    "print(f'Shape: {trans_array_data.shape}')\n",
    "\n",
    "print(trans_array_data.reshape(3,3)) # ValueError: cannot reshape array of size 10 into shape (3,3)"
   ]
  },
  {
   "cell_type": "code",
   "execution_count": 18,
   "metadata": {},
   "outputs": [
    {
     "name": "stdout",
     "output_type": "stream",
     "text": [
      "[[0 1]\n",
      " [2 3]\n",
      " [4 5]\n",
      " [6 7]\n",
      " [8 9]]\n"
     ]
    }
   ],
   "source": [
    "print(trans_array_data.reshape(5,2))"
   ]
  },
  {
   "cell_type": "markdown",
   "metadata": {},
   "source": [
    "**axis=-1**\n",
    "\n",
    "우리는 axis인자에 -1을 줌으로써 변형에 대해서 다소 자유로워질 수 있습니다."
   ]
  },
  {
   "cell_type": "code",
   "execution_count": 19,
   "metadata": {},
   "outputs": [
    {
     "name": "stdout",
     "output_type": "stream",
     "text": [
      "[1 2 3 4 5 6 7 8 9]\n",
      "Shape: (9,)\n",
      "[[1 2 3]\n",
      " [4 5 6]\n",
      " [7 8 9]]\n",
      "Shape: (3, 3)\n"
     ]
    }
   ],
   "source": [
    "# 1차원 리스트를 2차원 리스트로 변환 - 가변인자 사용\n",
    "data_list = list(range(1, 10))\n",
    "data_array = np.array(data_list)\n",
    "\n",
    "print(data_array)\n",
    "print(f'Shape: {data_array.shape}')\n",
    "\n",
    "reshape_array = data_array.reshape(-1, 3)\n",
    "print(reshape_array)\n",
    "print(f'Shape: {reshape_array.shape}')"
   ]
  },
  {
   "cell_type": "code",
   "execution_count": 20,
   "metadata": {},
   "outputs": [
    {
     "name": "stdout",
     "output_type": "stream",
     "text": [
      "[1 3 5 7 9]\n",
      "Shape: (5,)\n",
      "(5, 1)\n",
      "(5,)\n"
     ]
    }
   ],
   "source": [
    "data_array = np.arange(1, 10, 2)\n",
    "print(data_array)\n",
    "print(f'Shape: {data_array.shape}')\n",
    "\n",
    "data_array1 = data_array.reshape(-1, 1)\n",
    "data_array2 = data_array.reshape(-1,)\n",
    "\n",
    "print(data_array1.shape)\n",
    "print(data_array2.shape)"
   ]
  },
  {
   "cell_type": "code",
   "execution_count": 21,
   "metadata": {},
   "outputs": [
    {
     "name": "stdout",
     "output_type": "stream",
     "text": [
      "[[1]\n",
      " [3]\n",
      " [5]\n",
      " [7]\n",
      " [9]]\n",
      "[1 3 5 7 9]\n"
     ]
    }
   ],
   "source": [
    "print(data_array1)\n",
    "print(data_array2)"
   ]
  }
 ],
 "metadata": {
  "kernelspec": {
   "display_name": "Python 3",
   "language": "python",
   "name": "python3"
  },
  "language_info": {
   "codemirror_mode": {
    "name": "ipython",
    "version": 3
   },
   "file_extension": ".py",
   "mimetype": "text/x-python",
   "name": "python",
   "nbconvert_exporter": "python",
   "pygments_lexer": "ipython3",
   "version": "3.7.7"
  }
 },
 "nbformat": 4,
 "nbformat_minor": 4
}
