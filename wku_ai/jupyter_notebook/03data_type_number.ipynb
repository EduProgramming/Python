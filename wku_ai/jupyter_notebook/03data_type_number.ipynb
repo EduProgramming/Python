{
 "cells": [
  {
   "cell_type": "markdown",
   "metadata": {},
   "source": [
    "# Data Type\n",
    "\n",
    "이번 시간에는 파이썬에서 주로 쓰는 데이터 타입들에 대해서 알아보겠습니다.\n",
    "\n",
    "파이썬은 모든 데이터가 객체로 이루어져 있습니다.\n",
    "\n",
    "**객체(Object)란, 어떠한 속성값과 행동을 가지고 있는 데이터**입니다.\n",
    "<hr/>"
   ]
  },
  {
   "cell_type": "markdown",
   "metadata": {},
   "source": [
    "## 숫자 타입\n",
    "\n",
    "숫자 타입에는 정수형(int), 실수형(float), 복소수(complex)가 있습니다.\n",
    "\n",
    "### 1. int, 정수형\n",
    "\n",
    "보통 Integer라고 말하는 정수형은 0, 음의 정수, 양의 정수 사용할 수 있습니다."
   ]
  },
  {
   "cell_type": "code",
   "execution_count": 1,
   "metadata": {},
   "outputs": [
    {
     "name": "stdout",
     "output_type": "stream",
     "text": [
      "5\n",
      "0\n",
      "-5\n"
     ]
    }
   ],
   "source": [
    "number = 5\n",
    "print(number)\n",
    "number = 0\n",
    "print(number)\n",
    "number = -5\n",
    "print(number)"
   ]
  },
  {
   "cell_type": "markdown",
   "metadata": {},
   "source": [
    "### 2. float, 실수형\n",
    "\n",
    "소수점의 값을 가질 수 있습니다. 0, 음의 실수, 양의 실수를 사용할 수 있습니다."
   ]
  },
  {
   "cell_type": "code",
   "execution_count": 2,
   "metadata": {},
   "outputs": [
    {
     "name": "stdout",
     "output_type": "stream",
     "text": [
      "3.0\n",
      "0.0\n",
      "-3.0\n"
     ]
    }
   ],
   "source": [
    "number = 3.0\n",
    "print(number)\n",
    "number = 0.0\n",
    "print(number)\n",
    "number = -3.0\n",
    "print(number)"
   ]
  },
  {
   "cell_type": "markdown",
   "metadata": {},
   "source": [
    "### 3. complex, 복소수형\n",
    "\n",
    "복소수를 사용하고자 할 때 사용합니다.\n",
    "(주로 사용은 하지 않으니, 이러한게 있다고 넘어가셔도 됩니다.)"
   ]
  },
  {
   "cell_type": "code",
   "execution_count": 3,
   "metadata": {},
   "outputs": [
    {
     "name": "stdout",
     "output_type": "stream",
     "text": [
      "(3+5j)\n"
     ]
    }
   ],
   "source": [
    "number = complex(3, 5)\n",
    "print(number)"
   ]
  },
  {
   "cell_type": "markdown",
   "metadata": {},
   "source": [
    "### 4. 2진수\n",
    "\n",
    "#### 1) 2진수 표현법\n",
    "\n",
    "2진수는`0b`를 이용하여 뒤에 값을 사용하면 됩니다.\n",
    "\n",
    "파이썬 숫자의 기본형은 10진수이기에 아래와 같이 표현해줄 때 결과값은 10진수의 값으로 나오게 됩니다."
   ]
  },
  {
   "cell_type": "code",
   "execution_count": 4,
   "metadata": {},
   "outputs": [
    {
     "name": "stdout",
     "output_type": "stream",
     "text": [
      "8\n"
     ]
    }
   ],
   "source": [
    "print(0b1000)"
   ]
  },
  {
   "cell_type": "markdown",
   "metadata": {},
   "source": [
    "#### 2) 10진수 -> 2진수 변환\n",
    "\n",
    "그렇다면 10진수의 값을 2진수로 표현해보도록 하겠습니다.\n",
    "파이썬에서 내장되어 있는 `bin()`함수를 사용하면 됩니다."
   ]
  },
  {
   "cell_type": "code",
   "execution_count": 5,
   "metadata": {},
   "outputs": [
    {
     "data": {
      "text/plain": [
       "'0b1000'"
      ]
     },
     "execution_count": 5,
     "metadata": {},
     "output_type": "execute_result"
    }
   ],
   "source": [
    "bin(8)"
   ]
  },
  {
   "cell_type": "markdown",
   "metadata": {},
   "source": [
    "#### 3) 2진수 -> 10진수 변환\n",
    "\n",
    "2진수에서 10진수로 표현하기 위해서는 `int()` 함수를 사용하면 됩니다."
   ]
  },
  {
   "cell_type": "code",
   "execution_count": 6,
   "metadata": {},
   "outputs": [
    {
     "data": {
      "text/plain": [
       "8"
      ]
     },
     "execution_count": 6,
     "metadata": {},
     "output_type": "execute_result"
    }
   ],
   "source": [
    "int(0b1000)"
   ]
  },
  {
   "cell_type": "markdown",
   "metadata": {},
   "source": [
    "### 5. 8진수\n",
    "\n",
    "#### 1) 8진수 표현법\n",
    "\n",
    "8진수는 '0o'를 이용하여 뒤에값을 사용하면 됩니다."
   ]
  },
  {
   "cell_type": "code",
   "execution_count": 7,
   "metadata": {},
   "outputs": [
    {
     "name": "stdout",
     "output_type": "stream",
     "text": [
      "63\n"
     ]
    }
   ],
   "source": [
    "print(0o77)"
   ]
  },
  {
   "cell_type": "markdown",
   "metadata": {},
   "source": [
    "#### 2) 10진수 -> 8진수 변환\n",
    "\n",
    "10진수의 값을 8진수로 표현해보도록 하겠습니다.\n",
    "\n",
    "파이썬에 내장되어 있는 `oct()`함수를 사용하면 됩니다."
   ]
  },
  {
   "cell_type": "code",
   "execution_count": 8,
   "metadata": {},
   "outputs": [
    {
     "data": {
      "text/plain": [
       "'0o77'"
      ]
     },
     "execution_count": 8,
     "metadata": {},
     "output_type": "execute_result"
    }
   ],
   "source": [
    "oct(63)"
   ]
  },
  {
   "cell_type": "markdown",
   "metadata": {},
   "source": [
    "#### 3) 8진수 -> 10진수 변환\n",
    "\n",
    "8진수에서 10진수로 표현하기 위해서는 `int()`함수를 사용하면 됩니다."
   ]
  },
  {
   "cell_type": "code",
   "execution_count": 9,
   "metadata": {},
   "outputs": [
    {
     "data": {
      "text/plain": [
       "63"
      ]
     },
     "execution_count": 9,
     "metadata": {},
     "output_type": "execute_result"
    }
   ],
   "source": [
    "int(0o77)"
   ]
  },
  {
   "cell_type": "markdown",
   "metadata": {},
   "source": [
    "이렇게 보았을 때, n진수를 10진수로 변환할 때는 `int()`를 사용하면 된다는 것을 알 수 있습니다.\n",
    "\n",
    "그렇다면, 흔히 쓰지 않는 3진수를 사용한다고 하였을 때는 어떻게 변환하는지에 대해서 알아보고\n",
    "\n",
    "n진수에서 10진수로 변환하는 방법에 대해서는 마치도록 하겠습니다.\n",
    "\n",
    "`int('숫자', n진수)`로 써주시면 됩니다.\n",
    "\n",
    "(⚠️단, 숫자 앞/뒤에는 작은 따옴표나 큰 따옴표로 감싸주어야하며, 각 자릿수의 숫자가 n진수보다 커서는 안됩니다.)"
   ]
  },
  {
   "cell_type": "code",
   "execution_count": 10,
   "metadata": {},
   "outputs": [
    {
     "data": {
      "text/plain": [
       "17"
      ]
     },
     "execution_count": 10,
     "metadata": {},
     "output_type": "execute_result"
    }
   ],
   "source": [
    "int('122', 3)"
   ]
  },
  {
   "cell_type": "markdown",
   "metadata": {},
   "source": [
    "### 6. 16진수\n",
    "\n",
    "#### 1) 16진수 표현법\n",
    "\n",
    "16진수는 `0x`를 이용하여 뒤에 값을 사용하면 됩니다."
   ]
  },
  {
   "cell_type": "markdown",
   "metadata": {},
   "source": [
    "#### 2) 10진수 -> 16진수 변환\n",
    "\n",
    "10진수의 값을 16진수로 표현해보도록 하겠습니다.\n",
    "\n",
    "파이썬에 내장되어 있는 `hex()`함수를 사용하면 됩니다."
   ]
  },
  {
   "cell_type": "code",
   "execution_count": 11,
   "metadata": {},
   "outputs": [
    {
     "name": "stdout",
     "output_type": "stream",
     "text": [
      "0x10\n"
     ]
    }
   ],
   "source": [
    "number = 16\n",
    "print(hex(number))"
   ]
  }
 ],
 "metadata": {
  "kernelspec": {
   "display_name": "Python 3",
   "language": "python",
   "name": "python3"
  },
  "language_info": {
   "codemirror_mode": {
    "name": "ipython",
    "version": 3
   },
   "file_extension": ".py",
   "mimetype": "text/x-python",
   "name": "python",
   "nbconvert_exporter": "python",
   "pygments_lexer": "ipython3",
   "version": "3.7.7"
  }
 },
 "nbformat": 4,
 "nbformat_minor": 4
}
