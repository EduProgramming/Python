{
 "cells": [
  {
   "cell_type": "markdown",
   "metadata": {},
   "source": [
    "# 람다식, Lambda\n",
    "\n",
    "람다 표현식은 함수를 간단하게 표현하는 문법\n",
    "\n",
    "```python\n",
    "lambda 매개변수: 식\n",
    "```"
   ]
  },
  {
   "cell_type": "code",
   "execution_count": 1,
   "metadata": {},
   "outputs": [
    {
     "name": "stdout",
     "output_type": "stream",
     "text": [
      "5\n"
     ]
    }
   ],
   "source": [
    "def print_data(data):\n",
    "    print(data)\n",
    "    \n",
    "print_data(5)"
   ]
  },
  {
   "cell_type": "code",
   "execution_count": 2,
   "metadata": {},
   "outputs": [
    {
     "name": "stdout",
     "output_type": "stream",
     "text": [
      "5\n"
     ]
    }
   ],
   "source": [
    "lambda_func = lambda data: print(data)\n",
    "lambda_func(5)"
   ]
  },
  {
   "cell_type": "code",
   "execution_count": 3,
   "metadata": {},
   "outputs": [
    {
     "name": "stdout",
     "output_type": "stream",
     "text": [
      "9\n"
     ]
    }
   ],
   "source": [
    "def squared_num(data):\n",
    "    return data ** 2\n",
    "\n",
    "print(squared_num(3))"
   ]
  },
  {
   "cell_type": "code",
   "execution_count": 4,
   "metadata": {},
   "outputs": [
    {
     "name": "stdout",
     "output_type": "stream",
     "text": [
      "9\n"
     ]
    }
   ],
   "source": [
    "squared_lambda = lambda n: n ** 2\n",
    "\n",
    "print(squared_lambda(3))"
   ]
  },
  {
   "cell_type": "code",
   "execution_count": 5,
   "metadata": {},
   "outputs": [
    {
     "name": "stdout",
     "output_type": "stream",
     "text": [
      "32\n"
     ]
    }
   ],
   "source": [
    "# 익명 함수 사용 -> 한번만 사용할 때 주로 사용\n",
    "(lambda x: print(x ** 5))(2)"
   ]
  },
  {
   "cell_type": "markdown",
   "metadata": {},
   "source": [
    "## 심화\n",
    "\n",
    "### 1. sort(key=lambda param: 수행식)\n",
    "\n",
    "```python\n",
    "#이차원 리스트 데이터\n",
    "list_data = [[7,1], [5,1], [5,5], [8,3], [3,2], [9,7]]\n",
    "```\n",
    "\n",
    "1. 이차원 리스트 데이터에서 각 요소의 0번째 인자에 값을 기준으로 정렬해주세요."
   ]
  },
  {
   "cell_type": "code",
   "execution_count": 6,
   "metadata": {},
   "outputs": [
    {
     "name": "stdout",
     "output_type": "stream",
     "text": [
      "[[3, 2], [5, 1], [5, 5], [7, 1], [8, 3], [9, 7]]\n"
     ]
    }
   ],
   "source": [
    "list_data = [[7,1], [5,1], [5,5], [8,3], [3,2], [9,7]]\n",
    "list_data.sort()\n",
    "\n",
    "print(list_data)"
   ]
  },
  {
   "cell_type": "markdown",
   "metadata": {},
   "source": [
    "2. 이차원 리스트 데이터에서 각 요소의 1번째 인자에 값을 기준으로 정렬해주세요."
   ]
  },
  {
   "cell_type": "code",
   "execution_count": 7,
   "metadata": {},
   "outputs": [
    {
     "name": "stdout",
     "output_type": "stream",
     "text": [
      "[[7, 1], [5, 1], [3, 2], [8, 3], [5, 5], [9, 7]]\n"
     ]
    }
   ],
   "source": [
    "list_data = [[7,1], [5,1], [5,5], [8,3], [3,2], [9,7]]\n",
    "list_data.sort(key=lambda data: data[1])\n",
    "\n",
    "print(list_data)"
   ]
  },
  {
   "cell_type": "markdown",
   "metadata": {},
   "source": [
    "3. 이차원 리스트 데이터에서 1번째 인자에 값, 이후 0번째 인자에 값을 기준으로 정렬해주세요."
   ]
  },
  {
   "cell_type": "code",
   "execution_count": 8,
   "metadata": {},
   "outputs": [
    {
     "name": "stdout",
     "output_type": "stream",
     "text": [
      "[[5, 1], [7, 1], [3, 2], [8, 3], [5, 5], [9, 7]]\n"
     ]
    }
   ],
   "source": [
    "list_data = [[7,1], [5,1], [5,5], [8,3], [3,2], [9,7]]\n",
    "list_data.sort(key=lambda data: (data[1], data[0]))\n",
    "\n",
    "print(list_data)"
   ]
  },
  {
   "cell_type": "markdown",
   "metadata": {},
   "source": [
    "## 람다 객체 파라미터"
   ]
  },
  {
   "cell_type": "code",
   "execution_count": 9,
   "metadata": {},
   "outputs": [
    {
     "data": {
      "text/plain": [
       "125"
      ]
     },
     "execution_count": 9,
     "metadata": {},
     "output_type": "execute_result"
    }
   ],
   "source": [
    "func = lambda x: x ** 3\n",
    "\n",
    "def f(func, num):\n",
    "    return func(num)\n",
    "\n",
    "f(func, 5)"
   ]
  },
  {
   "cell_type": "code",
   "execution_count": 10,
   "metadata": {},
   "outputs": [
    {
     "data": {
      "text/plain": [
       "125"
      ]
     },
     "execution_count": 10,
     "metadata": {},
     "output_type": "execute_result"
    }
   ],
   "source": [
    "def func(x):\n",
    "    return x ** 3\n",
    "\n",
    "def f(func, num):\n",
    "    return func(num)\n",
    "\n",
    "f(func, 5)"
   ]
  },
  {
   "cell_type": "code",
   "execution_count": 11,
   "metadata": {},
   "outputs": [
    {
     "data": {
      "text/plain": [
       "125"
      ]
     },
     "execution_count": 11,
     "metadata": {},
     "output_type": "execute_result"
    }
   ],
   "source": [
    "def f(num):\n",
    "    def func(x):\n",
    "        return x ** 3\n",
    "    return func(num)\n",
    "\n",
    "f(5)"
   ]
  }
 ],
 "metadata": {
  "kernelspec": {
   "display_name": "Python 3",
   "language": "python",
   "name": "python3"
  },
  "language_info": {
   "codemirror_mode": {
    "name": "ipython",
    "version": 3
   },
   "file_extension": ".py",
   "mimetype": "text/x-python",
   "name": "python",
   "nbconvert_exporter": "python",
   "pygments_lexer": "ipython3",
   "version": "3.8.3"
  }
 },
 "nbformat": 4,
 "nbformat_minor": 4
}
