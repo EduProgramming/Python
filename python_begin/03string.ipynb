{
 "cells": [
  {
   "cell_type": "markdown",
   "metadata": {},
   "source": [
    "# String, 문자열\n",
    "\n",
    "## 1. 문자열 생성\n",
    "\n",
    "1. 큰 따옴표(`\"`)나 작은 따옴표(`'`)로 양쪽을 둘러싸서 생성\n",
    "\n",
    "2. 큰 따옴표나 작은 따옴표 3개를 양쪽으로 둘러싸서 생성"
   ]
  },
  {
   "cell_type": "markdown",
   "metadata": {},
   "source": [
    "**이스케이프 코드**\n",
    "\n",
    "| 코드 | 설명                                                    |\n",
    "| :--: | :------------------------------------------------------ |\n",
    "| `\\n` | 문자열 안에서 줄 바꿈                                   |\n",
    "| `\\t` | 문자열 안에서 탭(띄어쓰기) 사용                         |\n",
    "| `\\'` | 문자 `'`를 쓰고자할 때 사용                             |\n",
    "| `\\\"` | 문자 `\"`를 쓰고자할 때 사용                             |\n",
    "| `\\r` | 캐리지 리턴(줄 바꿈 문자, 현재 커서를 가장 앞으로 이동) |\n",
    "| `\\f` | 폼 피드(줄 바꿈 문자, 현재 커서를 다음 줄로 이동)       |\n",
    "| `\\b` | 백 스페이스                                             |\n",
    "\n",
    "주로 사용하는 이스케이프 코드는 `\\n`과 `\\t`, `\\'`, `\\\"` 입니다."
   ]
  },
  {
   "cell_type": "code",
   "execution_count": 1,
   "metadata": {},
   "outputs": [
    {
     "name": "stdout",
     "output_type": "stream",
     "text": [
      "안녕하세요.'파이썬' 프로그래밍입니다.\n"
     ]
    }
   ],
   "source": [
    "print('안녕하세요.\\'파이썬\\' 프로그래밍입니다.')"
   ]
  },
  {
   "cell_type": "markdown",
   "metadata": {},
   "source": [
    "## 2. 문자열 연산\n",
    "\n",
    "### 1. + 연산"
   ]
  },
  {
   "cell_type": "code",
   "execution_count": 2,
   "metadata": {},
   "outputs": [
    {
     "name": "stdout",
     "output_type": "stream",
     "text": [
      "안녕하세요 프로그램\n"
     ]
    }
   ],
   "source": [
    "print('안녕하세요' + ' 프로그램')"
   ]
  },
  {
   "cell_type": "markdown",
   "metadata": {},
   "source": [
    "### 2. * 연산"
   ]
  },
  {
   "cell_type": "code",
   "execution_count": 3,
   "metadata": {},
   "outputs": [
    {
     "name": "stdout",
     "output_type": "stream",
     "text": [
      "안녕하세요안녕하세요안녕하세요\n"
     ]
    }
   ],
   "source": [
    "print('안녕하세요' * 3)"
   ]
  },
  {
   "cell_type": "markdown",
   "metadata": {},
   "source": [
    "### 3. 길이"
   ]
  },
  {
   "cell_type": "code",
   "execution_count": 4,
   "metadata": {},
   "outputs": [
    {
     "name": "stdout",
     "output_type": "stream",
     "text": [
      "5\n"
     ]
    }
   ],
   "source": [
    "print(len('안녕하세요'))"
   ]
  },
  {
   "cell_type": "markdown",
   "metadata": {},
   "source": [
    "## 3. 문자열 인덱싱과 슬라이싱"
   ]
  },
  {
   "cell_type": "code",
   "execution_count": 5,
   "metadata": {},
   "outputs": [
    {
     "name": "stdout",
     "output_type": "stream",
     "text": [
      "안녕하세요\n"
     ]
    }
   ],
   "source": [
    "value = '안녕하세요'\n",
    "print(value)"
   ]
  },
  {
   "cell_type": "code",
   "execution_count": 6,
   "metadata": {},
   "outputs": [
    {
     "data": {
      "text/plain": [
       "5"
      ]
     },
     "execution_count": 6,
     "metadata": {},
     "output_type": "execute_result"
    }
   ],
   "source": [
    "len(value)"
   ]
  },
  {
   "cell_type": "code",
   "execution_count": 7,
   "metadata": {},
   "outputs": [
    {
     "name": "stdout",
     "output_type": "stream",
     "text": [
      "안녕하세요\n"
     ]
    }
   ],
   "source": [
    "# 안녕\n",
    "# print(value[0] + value[1])\n",
    "\n",
    "print(value[:]) #start:end:step"
   ]
  },
  {
   "cell_type": "code",
   "execution_count": 8,
   "metadata": {},
   "outputs": [
    {
     "name": "stdout",
     "output_type": "stream",
     "text": [
      "안녕안녕\n"
     ]
    }
   ],
   "source": [
    "### f-String\n",
    "print(f'{value[0:2]}{value[-5:-3]}')"
   ]
  },
  {
   "cell_type": "markdown",
   "metadata": {},
   "source": [
    "## 4. 문자열 관련 함수\n",
    "\n",
    "- 많으므로 문제를 풀면서 차근차근 익히는 방안\n",
    "\n",
    "- Python string methods 검색"
   ]
  }
 ],
 "metadata": {
  "kernelspec": {
   "display_name": "Python 3",
   "language": "python",
   "name": "python3"
  },
  "language_info": {
   "codemirror_mode": {
    "name": "ipython",
    "version": 3
   },
   "file_extension": ".py",
   "mimetype": "text/x-python",
   "name": "python",
   "nbconvert_exporter": "python",
   "pygments_lexer": "ipython3",
   "version": "3.8.3"
  }
 },
 "nbformat": 4,
 "nbformat_minor": 4
}
