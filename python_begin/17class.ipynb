{
 "cells": [
  {
   "cell_type": "markdown",
   "metadata": {},
   "source": [
    "# Class, 클래스\n",
    "\n",
    "클래스의 이름은 처음 문자가 대문자로 보통 사용합니다.\n",
    "\n",
    "```python\n",
    "class ClassName:\n",
    "    def method(self, parameter):\n",
    "        수행문장\n",
    "```"
   ]
  },
  {
   "cell_type": "code",
   "execution_count": 1,
   "metadata": {},
   "outputs": [],
   "source": [
    "# 계산기 - 함수 구현\n",
    "result = 0\n",
    "\n",
    "def add(num):\n",
    "    global result\n",
    "    result += num\n",
    "    print(result)\n",
    "    #return result\n",
    "    \n",
    "add(3)\n",
    "add(5)"
   ]
  },
  {
   "cell_type": "code",
   "execution_count": 2,
   "metadata": {},
   "outputs": [],
   "source": [
    "\"\"\"\n",
    "class 클래스이름:\n",
    "    def 메서드(self):\n",
    "        수행문장\n",
    "\"\"\""
   ]
  },
  {
   "cell_type": "code",
   "execution_count": 3,
   "metadata": {},
   "outputs": [],
   "source": [
    "class Calc:\n",
    "    def __init__(self):\n",
    "        self.result = 0\n",
    "        \n",
    "    def add(self, num):\n",
    "        self.result += num\n",
    "        print(self.result)\n",
    "        #return self.result\n",
    "        \n",
    "calc1 = Calc()\n",
    "calc2 = Calc()\n",
    "\n",
    "calc1.add(3)\n",
    "calc2.add(7)\n",
    "calc1.add(5)\n",
    "calc2.add(8)"
   ]
  },
  {
   "cell_type": "code",
   "execution_count": 4,
   "metadata": {},
   "outputs": [],
   "source": [
    "# Example, Int클래스\n",
    "num = int(5)\n",
    "\n",
    "print(type(num))\n",
    "\n",
    "# method\n",
    "list_data = [1,2,3]\n",
    "list_data.sort()"
   ]
  },
  {
   "cell_type": "code",
   "execution_count": 5,
   "metadata": {},
   "outputs": [],
   "source": [
    "class IntegerTest:\n",
    "    def __init__(self, num): # 생성자\n",
    "        self.num = num\n",
    "        \n",
    "    def print_num(self):\n",
    "        print(self.num)\n",
    "        \n",
    "integer_test = IntegerTest(3)\n",
    "integer_test.print_num()"
   ]
  },
  {
   "cell_type": "markdown",
   "metadata": {},
   "source": [
    "생성자 : 클래스를 인스턴스화 했을 때, 객체가 초기에 가지게 되거나 행동할 부분들(수행할 부분들)을 넣는 메서드라고 생각"
   ]
  },
  {
   "cell_type": "markdown",
   "metadata": {},
   "source": [
    "## Self\n",
    "\n",
    "self는 `인스턴스 자기 자신`을 의미합니다."
   ]
  },
  {
   "cell_type": "code",
   "execution_count": 6,
   "metadata": {},
   "outputs": [],
   "source": [
    "class Test:\n",
    "    def __init__(self, num):\n",
    "        print(num)\n",
    "        self.num = 3\n",
    "        print(f'SELF: {self.num}')\n",
    "        print(f'NUM: {num}')\n",
    "        \n",
    "test = Test(5)"
   ]
  },
  {
   "cell_type": "markdown",
   "metadata": {},
   "source": [
    "## 심화\n",
    "\n",
    "우리가 인스턴스화를 진행하면서 객체에 접근하여 값을 바꾸는 것을 방지하고 싶을 때\n",
    "\n",
    "ex) 상수 -> 고정된 값\n",
    "\n",
    "`__`"
   ]
  },
  {
   "cell_type": "code",
   "execution_count": 7,
   "metadata": {},
   "outputs": [],
   "source": [
    "class Test:\n",
    "    def __init__(self):\n",
    "        self.__NUM = 123\n",
    "    \n",
    "    def get_num(self):\n",
    "        return self.__NUM\n",
    "    \n",
    "    def set_num(self, num):\n",
    "        self.__NUM = num\n",
    "        \n",
    "test = Test()\n",
    "test.set_num(3)\n",
    "print(test.get_num())"
   ]
  },
  {
   "cell_type": "markdown",
   "metadata": {},
   "source": [
    "단, `__`를 양쪾에 하여 `__init__`처럼 사용하고 외부 접근이 불가능하게 하는 것은 옳지 않습니다.\n",
    "\n",
    "**양쪽에 `__`를 하는 것은 특정 메서드를 지정할 때 사용하는 방식**입니다."
   ]
  }
 ],
 "metadata": {
  "kernelspec": {
   "display_name": "Python 3",
   "language": "python",
   "name": "python3"
  },
  "language_info": {
   "codemirror_mode": {
    "name": "ipython",
    "version": 3
   },
   "file_extension": ".py",
   "mimetype": "text/x-python",
   "name": "python",
   "nbconvert_exporter": "python",
   "pygments_lexer": "ipython3",
   "version": "3.8.3"
  }
 },
 "nbformat": 4,
 "nbformat_minor": 4
}
