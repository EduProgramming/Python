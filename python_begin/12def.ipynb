{
 "cells": [
  {
   "cell_type": "markdown",
   "metadata": {},
   "source": [
    "# 함수, def\n",
    "\n",
    "function에 대해서 알아보겠습니다.\n",
    "\n",
    "함수는 수학에서 f(x)에서의 f의 역할입니다.\n",
    "\n",
    "```python\n",
    "# 방법1\n",
    "def 함수이름(파라미터1, 파라미터2, 파라미터3):\n",
    "    수행문장\n",
    "    \n",
    "# 방법2\n",
    "def 함수이름(파라미터1, 파라미터2):\n",
    "    수행문장\n",
    "    return 값\n",
    "```\n",
    "\n",
    "list_data.sort() -> 수행문장, 반환값None, 원본값은 변경\n",
    "\n",
    "sorted(list_data) -> 수행문장, 반환값=변환값, 원본값은 변경x\n"
   ]
  },
  {
   "cell_type": "code",
   "execution_count": 1,
   "metadata": {},
   "outputs": [
    {
     "name": "stdout",
     "output_type": "stream",
     "text": [
      "15\n"
     ]
    }
   ],
   "source": [
    "def sum_data(list_data):\n",
    "    sum_result = 0\n",
    "    for data in list_data:\n",
    "        sum_result += data\n",
    "    return sum_result\n",
    "\n",
    "list_data = [1,2,3,4,5]\n",
    "result = sum_data(list_data)\n",
    "print(result)"
   ]
  },
  {
   "cell_type": "markdown",
   "metadata": {},
   "source": [
    "**파라미터** : 미지수의 변수 -> 함수에서 받는 값\n",
    "\n",
    "**아규먼트** : 정해진 값 -> 함수에서 파라미터에 넣는 값"
   ]
  },
  {
   "cell_type": "code",
   "execution_count": 2,
   "metadata": {},
   "outputs": [
    {
     "name": "stdout",
     "output_type": "stream",
     "text": [
      "6\n"
     ]
    }
   ],
   "source": [
    "result = sum_data([1,2,3])\n",
    "print(result)"
   ]
  },
  {
   "cell_type": "code",
   "execution_count": 3,
   "metadata": {},
   "outputs": [
    {
     "name": "stdout",
     "output_type": "stream",
     "text": [
      "P1은 5, P2는 3, P3은 10\n"
     ]
    }
   ],
   "source": [
    "def f(p1, p2=3, p3=7, p4=10, p5=1):\n",
    "    print(f'P1은 {p1}, P2는 {p2}, P3은 {p3}')\n",
    "\n",
    "f(p1=5, p3=10)"
   ]
  },
  {
   "cell_type": "markdown",
   "metadata": {},
   "source": [
    "## args, kwargs\n",
    "\n",
    "1. args : *\n",
    "\n",
    "2. kwargs : **"
   ]
  },
  {
   "cell_type": "code",
   "execution_count": 4,
   "metadata": {},
   "outputs": [
    {
     "name": "stdout",
     "output_type": "stream",
     "text": [
      "안녕하세요\n",
      "('저는 누구입니다.', '확인해보기')\n",
      "<class 'tuple'>\n"
     ]
    }
   ],
   "source": [
    "def f(*args):\n",
    "    print(args[0])\n",
    "    print(args[1:])\n",
    "    print(type(args))\n",
    "    \n",
    "f('안녕하세요', '저는 누구입니다.', '확인해보기')"
   ]
  },
  {
   "cell_type": "code",
   "execution_count": 5,
   "metadata": {},
   "outputs": [
    {
     "name": "stdout",
     "output_type": "stream",
     "text": [
      "{'greeting': '안녕하세요', 'name': '저는 누구입니다.'}\n",
      "<class 'dict'>\n"
     ]
    }
   ],
   "source": [
    "def f(**kwargs):\n",
    "    print(kwargs)\n",
    "    print(type(kwargs))\n",
    "    \n",
    "f(greeting='안녕하세요', name='저는 누구입니다.')"
   ]
  },
  {
   "cell_type": "code",
   "execution_count": 6,
   "metadata": {},
   "outputs": [],
   "source": [
    "# 재귀함수\n",
    "def f(n):\n",
    "    if n > 5:\n",
    "        print(n)\n",
    "        return f(n-1)"
   ]
  },
  {
   "cell_type": "code",
   "execution_count": 7,
   "metadata": {},
   "outputs": [
    {
     "name": "stdout",
     "output_type": "stream",
     "text": [
      "10\n",
      "9\n",
      "8\n",
      "7\n",
      "6\n"
     ]
    }
   ],
   "source": [
    "f(10)"
   ]
  }
 ],
 "metadata": {
  "kernelspec": {
   "display_name": "Python 3",
   "language": "python",
   "name": "python3"
  },
  "language_info": {
   "codemirror_mode": {
    "name": "ipython",
    "version": 3
   },
   "file_extension": ".py",
   "mimetype": "text/x-python",
   "name": "python",
   "nbconvert_exporter": "python",
   "pygments_lexer": "ipython3",
   "version": "3.8.3"
  }
 },
 "nbformat": 4,
 "nbformat_minor": 4
}
