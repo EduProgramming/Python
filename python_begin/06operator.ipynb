{
 "cells": [
  {
   "cell_type": "markdown",
   "metadata": {},
   "source": [
    "# Operator, 연산자\n",
    "\n",
    "## 1. 산술 연산자(Arthmetic Operators)\n",
    "\n",
    "산술 연산자에는 사칙연산자(`+`, `-`, `*`, `/`), 제곱(`**`), 나눗셈의 몫(//), 나눗셈의 나머지(`%`)가 있습니다.\n",
    "\n",
    "| 연산자 | 설명   | 예시         |\n",
    "| ------ | ------ | ------------ |\n",
    "| +      | 더하기 | a + b = 25   |\n",
    "| -      | 빼기   | a - b = 5    |\n",
    "| *      | 곱하기 | a * b = 150  |\n",
    "| /      | 나누기 | a / b = 1.5  |\n",
    "| %      | 나머지 | a % b = 5    |\n",
    "| **     | 제곱   | a ** c = 255 |\n",
    "| //     | 몫     | a // b = 1   |\n"
   ]
  },
  {
   "cell_type": "code",
   "execution_count": 1,
   "metadata": {},
   "outputs": [
    {
     "name": "stdout",
     "output_type": "stream",
     "text": [
      "8\n",
      "-2\n",
      "12\n",
      "1.3333333333333333\n",
      "1\n",
      "1\n",
      "64\n"
     ]
    }
   ],
   "source": [
    "print(3 + 5)\n",
    "print(3 - 5)\n",
    "print(6 * 2)\n",
    "print(4 / 3)\n",
    "print(4 % 3)\n",
    "print(4 // 3)\n",
    "print(4 ** 3)"
   ]
  },
  {
   "cell_type": "markdown",
   "metadata": {},
   "source": [
    "## 2. 비교 연산자(Comparison Operators)\n",
    "\n",
    "비트 연산자는 관계 연산자로도 불리우며, 등호(==), 같지 않음(!=), 부등호(<, >, <=, >=)가 있습니다.\n",
    "\n",
    "| 연산자 | 설명                                | 예시   |\n",
    "| ------ | ----------------------------------- | ------ |\n",
    "| ==     | 값이 같다                           | a == b |\n",
    "| !=     | 값이 같지 않음(값이 다르다)         | a != b |\n",
    "| >      | 왼쪽 값이 오른쪽 값보다 크다        | a > b  |\n",
    "| <      | 왼쪽 값이 오른쪽 값보다 작다        | a < b  |\n",
    "| >=     | 왼쪽 값이 오른쪽 값보다 크거나 같다 | a >= b |\n",
    "| <=     | 왼쪽 값이 오른쪽 값보다 작거나 같다 | a <= b |\n",
    "\n"
   ]
  },
  {
   "cell_type": "code",
   "execution_count": 2,
   "metadata": {},
   "outputs": [
    {
     "name": "stdout",
     "output_type": "stream",
     "text": [
      "False\n",
      "True\n",
      "True\n",
      "False\n",
      "True\n",
      "False\n"
     ]
    }
   ],
   "source": [
    "a = 5\n",
    "b = 3\n",
    "print(a == b)\n",
    "print(a != b)\n",
    "print(a > b)\n",
    "print(a < b)\n",
    "print(a >= b)\n",
    "print(a <= b)"
   ]
  },
  {
   "cell_type": "markdown",
   "metadata": {},
   "source": [
    "## 3. 할당 연산자(Assignment Operators)\n",
    "\n",
    "할당 연산자는 변수에 값을 할당하기 위하여 사용됩니다.\n",
    "\n",
    "| 연산자 | 설명                                                         | 예시     |\n",
    "| ------ | ------------------------------------------------------------ | -------- |\n",
    "| =      | 왼쪽 변수에 오른쪽 값 할당                                   | a = 3 +5 |\n",
    "| +=     | 왼쪽 변수에 오른쪽 값 더하고 결과를 왼쪽 변수에 할당         | a += 3   |\n",
    "| -=     | 왼쪽 변수에 오른쪽 값 빼고 결과를 왼쪽 변수에 할당           | a -= 5   |\n",
    "| *=     | 왼쪽 변수에 오른쪽 값을 곱하고 결과를 왼쪽 변수에 할당       | a *= 3   |\n",
    "| /=     | 왼쪽 변수에서 오른쪽 값을 나누고 결과를 왼쪽 변수에 할당     | a /= 2   |\n",
    "| %=     | 왼쪽 변수에서 오른쪽 값을 나눈 나머지의 결과를 왼쪽 변수에 할당 | a %= 7   |\n",
    "| **=    | 왼쪽 변수에서 오른쪽 값만큼 제곱을 하고 결과를 왼쪽 변수에 할당 | a **= 3  |\n",
    "| //=    | 왼쪽 변수에서 오른쪽 값을 나눈 몫의 결과를 왼쪽 변수에 할당  | a //= 5  |\n",
    "\n"
   ]
  },
  {
   "cell_type": "code",
   "execution_count": 3,
   "metadata": {},
   "outputs": [
    {
     "name": "stdout",
     "output_type": "stream",
     "text": [
      "5\n",
      "15\n"
     ]
    }
   ],
   "source": [
    "a = 0\n",
    "a += 5\n",
    "#a = a + 5\n",
    "print(a)\n",
    "a *= 3\n",
    "print(a)"
   ]
  },
  {
   "cell_type": "markdown",
   "metadata": {},
   "source": [
    "## 4. 논리 연산자(Logical Operators)\n",
    "\n",
    "논리 연산자는 and, or, not이 있습니다.\n",
    "\n",
    "`and`는 양쪽의 값이 모두 참인 경우에만 참이 됩니다.\n",
    "\n",
    "`or`는 어느 한쪽만 참이면 참이 됩니다.\n",
    "\n",
    "`not`은 참이면 거짓으로, 거짓이면 참으로 됩니다.\n",
    "\n",
    "| 연산자 | 설명                                   | 예시    |\n",
    "| ------ | -------------------------------------- | ------- |\n",
    "| and    | 논리 AND 연산. 둘다 참일때만 참        | a and b |\n",
    "| or     | 논리 OR 연산. 둘 중 하나만 참이여도 참 | a or b  |\n",
    "| not    | 논리 NOT 연산, 논리 상태를 반전        | not a   |\n",
    "\n"
   ]
  },
  {
   "cell_type": "code",
   "execution_count": 4,
   "metadata": {},
   "outputs": [
    {
     "name": "stdout",
     "output_type": "stream",
     "text": [
      "참\n"
     ]
    }
   ],
   "source": [
    "if (5 > 3 and not(5 < 2)):\n",
    "    print('참')\n",
    "else:\n",
    "    print('거짓')"
   ]
  },
  {
   "cell_type": "code",
   "execution_count": 5,
   "metadata": {},
   "outputs": [
    {
     "data": {
      "text/plain": [
       "'\\nAND\\n어머니에게 과자와(AND) 아이스크림을 사달라고 하였습니다.\\n-> 1. 과자와 아이스크림: 참\\n-> 2. 과자: 거짓\\n-> 3. 아이스크림: 거짓\\n-> 4. X: 거짓\\n\\nOR\\n어머니에게 과자나(OR) 아이스크림을 사달라고 하였습니다.\\n-> 1. 과자와 아이스크림: 참\\n-> 2. 과자: 참\\n-> 3. 아이스크림: 참\\n-> 4. X: 거짓\\n'"
      ]
     },
     "execution_count": 5,
     "metadata": {},
     "output_type": "execute_result"
    }
   ],
   "source": [
    "\"\"\"\n",
    "AND\n",
    "어머니에게 과자와(AND) 아이스크림을 사달라고 하였습니다.\n",
    "-> 1. 과자와 아이스크림: 참\n",
    "-> 2. 과자: 거짓\n",
    "-> 3. 아이스크림: 거짓\n",
    "-> 4. X: 거짓\n",
    "\n",
    "OR\n",
    "어머니에게 과자나(OR) 아이스크림을 사달라고 하였습니다.\n",
    "-> 1. 과자와 아이스크림: 참\n",
    "-> 2. 과자: 참\n",
    "-> 3. 아이스크림: 참\n",
    "-> 4. X: 거짓\n",
    "\"\"\""
   ]
  },
  {
   "cell_type": "markdown",
   "metadata": {},
   "source": [
    "## 5. 비트 연산자(Bitwise Operaotrs)\n",
    "\n",
    "비트[^1] 연산자는 &, |, ^, ~, <<, >>가 있습니다. 비트 연산자는 비트 단위의 연산을 하는데 사용됩니다.\n",
    "\n",
    "비트 연산자는 숫자 타입인 정수형을 대상으로 사용할 수 있습니다.\n",
    "\n",
    "| 연산자 | 설명                                                         | 예시   |\n",
    "| ------ | ------------------------------------------------------------ | ------ |\n",
    "| &      | AND 연산, 둘다 참일 때만 만족                                | a & b  |\n",
    "| \\|     | OR 연산, 둘 중 하나만 참이여도 만족                          | a \\| b |\n",
    "| ^      | XOR 연산, 둘 중 하나만 참일 때 만족                          | a ^ b  |\n",
    "| ~      | 보수 연산                                                    | ~a     |\n",
    "| <<     | 왼쪽 시프트 연산자. 변수의 값을 왼쪽으로 지정된 비트 수만큼 이동 | a << 2 |\n",
    "| >>     | 오른쪽 시프트 연산자. 변수의 값을 오른쪽으로 지정된 비트 수만큼 이동 | a >> 2 |\n",
    "\n"
   ]
  },
  {
   "cell_type": "code",
   "execution_count": 6,
   "metadata": {},
   "outputs": [
    {
     "name": "stdout",
     "output_type": "stream",
     "text": [
      "1\n",
      "50\n"
     ]
    }
   ],
   "source": [
    "# 심화\n",
    "# print(3 & 2)\n",
    "# print(bin(3), bin(2)) #0b11, 0b10 -> 0b10\n",
    "\n",
    "# print(3 | 2)\n",
    "# or -> 0b11\n",
    "\n",
    "#시프트 연산자\n",
    "print(2 >> 1)\n",
    "\"\"\"\n",
    "0bxxxxxxxxx\n",
    "8bit\n",
    "10 1024\n",
    "9 512\n",
    "8 256\n",
    "1byte(=8bit)\n",
    "256  128  64  32  16  8  4  2  1\n",
    "                               1\n",
    "                            1  0                         \n",
    "\"\"\"\n",
    "\n",
    "n = 100\n",
    "# n //= 2**m\n",
    "print(n >> 1)"
   ]
  },
  {
   "cell_type": "markdown",
   "metadata": {},
   "source": [
    "## 6. 멤버쉽 연산자(Membership Operators)\n",
    "\n",
    "멤버쉽 연산자에는 in, not in이 있습니다. 해당 값이 컬렉션 속에 있는지 없는지 체크합니다.\n",
    "\n",
    "| 연산자 | 설명                              | 예시          |\n",
    "| ------ | --------------------------------- | ------------- |\n",
    "| in     | list 내에 포함되어 있으면 참      | a in list     |\n",
    "| not in | list 내에 포함되어 있지 않으면 참 | a not in list |"
   ]
  },
  {
   "cell_type": "code",
   "execution_count": 7,
   "metadata": {},
   "outputs": [
    {
     "name": "stdout",
     "output_type": "stream",
     "text": [
      "True\n",
      "False\n",
      "False\n",
      "True\n"
     ]
    }
   ],
   "source": [
    "value = 'hello'\n",
    "\"\"\"\n",
    "값 in iterable객체\n",
    "값 not in iterable객체\n",
    "-> return True/False(Bool)\n",
    "\"\"\"\n",
    "\n",
    "print('h' in value)\n",
    "print('h' not in value)\n",
    "\n",
    "print('u' in value)\n",
    "print('u' not in value)"
   ]
  },
  {
   "cell_type": "markdown",
   "metadata": {},
   "source": [
    "## 7. 식별 연산자(Identity Operators)\n",
    "\n",
    "식별 연산자에는 is, is not이 있습니다. 해당 값이 동일한 객체를 가리키는지 아닌지를 체크합니다.\n",
    "\n",
    "| 연산자 | 설명                                   | 예시       |\n",
    "| ------ | -------------------------------------- | ---------- |\n",
    "| is     | 개체 메모리 위치나 값이 같다면 참      | a is b     |\n",
    "| is not | 개체 메모리 위치나 값이 같지 않으면 참 | a is not b |"
   ]
  },
  {
   "cell_type": "code",
   "execution_count": 8,
   "metadata": {},
   "outputs": [
    {
     "name": "stdout",
     "output_type": "stream",
     "text": [
      "True\n",
      "True\n"
     ]
    },
    {
     "name": "stderr",
     "output_type": "stream",
     "text": [
      "<>:2: SyntaxWarning: \"is\" with a literal. Did you mean \"==\"?\n",
      "<>:6: SyntaxWarning: \"is\" with a literal. Did you mean \"==\"?\n",
      "<>:2: SyntaxWarning: \"is\" with a literal. Did you mean \"==\"?\n",
      "<>:6: SyntaxWarning: \"is\" with a literal. Did you mean \"==\"?\n",
      "<ipython-input-8-b86193af8910>:2: SyntaxWarning: \"is\" with a literal. Did you mean \"==\"?\n",
      "  print(value is 5)\n",
      "<ipython-input-8-b86193af8910>:6: SyntaxWarning: \"is\" with a literal. Did you mean \"==\"?\n",
      "  print(value is 'hello')\n"
     ]
    }
   ],
   "source": [
    "value = 5\n",
    "print(value is 5)\n",
    "# 객체의 주소값\n",
    "\n",
    "value = 'hello'\n",
    "print(value is 'hello')"
   ]
  },
  {
   "cell_type": "markdown",
   "metadata": {},
   "source": [
    "**삼항 연산자**\n",
    "\n",
    "```python\n",
    "참일 때 가질 값 if (조건식) else 거짓일 때 가질 값\n",
    "```\n"
   ]
  },
  {
   "cell_type": "markdown",
   "metadata": {},
   "source": [
    "## 연산자 우선순위\n",
    "\n",
    "가장 높은 우선 순위에서 가장 낮은 모든 연산자 순서입니다.\n",
    "\n",
    "| 연산자                               | 설명                              |\n",
    "| ------------------------------------ | --------------------------------- |\n",
    "| **                                   | 지수                              |\n",
    "| ~, +, -                              | Complement, 단항 플러스, 마이너스 |\n",
    "| *, /, %, //                          | 곱하기, 나누기, 나머지, 몫        |\n",
    "| +, -                                 | 덧셈, 뺄셈                        |\n",
    "| >>, <<                               | 좌우 비트 시프트                  |\n",
    "| &                                    | 비트 'AND'                        |\n",
    "| ^, \\|                                | 비트 'OR', 'NOR'                  |\n",
    "| <=, <, >, >=                         | 비교 연산자                       |\n",
    "| <, >, ==, !=                         | 평등 연산자                       |\n",
    "| =, %=, /=, //=,<br/> -=, +=, *=, **= | 할당 연산자                       |\n",
    "| is, is not                           | 식별 연산자                       |\n",
    "| in, not in                           | 멤버 연산자                       |\n",
    "| not, or, and                         | 논리 연산자                       |\n",
    "\n",
    "<hr/>\n",
    "\n",
    "[^1]: 비트 : 데이터를 나타내는 최소 단위. 모든 데이터는 0과 1의 조합으로 구성되는데, 이 0 또는 1이 하나의 비트가 됨."
   ]
  }
 ],
 "metadata": {
  "kernelspec": {
   "display_name": "Python 3",
   "language": "python",
   "name": "python3"
  },
  "language_info": {
   "codemirror_mode": {
    "name": "ipython",
    "version": 3
   },
   "file_extension": ".py",
   "mimetype": "text/x-python",
   "name": "python",
   "nbconvert_exporter": "python",
   "pygments_lexer": "ipython3",
   "version": "3.8.3"
  }
 },
 "nbformat": 4,
 "nbformat_minor": 4
}
