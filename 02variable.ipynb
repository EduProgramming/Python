{
 "cells": [
  {
   "cell_type": "markdown",
   "id": "c1999474",
   "metadata": {},
   "source": [
    "# Variable, 변수\n",
    "\n",
    "특정 값을 저장하는 메모리 공간\n",
    "\n",
    "다시 말해, 값을 담고 있는 공간\n",
    "\n",
    "[부가적 설명]\n",
    "\n",
    "수학에서의 x = 5라고 한다면 `x는 5의 값을 가진다`라고 알고 있습니다.\n",
    "\n",
    "우리는 이러한 변수를 수학에서 배웠습니다.\n",
    "\n",
    "변수는 변하는 수로서 우리는 해당 값을 찾아가는 과정을 수학에서 행했죠.\n",
    "\n",
    "그러나, 이번에는 우리가 변수의 값에다가 값을 지정해주는 역할을 할 것입니다.\n",
    "\n",
    "프로그래머로서 변수 값에다가 값을 넣기도 하고 변경도 할 것입니다.\n",
    "\n",
    "변수의 이점에 대해서 가장 간단한 예를 들어보도록 하겠습니다."
   ]
  },
  {
   "cell_type": "code",
   "execution_count": 1,
   "id": "1dc19ed8",
   "metadata": {},
   "outputs": [
    {
     "name": "stdout",
     "output_type": "stream",
     "text": [
      "고객님의 대기번호는 3번입니다.\n",
      "3번 고객님 대기해주세요\n",
      "3번 고객님 호출하였습니다.\n"
     ]
    }
   ],
   "source": [
    "print(\"고객님의 대기번호는 3번입니다.\")\n",
    "print(\"3번 고객님 대기해주세요\")\n",
    "print(\"3번 고객님 호출하였습니다.\")"
   ]
  },
  {
   "cell_type": "markdown",
   "id": "a0714692",
   "metadata": {},
   "source": [
    "이러한 예시가 있다고 하였을 때,\n",
    "\n",
    "3이라는 숫자가 아니라 5번이라고 하였을 때 수정을 해주려면 나온 횟수만큼 수정해야합니다.\n",
    "\n",
    "변수로 지정을 하면 이러한 일을 한번 수정함으로서 **유지보수를 편리**하게 할 수 있는 장점이 있습니다."
   ]
  },
  {
   "cell_type": "code",
   "execution_count": 2,
   "id": "17ed32ec",
   "metadata": {},
   "outputs": [
    {
     "name": "stdout",
     "output_type": "stream",
     "text": [
      "고객님의 대기번호는 3번입니다.\n",
      "3번 고객님 대기해주세요\n",
      "3번 고객님 호출하였습니다.\n"
     ]
    }
   ],
   "source": [
    "number = 3\n",
    "\n",
    "print(f\"고객님의 대기번호는 {number}번입니다.\")\n",
    "print(f\"{number}번 고객님 대기해주세요\")\n",
    "print(f\"{number}번 고객님 호출하였습니다.\")"
   ]
  },
  {
   "cell_type": "markdown",
   "id": "e71352c7",
   "metadata": {},
   "source": [
    "```python\n",
    "number = 3\n",
    "```\n",
    "\n",
    "number라는 변수값에 3이라는 값을 **할당**했다고 합니다.\n"
   ]
  },
  {
   "cell_type": "markdown",
   "id": "5b552254",
   "metadata": {},
   "source": [
    "따옴표 앞에 `f`라는 글자가 들어가서 당황스러우시죠.\n",
    "\n",
    "## f-string\n",
    "\n",
    "f를 쓴 이유는 **f-string**이라고 하여서 파이썬 3.6버전 이상에서 지원하고 문자 포맷팅 방식입니다.\n",
    "\n",
    "따옴표 앞에 f를 써주고 중괄호(`{}`)안에 해당 변수를 사용하여 편리하게 문자 포맷으로 진행할 수 있습니다.\n",
    "\n",
    "이 문자 포맷팅을 해주는 이유는 숫자 + 문자열을 해보면 알 수 있습니다.\n",
    "\n",
    "```python\n",
    "print(3 + \"번 고객님 대기해주세요\")\n",
    "```\n",
    "\n",
    "이렇게 작성할 경우\n",
    "\n",
    "```bash\n",
    "TypeError: unsupported operand type(s) for +: 'int' and 'str'\n",
    "```\n",
    "에러를 보실 수 있습니다."
   ]
  },
  {
   "cell_type": "code",
   "execution_count": 3,
   "id": "02b738c5",
   "metadata": {},
   "outputs": [
    {
     "name": "stdout",
     "output_type": "stream",
     "text": [
      "확인\n"
     ]
    }
   ],
   "source": [
    "# 이러한 경우 어떠한 값이 출력될까요?\n",
    "\n",
    "value = 3\n",
    "\n",
    "value = \"확인\"\n",
    "\n",
    "print(value)"
   ]
  },
  {
   "cell_type": "markdown",
   "id": "782b8b46",
   "metadata": {},
   "source": [
    "## 변수 명명규칙\n",
    "\n",
    "1. 영문자와 숫자, _만 사용할 수 있습니다.\n",
    "\n",
    "    - 한글도 사용은 가능하나, 영어 사용을 권장합니다.\n",
    "    \n",
    "    - _이외의 특수문자는 사용할 수 없습니다.\n",
    "\n",
    "\n",
    "2. 변수명에 공백이 들어가면 안됩니다.\n",
    "\n",
    "3. 대소문자를 구분합니다.\n",
    "\n",
    "4. 문자나 _부터 시작해야합니다.\n",
    "\n",
    "5. Python 키워드는 사용할 수 없습니다."
   ]
  },
  {
   "cell_type": "code",
   "execution_count": 4,
   "id": "5c4f208c",
   "metadata": {},
   "outputs": [
    {
     "name": "stdout",
     "output_type": "stream",
     "text": [
      "['False', 'None', 'True', 'and', 'as', 'assert', 'async', 'await', 'break', 'class', 'continue', 'def', 'del', 'elif', 'else', 'except', 'finally', 'for', 'from', 'global', 'if', 'import', 'in', 'is', 'lambda', 'nonlocal', 'not', 'or', 'pass', 'raise', 'return', 'try', 'while', 'with', 'yield']\n"
     ]
    }
   ],
   "source": [
    "# python keyword\n",
    "import keyword\n",
    "\n",
    "print(keyword.kwlist)"
   ]
  },
  {
   "cell_type": "code",
   "execution_count": 5,
   "id": "18ac23c4",
   "metadata": {},
   "outputs": [
    {
     "ename": "TypeError",
     "evalue": "'int' object is not callable",
     "output_type": "error",
     "traceback": [
      "\u001b[1;31m---------------------------------------------------------------------------\u001b[0m",
      "\u001b[1;31mTypeError\u001b[0m                                 Traceback (most recent call last)",
      "\u001b[1;32m<ipython-input-5-6ae2b7bd0a8d>\u001b[0m in \u001b[0;36m<module>\u001b[1;34m\u001b[0m\n\u001b[0;32m      1\u001b[0m \u001b[1;31m# 함수 이름을 변수로 사용하면 벌어지는 일\u001b[0m\u001b[1;33m\u001b[0m\u001b[1;33m\u001b[0m\u001b[1;33m\u001b[0m\u001b[0m\n\u001b[0;32m      2\u001b[0m \u001b[0mprint\u001b[0m \u001b[1;33m=\u001b[0m \u001b[1;36m5\u001b[0m\u001b[1;33m\u001b[0m\u001b[1;33m\u001b[0m\u001b[0m\n\u001b[1;32m----> 3\u001b[1;33m \u001b[0mprint\u001b[0m\u001b[1;33m(\u001b[0m\u001b[0mprint\u001b[0m\u001b[1;33m)\u001b[0m\u001b[1;33m\u001b[0m\u001b[1;33m\u001b[0m\u001b[0m\n\u001b[0m",
      "\u001b[1;31mTypeError\u001b[0m: 'int' object is not callable"
     ]
    }
   ],
   "source": [
    "# 함수 이름을 변수로 사용하면 벌어지는 일\n",
    "print = 5\n",
    "print(print)"
   ]
  },
  {
   "cell_type": "code",
   "execution_count": 6,
   "id": "b09a6f4c",
   "metadata": {},
   "outputs": [
    {
     "name": "stdout",
     "output_type": "stream",
     "text": [
      "확인\n"
     ]
    }
   ],
   "source": [
    "# 이를 해결하기 위해서 `del` 함수를 통해 변수를 지워주고 사용할 수 있다.\n",
    "# (del은 delete의 줄인말을 쓴 내장함수)\n",
    "del print\n",
    "print(\"확인\")"
   ]
  },
  {
   "cell_type": "code",
   "execution_count": 7,
   "id": "8535eb1b",
   "metadata": {},
   "outputs": [
    {
     "name": "stdout",
     "output_type": "stream",
     "text": [
      "3 5\n",
      "x의 값은 3\n",
      "y의 값은 5\n"
     ]
    }
   ],
   "source": [
    "x, y = 3, 5\n",
    "print(x, y)\n",
    "print(f\"x의 값은 {x}\")\n",
    "print(f\"y의 값은 {y}\")"
   ]
  },
  {
   "cell_type": "code",
   "execution_count": 8,
   "id": "1e1eb8d8",
   "metadata": {},
   "outputs": [
    {
     "name": "stdout",
     "output_type": "stream",
     "text": [
      "(3, 5, 7)\n"
     ]
    }
   ],
   "source": [
    "x = 3, 5, 7\n",
    "print(x)"
   ]
  },
  {
   "cell_type": "markdown",
   "id": "a40f051a",
   "metadata": {},
   "source": [
    "이와 같이 변수명을 `,`을 이용해서 나뉜다음에 값을 앞에 변수 갯수만큼 써주게 된다면 순서대로 값이 들어가게 됩니다.\n",
    "\n",
    "추후 심화과정으로 다루겠지만 `x = 3, 5, 7`이 성립할 수 있는 것은 **tuple(튜플)**로 들어가기에 가능합니다.\n",
    "\n",
    "이렇게 하나의 변수에 여러 개의 값이 들어가는 것을 **Packing(패킹)**이라 표현합니다.\n",
    "\n",
    "반대로 여러개의 값이 하나로 묶여있는 것을 여러 변수에 풀어주는 것은 **UnPacking(언패킹)**이라고 합니다.\n",
    "\n",
    "해당 개념은 심화 내용에서 다룰 주제이기에 간단하게 이런게 되구나 하시면 됩니다."
   ]
  },
  {
   "cell_type": "code",
   "execution_count": 9,
   "id": "ef12be07",
   "metadata": {},
   "outputs": [
    {
     "name": "stdout",
     "output_type": "stream",
     "text": [
      "a의 값은 3\n",
      "b의 값은 5\n",
      "c의 값은 7\n"
     ]
    }
   ],
   "source": [
    "a, b, c = x # x = 3, 5, 7\n",
    "print(f\"a의 값은 {a}\")\n",
    "print(f\"b의 값은 {b}\")\n",
    "print(f\"c의 값은 {c}\")"
   ]
  },
  {
   "cell_type": "markdown",
   "id": "bf6274ff",
   "metadata": {},
   "source": [
    "## import\n",
    "\n",
    "모듈을 가져올 때 사용\n",
    "\n",
    "사용법은 크게 2가지로 나뉩니다.\n",
    "\n",
    "1. import 모듈\n",
    "\n",
    "2. from 모듈 import 변수나 함수\n",
    "\n",
    "모듈이란 쉽게 표현하면, 코드 박스라고 보면 됩니다.\n",
    "\n",
    "흔히, 라이브러리라고도 합니다.\n",
    "\n",
    "import를 통하여 완성된 코드을 가지고 와서 사용할 수 있습니다.\n",
    "\n",
    "다른 개발자들이 만든 코드를 설치하여 불러올 수도 있으며,\n",
    "\n",
    "개발자 본인이 작성하여 가져와서 사용합니다."
   ]
  },
  {
   "cell_type": "markdown",
   "id": "6ee575c6",
   "metadata": {},
   "source": [
    "**라이브러리 별칭**\n",
    "\n",
    "인공지능을 사용하면서 자주 사용하는 라이브러리들이 있습니다.\n",
    "\n",
    "tensorflow와 numpy, pandas라는 라이브러리를 주로 사용합니다."
   ]
  },
  {
   "cell_type": "code",
   "execution_count": 10,
   "id": "8893eaa5",
   "metadata": {},
   "outputs": [
    {
     "ename": "ModuleNotFoundError",
     "evalue": "No module named 'tensorflow'",
     "output_type": "error",
     "traceback": [
      "\u001b[1;31m---------------------------------------------------------------------------\u001b[0m",
      "\u001b[1;31mModuleNotFoundError\u001b[0m                       Traceback (most recent call last)",
      "\u001b[1;32m<ipython-input-10-49c6782319ca>\u001b[0m in \u001b[0;36m<module>\u001b[1;34m\u001b[0m\n\u001b[1;32m----> 1\u001b[1;33m \u001b[1;32mimport\u001b[0m \u001b[0mtensorflow\u001b[0m \u001b[1;32mas\u001b[0m \u001b[0mtf\u001b[0m\u001b[1;33m\u001b[0m\u001b[1;33m\u001b[0m\u001b[0m\n\u001b[0m\u001b[0;32m      2\u001b[0m \u001b[1;32mimport\u001b[0m \u001b[0mnumpy\u001b[0m \u001b[1;32mas\u001b[0m \u001b[0mnp\u001b[0m\u001b[1;33m\u001b[0m\u001b[1;33m\u001b[0m\u001b[0m\n\u001b[0;32m      3\u001b[0m \u001b[1;32mimport\u001b[0m \u001b[0mpandas\u001b[0m \u001b[1;32mas\u001b[0m \u001b[0mpd\u001b[0m\u001b[1;33m\u001b[0m\u001b[1;33m\u001b[0m\u001b[0m\n\u001b[0;32m      4\u001b[0m \u001b[1;33m\u001b[0m\u001b[0m\n\u001b[0;32m      5\u001b[0m \u001b[1;31m# 외부 라이브러리이기에 다운받지 않고 사용하면 ModuleNotFoundError\u001b[0m\u001b[1;33m\u001b[0m\u001b[1;33m\u001b[0m\u001b[1;33m\u001b[0m\u001b[0m\n",
      "\u001b[1;31mModuleNotFoundError\u001b[0m: No module named 'tensorflow'"
     ]
    }
   ],
   "source": [
    "import tensorflow as tf\n",
    "import numpy as np\n",
    "import pandas as pd\n",
    "\n",
    "# 외부 라이브러리이기에 다운받지 않고 사용하면 ModuleNotFoundError"
   ]
  },
  {
   "cell_type": "markdown",
   "id": "206b56d3",
   "metadata": {},
   "source": [
    "<hr/>\n",
    "*1.모듈: 파이썬 코드를 논리적으로 묶어서 관리하고 사용할 수 있도록 하는 것으로, 보통 하나의 파이썬 `.py`파일이 하나의 모듈이 됩니다. 모듈 안에는 함수, 클래스, 변수들이 정의될 수 있으며, 실행 코드를 포함할 수도 있습니다."
   ]
  }
 ],
 "metadata": {
  "kernelspec": {
   "display_name": "Python 3",
   "language": "python",
   "name": "python3"
  },
  "language_info": {
   "codemirror_mode": {
    "name": "ipython",
    "version": 3
   },
   "file_extension": ".py",
   "mimetype": "text/x-python",
   "name": "python",
   "nbconvert_exporter": "python",
   "pygments_lexer": "ipython3",
   "version": "3.8.8"
  }
 },
 "nbformat": 4,
 "nbformat_minor": 5
}
