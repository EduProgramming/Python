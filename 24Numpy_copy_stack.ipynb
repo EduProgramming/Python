{
 "cells": [
  {
   "cell_type": "markdown",
   "metadata": {},
   "source": [
    "# Numpy\n"
   ]
  },
  {
   "cell_type": "markdown",
   "metadata": {},
   "source": [
    "## 배열 얕은 복사, 깊은 복사\n",
    "\n",
    "### 1. 얕은 복사\n",
    "\n",
    "얕은 복사 방식은 새로운 객체를 복사를 하여 서로 다른 주소를 갖지만 동일한 데이터를 보고 있기 때문에 복사한 데이터를 변경하여도 이전의 데이터의 값도 변경됩니다.\n",
    "\n",
    "`view 함수`"
   ]
  },
  {
   "cell_type": "code",
   "execution_count": 1,
   "metadata": {},
   "outputs": [
    {
     "name": "stdout",
     "output_type": "stream",
     "text": [
      "데이터 변경전: [1 2 3 4 5]\n",
      "데이터 변경후: [1 2 7 4 5]\n",
      "원본 데이터: [1 2 7 4 5]\n",
      "복사 데이터 주소: 2973808754288\n",
      "원본 데이터 주소: 2973809431728\n"
     ]
    }
   ],
   "source": [
    "import numpy as np\n",
    "\n",
    "arr = np.array([1,2,3,4,5])\n",
    "\n",
    "copy_arr = arr.view()\n",
    "print(f\"데이터 변경전: {copy_arr}\")\n",
    "\n",
    "copy_arr[2] = 7\n",
    "print(f\"데이터 변경후: {copy_arr}\")\n",
    "print(f\"원본 데이터: {arr}\")\n",
    "\n",
    "# 주소값 확인\n",
    "print(\"복사 데이터 주소:\", id(copy_arr))\n",
    "print(\"원본 데이터 주소:\", id(arr))"
   ]
  },
  {
   "cell_type": "markdown",
   "metadata": {},
   "source": [
    "### 2. 깊은 복사\n",
    "\n",
    "깊은 복사 방식은 완전히 다른 복사본을 만드는 방식입니다.\n",
    "\n",
    "깊은 복사를 했을 때 복사 데이터를 변경하여도 원본 데이터가 변경되지 않습니다."
   ]
  },
  {
   "cell_type": "code",
   "execution_count": 2,
   "metadata": {},
   "outputs": [
    {
     "name": "stdout",
     "output_type": "stream",
     "text": [
      "데이터 변경전: [1 2 3 4 5]\n",
      "데이터 변경후: [1 2 7 4 5]\n",
      "원본 데이터: [1 2 3 4 5]\n",
      "복사 데이터 주소: 2973813831600\n",
      "원본 데이터 주소: 2973813831504\n"
     ]
    }
   ],
   "source": [
    "arr = np.array([1,2,3,4,5])\n",
    "\n",
    "copy_arr = arr.copy()\n",
    "print(f\"데이터 변경전: {copy_arr}\")\n",
    "\n",
    "copy_arr[2] = 7\n",
    "print(f\"데이터 변경후: {copy_arr}\")\n",
    "print(f\"원본 데이터: {arr}\")\n",
    "\n",
    "# 주소값 확인\n",
    "print(\"복사 데이터 주소:\", id(copy_arr))\n",
    "print(\"원본 데이터 주소:\", id(arr))"
   ]
  },
  {
   "cell_type": "markdown",
   "metadata": {},
   "source": [
    "## 배열 쌓기\n",
    "\n",
    "stack을 통해서 쌓을 수 있습니다.\n",
    "\n",
    "세로로 쌓는 것은 `vstack`, 가로로 쌓는 것은 `hstack`입니다.\n",
    "\n",
    "v는 vertically의 축약이며, h는 horizontally의 축약입니다."
   ]
  },
  {
   "cell_type": "markdown",
   "metadata": {},
   "source": [
    "### 1. np.vstack()\n",
    "\n",
    "두 배열 이상을 세로로 쌓아 새로운 하나의 배열을 만들어 줍니다.\n",
    "\n",
    "`numpy.vstack(tuple)`\n",
    "\n",
    "인자로는 ndarray의 tuple이나 리스트가 되고, 배열은 첫 번째 축을 제외하고 모두 동일한 모양이어야 하며, 1차원 배열은 길이가 같아야 합니다."
   ]
  },
  {
   "cell_type": "code",
   "execution_count": 3,
   "metadata": {},
   "outputs": [
    {
     "name": "stdout",
     "output_type": "stream",
     "text": [
      "[[0 1 2]\n",
      " [3 4 5]\n",
      " [4 3 5]\n",
      " [3 3 3]\n",
      " [4 4 4]\n",
      " [5 5 5]]\n"
     ]
    }
   ],
   "source": [
    "arr1 = np.arange(2*3).reshape(2, 3)\n",
    "arr2 = np.array([[4,3,5]])\n",
    "arr3 = np.array([[3,3,3], [4,4,4], [5,5,5]])\n",
    "\n",
    "result = np.vstack([arr1, arr2, arr3])\n",
    "print(result)"
   ]
  },
  {
   "cell_type": "markdown",
   "metadata": {},
   "source": [
    "### np.hstack()\n",
    "\n",
    "두 배열 이상을 가로로 쌓아 하나의 배열을 만들어 줍니다.\n",
    "\n",
    "`numpy.hstack(tuple)`\n",
    "\n",
    "인자로는 ndarray의 tuple이나 리스트가 되고, 배열은 두 번째 축을 제외하고 모두 동일한 모양이어야 하며, 1차원 배열은 길이가 같지 않아도 됩니다."
   ]
  },
  {
   "cell_type": "code",
   "execution_count": 4,
   "metadata": {},
   "outputs": [
    {
     "name": "stdout",
     "output_type": "stream",
     "text": [
      "[[0 1 2 4 3 3 3]\n",
      " [3 4 5 3 4 4 4]]\n"
     ]
    }
   ],
   "source": [
    "arr1 = np.arange(2*3).reshape(2, 3)\n",
    "arr2 = np.array([[4], [3]])\n",
    "arr3 = np.array([[3,3,3],[4,4,4]])\n",
    "\n",
    "result = np.hstack([arr1, arr2, arr3])\n",
    "print(result)"
   ]
  },
  {
   "cell_type": "markdown",
   "metadata": {},
   "source": [
    "## 배열 쪼개기\n",
    "\n",
    "split을 통하여 분할할 수 있습니다."
   ]
  },
  {
   "cell_type": "markdown",
   "metadata": {},
   "source": [
    "### 1. np.vsplit()\n",
    "\n",
    "배열을 세로로 나누어 여러 하위 배열로 분할합니다. (행방향)\n",
    "\n",
    "`numpy.vsplit(array, indices_or_sections)`\n",
    "\n",
    "> array: 원본 배열\n",
    ">\n",
    "> indices_or_sections: int 또는 나누고 싶은 행들 입력"
   ]
  },
  {
   "cell_type": "code",
   "execution_count": 5,
   "metadata": {},
   "outputs": [
    {
     "name": "stdout",
     "output_type": "stream",
     "text": [
      "ARR1:\n",
      "[[0 1 2 3]\n",
      " [4 5 6 7]]\n",
      "\n",
      "ARR2:\n",
      "[[ 8  9 10 11]\n",
      " [12 13 14 15]]\n",
      "\n",
      "ARR3:\n",
      "[[16 17 18 19]\n",
      " [20 21 22 23]]\n",
      "\n"
     ]
    }
   ],
   "source": [
    "arr = np.arange(6 * 4).reshape(6, 4)\n",
    "\n",
    "arr1, arr2, arr3 = np.vsplit(arr, 3)\n",
    "print(f\"ARR1:\\n{arr1}\\n\")\n",
    "print(f\"ARR2:\\n{arr2}\\n\")\n",
    "print(f\"ARR3:\\n{arr3}\\n\")"
   ]
  },
  {
   "cell_type": "code",
   "execution_count": 6,
   "metadata": {},
   "outputs": [
    {
     "name": "stdout",
     "output_type": "stream",
     "text": [
      "[[ 0  1  2  3]\n",
      " [ 4  5  6  7]\n",
      " [ 8  9 10 11]\n",
      " [12 13 14 15]\n",
      " [16 17 18 19]\n",
      " [20 21 22 23]]\n",
      "ARR1:\n",
      "[[0 1 2 3]\n",
      " [4 5 6 7]]\n",
      "\n",
      "ARR2:\n",
      "[[ 8  9 10 11]\n",
      " [12 13 14 15]\n",
      " [16 17 18 19]]\n",
      "\n",
      "ARR3:\n",
      "[[20 21 22 23]]\n",
      "\n"
     ]
    }
   ],
   "source": [
    "# 나누고 싶은 행 지정하여 나누기\n",
    "\n",
    "arr = np.arange(6 * 4).reshape(6, 4)\n",
    "\n",
    "print(arr)\n",
    "\n",
    "arr1, arr2, arr3, arr4 = np.vsplit(arr, (2,5,6))\n",
    "print(f\"ARR1:\\n{arr1}\\n\")\n",
    "print(f\"ARR2:\\n{arr2}\\n\")\n",
    "print(f\"ARR3:\\n{arr3}\\n\")"
   ]
  },
  {
   "cell_type": "markdown",
   "metadata": {},
   "source": [
    "### 2. np.hsplit()\n",
    "\n",
    "배열을 가로로 나누어 여러 하위 배열로 분할합니다. (열방향)\n",
    "\n",
    "`numpy.hsplit(array, indices_or_sections)`\n",
    "\n",
    "> array: 원본 배열\n",
    ">\n",
    "> indices_or_sections: int 또는 나누고 싶은 행들 입력\n",
    "\n",
    "방향만 다르기에 예제는 생략하겠습니다."
   ]
  }
 ],
 "metadata": {
  "kernelspec": {
   "display_name": "Python 3",
   "language": "python",
   "name": "python3"
  },
  "language_info": {
   "codemirror_mode": {
    "name": "ipython",
    "version": 3
   },
   "file_extension": ".py",
   "mimetype": "text/x-python",
   "name": "python",
   "nbconvert_exporter": "python",
   "pygments_lexer": "ipython3",
   "version": "3.7.7"
  }
 },
 "nbformat": 4,
 "nbformat_minor": 5
}
