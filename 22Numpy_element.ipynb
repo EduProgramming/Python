{
 "cells": [
  {
   "cell_type": "markdown",
   "metadata": {},
   "source": [
    "# 배열의 원소\n",
    "\n",
    "## 원소 정렬, 추가, 제거\n",
    "\n",
    "### 1. 정렬\n",
    "\n",
    "#### - sort()\n",
    "\n",
    "기본으로 정렬은 오름차순이 됩니다.\n",
    "\n",
    "- `np.sort()`: 원본 행렬 그대로 유지하고 정렬된 행렬값 반환   (->Python에서의 sorted와 유사)\n",
    "\n",
    "- `ndarray.sort()`: 원본 행렬을 정렬하고 반환값 None   (-> Python에서의 sort와 유사)"
   ]
  },
  {
   "cell_type": "code",
   "execution_count": 1,
   "metadata": {},
   "outputs": [
    {
     "name": "stdout",
     "output_type": "stream",
     "text": [
      "정렬 전: [2 5 3 1 7 5 9 0]\n",
      "정렬 후: [0 1 2 3 5 5 7 9]\n",
      "내림차순: [9 7 5 5 3 2 1 0]\n"
     ]
    }
   ],
   "source": [
    "import numpy as np\n",
    "\n",
    "data = [2,5,3,1,7,5,9,0]\n",
    "arr = np.array(data)\n",
    "print(f\"정렬 전: {arr}\")\n",
    "\n",
    "arr = np.sort(arr)\n",
    "print(f\"정렬 후: {arr}\")\n",
    "\n",
    "# 내림차순\n",
    "print(f\"내림차순: {arr[::-1]}\")"
   ]
  },
  {
   "cell_type": "code",
   "execution_count": 2,
   "metadata": {},
   "outputs": [
    {
     "name": "stdout",
     "output_type": "stream",
     "text": [
      "[[5 1 3]\n",
      " [2 6 4]]\n",
      "[[1 3 5]\n",
      " [2 4 6]]\n",
      "==================\n",
      "[[5 1 3]\n",
      " [2 6 4]]\n",
      "==================\n",
      "[[1 3 5]\n",
      " [2 4 6]]\n",
      "[[2 1 3]\n",
      " [5 6 4]]\n"
     ]
    }
   ],
   "source": [
    "# 2차원 배열에서 sort()\n",
    "data = [[5,1,3], [2,6,4]]\n",
    "array = np.array(data)\n",
    "print(array)\n",
    "sort_array = np.sort(array)\n",
    "print(sort_array)\n",
    "\n",
    "# 2차원 배열 - axis정렬\n",
    "print(\"==================\")\n",
    "print(array)\n",
    "print(\"==================\")\n",
    "print(np.sort(array, axis=1)) #axis1에 대한 정렬\n",
    "print(np.sort(array, axis=0)) #axis0에 대한 정렬"
   ]
  },
  {
   "cell_type": "markdown",
   "metadata": {},
   "source": [
    "### 2. 원소 추가\n",
    "\n",
    "#### - concatenate()\n",
    "\n",
    "2개 이상의 배열을 이어 붙여서 하나로 합칠 수 있습니다.\n",
    "\n",
    "`np.concatenate((arr1, arr2, ...), axis=0, out=None)`\n",
    "\n",
    "axis: [선택사항] 배열이 결합되는 축. 축이 None이면 1차원 배열. default=0\n",
    "\n",
    "out: [선택사항] 결합된 배열의 출력 모양을 나타냄. 작성한 모양은 출력 배열과 동일해야 함\n",
    "\n"
   ]
  },
  {
   "cell_type": "code",
   "execution_count": 3,
   "metadata": {},
   "outputs": [
    {
     "name": "stdout",
     "output_type": "stream",
     "text": [
      "[1 2 3 4 5 6]\n"
     ]
    }
   ],
   "source": [
    "arr1 = np.array([1,2,3])\n",
    "arr2 = np.array([4,5,6])\n",
    "\n",
    "arr = np.concatenate((arr1, arr2), axis=0)\n",
    "print(arr)"
   ]
  },
  {
   "cell_type": "code",
   "execution_count": 4,
   "metadata": {},
   "outputs": [
    {
     "name": "stdout",
     "output_type": "stream",
     "text": [
      "[[5 1 3]\n",
      " [2 6 4]\n",
      " [2 3 4]\n",
      " [4 5 6]]\n",
      "==========================\n",
      "[[5 1 3 2 3 4]\n",
      " [2 6 4 4 5 6]]\n",
      "==========================\n"
     ]
    }
   ],
   "source": [
    "data1 = [[5,1,3], [2,6,4]]\n",
    "data2 = [[2,3,4], [4,5,6]]\n",
    "\n",
    "arr1 = np.array(data1)\n",
    "arr2 = np.array(data2)\n",
    "\n",
    "print(np.concatenate((arr1, arr2)))\n",
    "print(\"==========================\")\n",
    "print(np.concatenate((arr1, arr2), axis=1))\n",
    "print(\"==========================\")\n",
    "\n",
    "\n",
    "data1 = [[5,1,3], [2,6,4]]\n",
    "data2 = [[2,3,4], [4,5,6], [5,4,3]]\n",
    "\n",
    "arr1 = np.array(data1)\n",
    "arr2 = np.array(data2)\n",
    "\n",
    "# 크기 주의할 점 (크기가 맞아야 합쳐짐)\n",
    "# print(np.concatenate((arr1, arr2), axis=1))\n",
    "# print(\"==========================\")"
   ]
  },
  {
   "cell_type": "markdown",
   "metadata": {},
   "source": [
    "### 3. 원소 제거\n",
    "\n",
    "#### - delete()\n",
    "\n",
    "`np.delete(arr, obj, axis=None)` 축을 따라 하위 배열이 삭제된 새 배열을 반환\n",
    "\n",
    "obj: 슬라이스, 정수 또는 정수 배열. 지정된 축을 따라 제거할 하위 배열의 인덱스\n",
    "\n",
    "axis: [선택사항] default=None"
   ]
  },
  {
   "cell_type": "code",
   "execution_count": 5,
   "metadata": {},
   "outputs": [
    {
     "name": "stdout",
     "output_type": "stream",
     "text": [
      "삭제 이전\n",
      "[[5 1 3]\n",
      " [2 6 4]]\n",
      "삭제 이후\n",
      "[5 3 2 6 4]\n"
     ]
    }
   ],
   "source": [
    "data = [[5,1,3], [2,6,4]]\n",
    "arr = np.array(data)\n",
    "\n",
    "print(f\"삭제 이전\\n{arr}\")\n",
    "\n",
    "arr = np.delete(arr, 1) # axis을 어떻게 주느냐에 따라 결과가 달라짐 / 줄때 안줄때\n",
    "\n",
    "print(f\"삭제 이후\\n{arr}\")"
   ]
  },
  {
   "cell_type": "code",
   "execution_count": 6,
   "metadata": {},
   "outputs": [
    {
     "name": "stdout",
     "output_type": "stream",
     "text": [
      "삭제 이전\n",
      "[[5 1 3]\n",
      " [2 6 4]\n",
      " [2 3 4]\n",
      " [4 5 6]]\n",
      "삭제 이후\n",
      "[5 3 2 6 4 2 3 4 4 5 6]\n"
     ]
    }
   ],
   "source": [
    "data1 = [[5,1,3], [2,6,4]]\n",
    "data2 = [[2,3,4], [4,5,6]]\n",
    "\n",
    "arr1 = np.array(data1)\n",
    "arr2 = np.array(data2)\n",
    "\n",
    "arr =np.concatenate((arr1, arr2))\n",
    "\n",
    "print(f\"삭제 이전\\n{arr}\")\n",
    "\n",
    "arr = np.delete(arr, 1) # axis을 어떻게 주느냐에 따라 결과가 달라짐 / 줄때 안줄때\n",
    "\n",
    "print(f\"삭제 이후\\n{arr}\")"
   ]
  },
  {
   "cell_type": "markdown",
   "metadata": {},
   "source": [
    "## 배열의 사칙연산\n",
    "\n",
    "배열의 덧셈/뺄셈은 같은 위치에 있는 것끼리 덧셈/뺄셈이 이뤄집니다."
   ]
  },
  {
   "cell_type": "code",
   "execution_count": 7,
   "metadata": {},
   "outputs": [
    {
     "name": "stdout",
     "output_type": "stream",
     "text": [
      "[5 7 9]\n",
      "[[5 7 9]\n",
      " [1 3 5]]\n"
     ]
    }
   ],
   "source": [
    "arr1 = np.array([1, 2, 3])\n",
    "arr2 = np.array([4, 5, 6])\n",
    "\n",
    "print(arr1 + arr2) # 같은 위치의 데이터만 산술연산됨\n",
    "\n",
    "arr1 = np.array([[1,2,3], [4,5,6]])\n",
    "arr2 = np.array([[4,5,6], [-3,-2,-1]])\n",
    "\n",
    "print(arr1 + arr2)"
   ]
  },
  {
   "cell_type": "code",
   "execution_count": 8,
   "metadata": {},
   "outputs": [
    {
     "name": "stdout",
     "output_type": "stream",
     "text": [
      "[-3 -3 -3]\n",
      "[[-3 -3 -3]\n",
      " [ 7  7  7]]\n"
     ]
    }
   ],
   "source": [
    "arr1 = np.array([1, 2, 3])\n",
    "arr2 = np.array([4, 5, 6])\n",
    "\n",
    "print(arr1 - arr2)\n",
    "\n",
    "arr1 = np.array([[1,2,3], [4,5,6]])\n",
    "arr2 = np.array([[4,5,6], [-3,-2,-1]])\n",
    "\n",
    "print(arr1 - arr2)"
   ]
  },
  {
   "cell_type": "code",
   "execution_count": 9,
   "metadata": {},
   "outputs": [
    {
     "name": "stdout",
     "output_type": "stream",
     "text": [
      "[ 4 10 18]\n",
      "[[  4  10  18]\n",
      " [-12 -10  -6]]\n"
     ]
    }
   ],
   "source": [
    "arr1 = np.array([1, 2, 3])\n",
    "arr2 = np.array([4, 5, 6])\n",
    "\n",
    "print(arr1 * arr2)\n",
    "\n",
    "arr1 = np.array([[1,2,3], [4,5,6]])\n",
    "arr2 = np.array([[4,5,6], [-3,-2,-1]])\n",
    "\n",
    "print(arr1 * arr2)"
   ]
  },
  {
   "cell_type": "code",
   "execution_count": 10,
   "metadata": {},
   "outputs": [
    {
     "name": "stdout",
     "output_type": "stream",
     "text": [
      "[0.25 0.4  0.5 ]\n",
      "[[ 0.25        0.4         0.5       ]\n",
      " [-1.33333333 -2.5        -6.        ]]\n"
     ]
    }
   ],
   "source": [
    "arr1 = np.array([1, 2, 3])\n",
    "arr2 = np.array([4, 5, 6])\n",
    "\n",
    "print(arr1 / arr2)\n",
    "\n",
    "arr1 = np.array([[1,2,3], [4,5,6]])\n",
    "arr2 = np.array([[4,5,6], [-3,-2,-1]])\n",
    "\n",
    "print(arr1 / arr2)"
   ]
  },
  {
   "cell_type": "markdown",
   "metadata": {},
   "source": [
    "위와 같이 덧셈, 뺄셈 뿐만이 아니라 사칙연산에 대해서 동일하게 작용하는 것을 알 수 있습니다.\n",
    "\n",
    "`*`는 행렬곱이 아닌 원소끼리의 사칙연산이라는 것을 알 수 있습니다."
   ]
  }
 ],
 "metadata": {
  "kernelspec": {
   "display_name": "Python 3",
   "language": "python",
   "name": "python3"
  },
  "language_info": {
   "codemirror_mode": {
    "name": "ipython",
    "version": 3
   },
   "file_extension": ".py",
   "mimetype": "text/x-python",
   "name": "python",
   "nbconvert_exporter": "python",
   "pygments_lexer": "ipython3",
   "version": "3.7.7"
  }
 },
 "nbformat": 4,
 "nbformat_minor": 5
}
