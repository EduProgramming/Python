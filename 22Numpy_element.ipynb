{
 "cells": [
  {
   "cell_type": "markdown",
   "id": "bb1fcde8",
   "metadata": {},
   "source": [
    "# 배열의 원소\n",
    "\n",
    "## 원소 정렬, 추가, 제거\n",
    "\n",
    "### 1. 정렬\n",
    "\n",
    "#### - sort()\n",
    "\n",
    "기본으로 정렬은 오름차순이 됩니다."
   ]
  },
  {
   "cell_type": "code",
   "execution_count": 1,
   "id": "cdab3958",
   "metadata": {},
   "outputs": [
    {
     "name": "stdout",
     "output_type": "stream",
     "text": [
      "정렬 전: [2 5 3 1 7 5 9 0]\n",
      "정렬 후: [0 1 2 3 5 5 7 9]\n",
      "내림차순: [9 7 5 5 3 2 1 0]\n"
     ]
    }
   ],
   "source": [
    "import numpy as np\n",
    "\n",
    "data = [2,5,3,1,7,5,9,0]\n",
    "arr = np.array(data)\n",
    "print(f\"정렬 전: {arr}\")\n",
    "\n",
    "arr = np.sort(arr)\n",
    "print(f\"정렬 후: {arr}\")\n",
    "\n",
    "# 내림차순\n",
    "print(f\"내림차순: {arr[::-1]}\")"
   ]
  },
  {
   "cell_type": "code",
   "execution_count": 2,
   "id": "46ccd7fb",
   "metadata": {},
   "outputs": [
    {
     "name": "stdout",
     "output_type": "stream",
     "text": [
      "[[5 1 3]\n",
      " [2 6 4]]\n",
      "[[1 3 5]\n",
      " [2 4 6]]\n",
      "[[5 1 3]\n",
      " [2 6 4]]\n",
      "[[1 3 5]\n",
      " [2 4 6]]\n",
      "[[2 1 3]\n",
      " [5 6 4]]\n"
     ]
    }
   ],
   "source": [
    "# 2차원 배열에서 sort()\n",
    "data = [[5,1,3], [2,6,4]]\n",
    "array = np.array(data)\n",
    "print(array)\n",
    "sort_array = np.sort(array)\n",
    "print(sort_array)\n",
    "\n",
    "# 2차원 배열 - axis정렬\n",
    "print(array)\n",
    "print(np.sort(array, axis=1)) #axis1에 대한 정렬\n",
    "print(np.sort(array, axis=0)) #axis0에 대한 정렬"
   ]
  },
  {
   "cell_type": "markdown",
   "id": "173394aa",
   "metadata": {},
   "source": [
    "### 2. 원소 추가\n",
    "\n",
    "#### - concatenate()\n",
    "\n",
    "2개 이상의 배열을 이어 붙여서 하나로 합칠 수 있습니다.\n",
    "\n",
    "`np.concatenate((arr1, arr2, ...), axis=0, out=None)`\n",
    "\n",
    "axis: [선택사항] 배열이 결합되는 축. 축이 None이면 1차원 배열. default=0\n",
    "\n",
    "out: [선택사항] 결합된 배열의 출력 모양을 나타냄. 작성한 모양은 출력 배열과 동일해야 함\n",
    "\n"
   ]
  },
  {
   "cell_type": "code",
   "execution_count": 3,
   "id": "ae6dc8ed",
   "metadata": {},
   "outputs": [
    {
     "name": "stdout",
     "output_type": "stream",
     "text": [
      "[1 2 3 4 5 6]\n"
     ]
    }
   ],
   "source": [
    "arr1 = np.array([1,2,3])\n",
    "arr2 = np.array([4,5,6])\n",
    "\n",
    "arr = np.concatenate((arr1, arr2), axis=0)\n",
    "print(arr)"
   ]
  },
  {
   "cell_type": "markdown",
   "id": "628223a7",
   "metadata": {},
   "source": [
    "### 3. 원소 제거\n",
    "\n",
    "#### - delete()\n",
    "\n",
    "`np.delete(arr, obj, axis=None)` 축을 따라 하위 배열이 삭제된 새 배열을 반환\n",
    "\n",
    "obj: 슬라이스, 정수 또는 정수 배열. 지정된 축을 따라 제거할 하위 배열의 인덱스\n",
    "\n",
    "axis: [선택사항] default=None"
   ]
  },
  {
   "cell_type": "code",
   "execution_count": 4,
   "id": "580f061f",
   "metadata": {},
   "outputs": [
    {
     "name": "stdout",
     "output_type": "stream",
     "text": [
      "삭제 이전: [1 2 3 4 5 6]\n",
      "삭제 이후: [1 3 4 5 6]\n"
     ]
    }
   ],
   "source": [
    "print(f\"삭제 이전: {arr}\")\n",
    "\n",
    "arr = np.delete(arr, 1) # return method\n",
    "\n",
    "print(f\"삭제 이후: {arr}\")"
   ]
  },
  {
   "cell_type": "code",
   "execution_count": 5,
   "id": "bc8b17cd",
   "metadata": {},
   "outputs": [
    {
     "name": "stdout",
     "output_type": "stream",
     "text": [
      "삭제 이전: [1 2 3 4 5 6]\n",
      "삭제 이후: [1 3 6]\n"
     ]
    }
   ],
   "source": [
    "arr = np.array([1, 2, 3, 4, 5, 6])\n",
    "\n",
    "print(f\"삭제 이전: {arr}\")\n",
    "\n",
    "arr = np.delete(arr, [1, 3, 4]) # return method\n",
    "\n",
    "print(f\"삭제 이후: {arr}\")"
   ]
  },
  {
   "cell_type": "markdown",
   "id": "93c34edd",
   "metadata": {},
   "source": [
    "## 배열의 사칙연산\n",
    "\n",
    "배열의 덧셈/뺄셈은 같은 위치에 있는 것끼리 덧셈/뺄셈이 이뤄집니다."
   ]
  },
  {
   "cell_type": "code",
   "execution_count": 6,
   "id": "31b4d79c",
   "metadata": {},
   "outputs": [
    {
     "name": "stdout",
     "output_type": "stream",
     "text": [
      "[5 7 9]\n",
      "[[5 7 9]\n",
      " [1 3 5]]\n"
     ]
    }
   ],
   "source": [
    "arr1 = np.array([1, 2, 3])\n",
    "arr2 = np.array([4, 5, 6])\n",
    "\n",
    "print(arr1 + arr2)\n",
    "\n",
    "arr1 = np.array([[1,2,3], [4,5,6]])\n",
    "arr2 = np.array([[4,5,6], [-3,-2,-1]])\n",
    "\n",
    "print(arr1 + arr2)"
   ]
  },
  {
   "cell_type": "code",
   "execution_count": 7,
   "id": "ee696352",
   "metadata": {},
   "outputs": [
    {
     "name": "stdout",
     "output_type": "stream",
     "text": [
      "[-3 -3 -3]\n",
      "[[-3 -3 -3]\n",
      " [ 7  7  7]]\n"
     ]
    }
   ],
   "source": [
    "arr1 = np.array([1, 2, 3])\n",
    "arr2 = np.array([4, 5, 6])\n",
    "\n",
    "print(arr1 - arr2)\n",
    "\n",
    "arr1 = np.array([[1,2,3], [4,5,6]])\n",
    "arr2 = np.array([[4,5,6], [-3,-2,-1]])\n",
    "\n",
    "print(arr1 - arr2)"
   ]
  },
  {
   "cell_type": "code",
   "execution_count": 8,
   "id": "726e063c",
   "metadata": {},
   "outputs": [
    {
     "name": "stdout",
     "output_type": "stream",
     "text": [
      "[ 4 10 18]\n",
      "[[  4  10  18]\n",
      " [-12 -10  -6]]\n"
     ]
    }
   ],
   "source": [
    "arr1 = np.array([1, 2, 3])\n",
    "arr2 = np.array([4, 5, 6])\n",
    "\n",
    "print(arr1 * arr2)\n",
    "\n",
    "arr1 = np.array([[1,2,3], [4,5,6]])\n",
    "arr2 = np.array([[4,5,6], [-3,-2,-1]])\n",
    "\n",
    "print(arr1 * arr2)"
   ]
  },
  {
   "cell_type": "code",
   "execution_count": 9,
   "id": "f17be440",
   "metadata": {},
   "outputs": [
    {
     "name": "stdout",
     "output_type": "stream",
     "text": [
      "[0.25 0.4  0.5 ]\n",
      "[[ 0.25        0.4         0.5       ]\n",
      " [-1.33333333 -2.5        -6.        ]]\n"
     ]
    }
   ],
   "source": [
    "arr1 = np.array([1, 2, 3])\n",
    "arr2 = np.array([4, 5, 6])\n",
    "\n",
    "print(arr1 / arr2)\n",
    "\n",
    "arr1 = np.array([[1,2,3], [4,5,6]])\n",
    "arr2 = np.array([[4,5,6], [-3,-2,-1]])\n",
    "\n",
    "print(arr1 / arr2)"
   ]
  },
  {
   "cell_type": "markdown",
   "id": "69081854",
   "metadata": {},
   "source": [
    "위와 같이 덧셈, 뺄셈 뿐만이 아니라 사칙연산에 대해서 동일하게 작용하는 것을 알 수 있습니다.\n",
    "\n",
    "`*`는 행렬곱이 아닌 원소끼리의 사칙연산이라는 것을 알 수 있습니다."
   ]
  },
  {
   "cell_type": "markdown",
   "id": "afa83877",
   "metadata": {},
   "source": [
    "### 1. sum()\n",
    "\n",
    "배열의 원소들의 총합을 구하려면 sum을 이용할 수 있습니다.\n",
    "\n",
    "2차원 이상이 되었을 때부터는 `axis`를 통해서 축을 정해줄 수 있습니다."
   ]
  },
  {
   "cell_type": "code",
   "execution_count": 10,
   "id": "f193812a",
   "metadata": {
    "scrolled": true
   },
   "outputs": [
    {
     "name": "stdout",
     "output_type": "stream",
     "text": [
      "6\n",
      "21\n"
     ]
    }
   ],
   "source": [
    "arr = np.array([1, 2, 3])\n",
    "\n",
    "print(np.sum(arr))\n",
    "\n",
    "arr = np.array([[1,2,3], [4,5,6]])\n",
    "\n",
    "print(np.sum(arr))"
   ]
  },
  {
   "cell_type": "markdown",
   "id": "58af58da",
   "metadata": {},
   "source": [
    "### 2. max()\n",
    "\n",
    "축을 따라 최댓값을 반환합니다.\n",
    "\n",
    "2차원 이상이 되었을 때부터는 `axis`를 통해서 축을 정해줄 수 있습니다."
   ]
  },
  {
   "cell_type": "code",
   "execution_count": 11,
   "id": "ea748637",
   "metadata": {},
   "outputs": [
    {
     "name": "stdout",
     "output_type": "stream",
     "text": [
      "3\n",
      "6\n",
      "6\n",
      "[7 8 9]\n",
      "[3 6 9]\n",
      "9\n"
     ]
    }
   ],
   "source": [
    "arr = np.array([1, 2, 3])\n",
    "\n",
    "print(np.max(arr))\n",
    "\n",
    "arr = np.array([[1,2,3], [4,5,6]])\n",
    "\n",
    "print(np.max(arr))\n",
    "print(arr.max())\n",
    "\n",
    "\n",
    "data = [[1,2,3], [4,5,6], [7,8,9]]\n",
    "arr = np.array(data)\n",
    "print(np.max(arr, axis=0))\n",
    "print(np.max(arr, axis=1))\n",
    "print(arr.max())"
   ]
  },
  {
   "cell_type": "markdown",
   "id": "31d06160",
   "metadata": {},
   "source": [
    "### 3. min()\n",
    "\n",
    "축을 따라 최솟값을 반환합니다."
   ]
  },
  {
   "cell_type": "code",
   "execution_count": 12,
   "id": "570c7c1a",
   "metadata": {},
   "outputs": [
    {
     "name": "stdout",
     "output_type": "stream",
     "text": [
      "1\n",
      "1\n",
      "1\n",
      "[1 2 3]\n",
      "[1 4 7]\n",
      "1\n"
     ]
    }
   ],
   "source": [
    "arr = np.array([1, 2, 3])\n",
    "\n",
    "print(np.min(arr))\n",
    "\n",
    "arr = np.array([[1,2,3], [4,5,6]])\n",
    "\n",
    "print(np.min(arr))\n",
    "print(arr.min())\n",
    "\n",
    "\n",
    "data = [[1,2,3], [4,5,6], [7,8,9]]\n",
    "arr = np.array(data)\n",
    "print(np.min(arr, axis=0))\n",
    "print(np.min(arr, axis=1))\n",
    "print(arr.min())"
   ]
  },
  {
   "cell_type": "markdown",
   "id": "1ea4aa1d",
   "metadata": {},
   "source": [
    "### 4. mean()\n",
    "\n",
    "`mean()` 함수는 지정된 축을 따라 산술 평균을 계산합니다."
   ]
  },
  {
   "cell_type": "code",
   "execution_count": 13,
   "id": "70cc1125",
   "metadata": {},
   "outputs": [
    {
     "name": "stdout",
     "output_type": "stream",
     "text": [
      "2.0\n",
      "3.5\n",
      "3.5\n",
      "[4. 5. 6.]\n",
      "[2. 5. 8.]\n",
      "5.0\n"
     ]
    }
   ],
   "source": [
    "arr = np.array([1, 2, 3])\n",
    "\n",
    "print(np.mean(arr))\n",
    "\n",
    "arr = np.array([[1,2,3], [4,5,6]])\n",
    "\n",
    "print(np.mean(arr))\n",
    "print(arr.mean())\n",
    "\n",
    "\n",
    "data = [[1,2,3], [4,5,6], [7,8,9]]\n",
    "arr = np.array(data)\n",
    "print(np.mean(arr, axis=0))\n",
    "print(np.mean(arr, axis=1))\n",
    "print(arr.mean())"
   ]
  },
  {
   "cell_type": "markdown",
   "id": "835b0406",
   "metadata": {},
   "source": [
    "### 5. std()\n",
    "\n",
    "`std()` 함수는 지정된 축을 따라 표준 편차를 계산합니다."
   ]
  },
  {
   "cell_type": "code",
   "execution_count": 14,
   "id": "ba0ccac9",
   "metadata": {},
   "outputs": [
    {
     "name": "stdout",
     "output_type": "stream",
     "text": [
      "0.816496580927726\n",
      "1.707825127659933\n",
      "1.707825127659933\n",
      "[2.44948974 2.44948974 2.44948974]\n",
      "[0.81649658 0.81649658 0.81649658]\n",
      "2.581988897471611\n"
     ]
    }
   ],
   "source": [
    "arr = np.array([1, 2, 3])\n",
    "\n",
    "print(np.std(arr))\n",
    "\n",
    "arr = np.array([[1,2,3], [4,5,6]])\n",
    "\n",
    "print(np.std(arr))\n",
    "print(arr.std())\n",
    "\n",
    "\n",
    "data = [[1,2,3], [4,5,6], [7,8,9]]\n",
    "arr = np.array(data)\n",
    "print(np.std(arr, axis=0))\n",
    "print(np.std(arr, axis=1))\n",
    "print(arr.std())"
   ]
  },
  {
   "cell_type": "markdown",
   "id": "6a78276d",
   "metadata": {},
   "source": [
    "### 6. prod()\n",
    "\n",
    "`prod()`함수는 주어진 축에서 배열 요소의 곱을 반환합니다."
   ]
  },
  {
   "cell_type": "code",
   "execution_count": 15,
   "id": "9b05872f",
   "metadata": {},
   "outputs": [
    {
     "name": "stdout",
     "output_type": "stream",
     "text": [
      "6\n",
      "720\n",
      "720\n",
      "[ 28  80 162]\n",
      "[  6 120 504]\n",
      "362880\n"
     ]
    }
   ],
   "source": [
    "arr = np.array([1, 2, 3])\n",
    "\n",
    "print(np.prod(arr))\n",
    "\n",
    "arr = np.array([[1,2,3], [4,5,6]])\n",
    "\n",
    "print(np.prod(arr))\n",
    "print(arr.prod())\n",
    "\n",
    "\n",
    "data = [[1,2,3], [4,5,6], [7,8,9]]\n",
    "arr = np.array(data)\n",
    "print(np.prod(arr, axis=0))\n",
    "print(np.prod(arr, axis=1))\n",
    "print(arr.prod())"
   ]
  },
  {
   "cell_type": "markdown",
   "id": "ce227e46",
   "metadata": {},
   "source": [
    "### 7. dot()\n",
    "\n",
    "`dot()`함수는 두 배열의 내적을 구해줍니다."
   ]
  },
  {
   "cell_type": "code",
   "execution_count": 16,
   "id": "2d0c95c0",
   "metadata": {},
   "outputs": [
    {
     "name": "stdout",
     "output_type": "stream",
     "text": [
      "[[ 4  9]\n",
      " [ 8 15]]\n"
     ]
    }
   ],
   "source": [
    "arr1 = np.array([[2,3], [4,5]])\n",
    "arr2 = np.array([[2,0], [0,3]])\n",
    "print(arr1.dot(arr2))"
   ]
  },
  {
   "cell_type": "markdown",
   "id": "655e4735",
   "metadata": {},
   "source": [
    "### 8. np.matmul()\n",
    "\n",
    "`np.matmul()` 함수는 두 배열의 행렬 곱을 구해줍니다."
   ]
  },
  {
   "cell_type": "code",
   "execution_count": 17,
   "id": "c9af641f",
   "metadata": {},
   "outputs": [
    {
     "name": "stdout",
     "output_type": "stream",
     "text": [
      "[[ 4  9]\n",
      " [ 8 15]]\n"
     ]
    }
   ],
   "source": [
    "arr1 = np.array([[2,3], [4,5]])\n",
    "arr2 = np.array([[2,0], [0,3]])\n",
    "print(np.matmul(arr1, arr2))"
   ]
  },
  {
   "cell_type": "markdown",
   "id": "fca6cebf",
   "metadata": {},
   "source": [
    "<sub>**심화]**</sub>\n",
    "<div style=\"border-left-style: solid;\n",
    "  border-left-color: coral;\n",
    "  padding-left: 10px;\">\n",
    "    <strong>dot 함수</strong><br/>\n",
    "    dot함수에 대해서 조금 더 알아보도록 하겠습니다.<br/>\n",
    "    dot 함수를 이해하기 위해서는 document를 보는 것이 최적입니다.<br/>\n",
    "    <a href=\"https://numpy.org/doc/stable/reference/generated/numpy.dot.html\">https://numpy.org/doc/stable/reference/generated/numpy.dot.html</a>\n",
    "</div>"
   ]
  },
  {
   "cell_type": "markdown",
   "id": "6502b741",
   "metadata": {},
   "source": [
    "- If either a or b is 0-D (scalar), it is equivalent to multiply and using numpy.multiply(a, b) or a * b is preferred.\n",
    "\n",
    "> 번역]\n",
    ">\n",
    "> a 또는 b가 0차원(스칼라)이면 곱하는 것과 동일하며 numpy.multiply(a, b) 또는 a * b를 사용하는 것이 선호됩니다.\n",
    "\n",
    "- If both a and b are 1-D arrays, it is inner product of vectors (without complex conjugation).\n",
    "\n",
    "> 번역]\n",
    ">\n",
    "> a와 b가 모두 1차원 배열이면 벡터의 내적입니다(복소수 켤레 없음).\n",
    "\n",
    "- If both a and b are 2-D arrays, it is matrix multiplication, but using matmul or a @ b is preferred.\n",
    "\n",
    "> 번역]\n",
    ">\n",
    "> a와 b가 모두 2차원 배열이면 행렬 곱셈이지만 matmul이나 a @ b를 사용하는 것이 좋습니다.\n",
    "\n",
    "- If a is an N-D array and b is a 1-D array, it is a sum product over the last axis of a and b.\n",
    "\n",
    "> 번역]\n",
    ">\n",
    "> a가 N차원 배열이고 b가 1차원 배열이면 a와 b의 마지막 축에 대한 합입니다.\n",
    "\n",
    "- If a is an N-D array and b is an M-D array (where M>=2), it is a sum product over the last axis of a and the second-to-last axis of b\n",
    "\n",
    "> 번역]\n",
    ">\n",
    "> a가 N차원 배열이고 b가 M차원 배열이면(여기서 M>=2) a의 마지막 축과 b의 마지막에서 두 번째 축에 대한 합입니다."
   ]
  },
  {
   "cell_type": "code",
   "execution_count": 18,
   "id": "48293ede",
   "metadata": {
    "scrolled": true
   },
   "outputs": [
    {
     "name": "stdout",
     "output_type": "stream",
     "text": [
      "[[[ 0  1  2  3]\n",
      "  [ 4  5  6  7]\n",
      "  [ 8  9 10 11]]\n",
      "\n",
      " [[12 13 14 15]\n",
      "  [16 17 18 19]\n",
      "  [20 21 22 23]]]\n",
      "[[[23 22 21]\n",
      "  [20 19 18]\n",
      "  [17 16 15]\n",
      "  [14 13 12]]\n",
      "\n",
      " [[11 10  9]\n",
      "  [ 8  7  6]\n",
      "  [ 5  4  3]\n",
      "  [ 2  1  0]]]\n",
      "(2, 3, 4)\n",
      "(2, 4, 3)\n",
      "(2, 3, 2, 3)\n",
      "[[[[  96   90   84]\n",
      "   [  24   18   12]]\n",
      "\n",
      "  [[ 392  370  348]\n",
      "   [ 128  106   84]]\n",
      "\n",
      "  [[ 688  650  612]\n",
      "   [ 232  194  156]]]\n",
      "\n",
      "\n",
      " [[[ 984  930  876]\n",
      "   [ 336  282  228]]\n",
      "\n",
      "  [[1280 1210 1140]\n",
      "   [ 440  370  300]]\n",
      "\n",
      "  [[1576 1490 1404]\n",
      "   [ 544  458  372]]]]\n"
     ]
    }
   ],
   "source": [
    "arr1 = np.arange(2*3*4).reshape((2,3,4))\n",
    "arr2 = np.arange(2*3*4)[::-1].reshape((2,4,3)) # 2, 3, 4로 dot 진행시에 마지막 정의에 틀리기에 ValueError\n",
    "\n",
    "print(arr1)\n",
    "print(arr2)\n",
    "\n",
    "print(arr1.shape)\n",
    "print(arr2.shape)\n",
    "\n",
    "result = arr1.dot(arr2)\n",
    "print(result.shape)\n",
    "print(result)"
   ]
  },
  {
   "cell_type": "markdown",
   "id": "fcba88a6",
   "metadata": {},
   "source": [
    "![dot_func01](./assets/numpy_dot01.png)\n",
    "\n",
    "![dot_func02](./assets/numpy_dot02.png)"
   ]
  },
  {
   "cell_type": "markdown",
   "id": "21f65207",
   "metadata": {},
   "source": [
    "<sub>**심화]**</sub>\n",
    "<div style=\"border-left-style: solid;\n",
    "  border-left-color: coral;\n",
    "  padding-left: 10px;\">\n",
    "    <strong>dot와 matmul 차이</strong><br/>\n",
    "    matmul함수는 스칼라에에 의한 곱셈은 허용되지 않습니다. (대신, * 연산자를 사용해주세요.)<br/>\n",
    "    shape(n,k)와 shape(k,m)을 matmul하면 (n,m)의 shape을 가진 배열이 나옵니다.<br/>\n",
    "</div>"
   ]
  },
  {
   "cell_type": "code",
   "execution_count": 19,
   "id": "91ae308b",
   "metadata": {},
   "outputs": [
    {
     "name": "stdout",
     "output_type": "stream",
     "text": [
      "dot Func Shape: (9, 5, 7, 9, 5, 3)\n",
      "dot Func Shape: (9, 5, 7, 3)\n"
     ]
    }
   ],
   "source": [
    "# 3차원 이상의 배열 dot와 matmul의 shape 차이\n",
    "\n",
    "arr1 = np.ones([9, 5, 7, 4])\n",
    "arr2 = np.ones([9, 5, 4, 3])\n",
    "# dot와 동일하게 A배열의 마지막 축의 값과 B의 마지막에서 두번째 축의 값이 같아야함\n",
    "\n",
    "print(f\"dot Func Shape: {arr1.dot(arr2).shape}\") # (9, 5, 7, 9, 5, 3)\n",
    "print(f\"dot Func Shape: {np.matmul(arr1, arr2).shape}\") # (9, 5, 7, 3)"
   ]
  }
 ],
 "metadata": {
  "kernelspec": {
   "display_name": "Python 3",
   "language": "python",
   "name": "python3"
  },
  "language_info": {
   "codemirror_mode": {
    "name": "ipython",
    "version": 3
   },
   "file_extension": ".py",
   "mimetype": "text/x-python",
   "name": "python",
   "nbconvert_exporter": "python",
   "pygments_lexer": "ipython3",
   "version": "3.8.8"
  }
 },
 "nbformat": 4,
 "nbformat_minor": 5
}
