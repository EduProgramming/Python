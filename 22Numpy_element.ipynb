{
 "cells": [
  {
   "cell_type": "markdown",
   "id": "bb1fcde8",
   "metadata": {},
   "source": [
    "# 원소 정렬, 추가, 제거\n",
    "\n",
    "## 1. 정렬\n",
    "\n",
    "### - sort\n",
    "\n",
    "기본으로 정렬은 오름차순이 됩니다."
   ]
  },
  {
   "cell_type": "code",
   "execution_count": 5,
   "id": "cdab3958",
   "metadata": {},
   "outputs": [
    {
     "name": "stdout",
     "output_type": "stream",
     "text": [
      "정렬 전: [2 5 3 1 7 5 9 0]\n",
      "정렬 후: [0 1 2 3 5 5 7 9]\n",
      "내림차순: [9 7 5 5 3 2 1 0]\n"
     ]
    }
   ],
   "source": [
    "import numpy as np\n",
    "\n",
    "data = [2,5,3,1,7,5,9,0]\n",
    "arr = np.array(data)\n",
    "print(f\"정렬 전: {arr}\")\n",
    "\n",
    "arr = np.sort(arr)\n",
    "print(f\"정렬 후: {arr}\")\n",
    "\n",
    "# 내림차순\n",
    "print(f\"내림차순: {arr[::-1]}\")"
   ]
  },
  {
   "cell_type": "code",
   "execution_count": 4,
   "id": "46ccd7fb",
   "metadata": {},
   "outputs": [
    {
     "name": "stdout",
     "output_type": "stream",
     "text": [
      "[[5 1 3]\n",
      " [2 6 4]]\n",
      "[[1 3 5]\n",
      " [2 4 6]]\n",
      "[[5 1 3]\n",
      " [2 6 4]]\n",
      "[[1 3 5]\n",
      " [2 4 6]]\n",
      "[[2 1 3]\n",
      " [5 6 4]]\n"
     ]
    }
   ],
   "source": [
    "# 2차원 배열에서 sort()\n",
    "data = [[5,1,3], [2,6,4]]\n",
    "array = np.array(data)\n",
    "print(array)\n",
    "sort_array = np.sort(array)\n",
    "print(sort_array)\n",
    "\n",
    "# 2차원 배열 - axis정렬\n",
    "print(array)\n",
    "print(np.sort(array, axis=1)) #axis1에 대한 정렬\n",
    "print(np.sort(array, axis=0)) #axis0에 대한 정렬"
   ]
  },
  {
   "cell_type": "code",
   "execution_count": null,
   "id": "1af683dd",
   "metadata": {},
   "outputs": [],
   "source": []
  }
 ],
 "metadata": {
  "kernelspec": {
   "display_name": "Python 3",
   "language": "python",
   "name": "python3"
  },
  "language_info": {
   "codemirror_mode": {
    "name": "ipython",
    "version": 3
   },
   "file_extension": ".py",
   "mimetype": "text/x-python",
   "name": "python",
   "nbconvert_exporter": "python",
   "pygments_lexer": "ipython3",
   "version": "3.8.8"
  }
 },
 "nbformat": 4,
 "nbformat_minor": 5
}
